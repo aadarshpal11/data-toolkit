{
 "cells": [
  {
   "cell_type": "markdown",
   "id": "860f5241-8239-4ff2-ad43-ee6f0ec20059",
   "metadata": {},
   "source": [
    "1.Demonstrate three different methods for creating identical 2D arrays in NumPy. Provide the code for each \n",
    "method and the final output after each method"
   ]
  },
  {
   "cell_type": "code",
   "execution_count": 1,
   "id": "e30bbcd7-974d-41d8-a4d7-e9fe59e894d7",
   "metadata": {},
   "outputs": [
    {
     "name": "stdout",
     "output_type": "stream",
     "text": [
      "Method 1 Output:\n",
      "[[1 2 3]\n",
      " [4 5 6]]\n",
      "\n",
      "Method 2 Output:\n",
      "[[1 2 3]\n",
      " [4 5 6]]\n",
      "\n",
      "Method 3 Output:\n",
      "[[1 2 3]\n",
      " [4 5 6]]\n"
     ]
    }
   ],
   "source": [
    "#Method 1: Using np.array()\n",
    "import numpy as np\n",
    "\n",
    "array1 = np.array([[1, 2, 3], [4, 5, 6]])\n",
    "print(\"Method 1 Output:\")\n",
    "print(array1)\n",
    "\n",
    "#Method 2: Using np.zeros() and reshaping\n",
    "array2 = np.zeros((2, 3), dtype=int)\n",
    "array2[0] = [1, 2, 3]\n",
    "array2[1] = [4, 5, 6]\n",
    "print(\"\\nMethod 2 Output:\")\n",
    "print(array2)\n",
    "\n",
    "# Method 3: Using np.full() and setting values manually\n",
    "array3 = np.full((2, 3), 0)\n",
    "array3[0] = [1, 2, 3]\n",
    "array3[1] = [4, 5, 6]\n",
    "print(\"\\nMethod 3 Output:\")\n",
    "print(array3)"
   ]
  },
  {
   "cell_type": "code",
   "execution_count": null,
   "id": "1e46b523-215b-4485-9adf-9d72a7fb6fd3",
   "metadata": {},
   "outputs": [],
   "source": []
  },
  {
   "cell_type": "markdown",
   "id": "a240fa6a-203b-4535-a157-9efbcc3b7bdd",
   "metadata": {},
   "source": [
    "2.Using the Numpy function, generate an array of 100 evenly spaced numbers between 1 and 10 and \n",
    "Reshape that 1D array into a 2D array"
   ]
  },
  {
   "cell_type": "code",
   "execution_count": 2,
   "id": "5e7cc87e-9396-4932-b50e-8fe6f5e15b5b",
   "metadata": {},
   "outputs": [
    {
     "name": "stdout",
     "output_type": "stream",
     "text": [
      "2D Array:\n",
      "[[ 1.          1.09090909  1.18181818  1.27272727  1.36363636  1.45454545\n",
      "   1.54545455  1.63636364  1.72727273  1.81818182]\n",
      " [ 1.90909091  2.          2.09090909  2.18181818  2.27272727  2.36363636\n",
      "   2.45454545  2.54545455  2.63636364  2.72727273]\n",
      " [ 2.81818182  2.90909091  3.          3.09090909  3.18181818  3.27272727\n",
      "   3.36363636  3.45454545  3.54545455  3.63636364]\n",
      " [ 3.72727273  3.81818182  3.90909091  4.          4.09090909  4.18181818\n",
      "   4.27272727  4.36363636  4.45454545  4.54545455]\n",
      " [ 4.63636364  4.72727273  4.81818182  4.90909091  5.          5.09090909\n",
      "   5.18181818  5.27272727  5.36363636  5.45454545]\n",
      " [ 5.54545455  5.63636364  5.72727273  5.81818182  5.90909091  6.\n",
      "   6.09090909  6.18181818  6.27272727  6.36363636]\n",
      " [ 6.45454545  6.54545455  6.63636364  6.72727273  6.81818182  6.90909091\n",
      "   7.          7.09090909  7.18181818  7.27272727]\n",
      " [ 7.36363636  7.45454545  7.54545455  7.63636364  7.72727273  7.81818182\n",
      "   7.90909091  8.          8.09090909  8.18181818]\n",
      " [ 8.27272727  8.36363636  8.45454545  8.54545455  8.63636364  8.72727273\n",
      "   8.81818182  8.90909091  9.          9.09090909]\n",
      " [ 9.18181818  9.27272727  9.36363636  9.45454545  9.54545455  9.63636364\n",
      "   9.72727273  9.81818182  9.90909091 10.        ]]\n"
     ]
    }
   ],
   "source": [
    "array_1d = np.linspace(1, 10, 100)\n",
    "\n",
    "array_2d = array_1d.reshape(10, 10)\n",
    "print(\"2D Array:\")\n",
    "print(array_2d)"
   ]
  },
  {
   "cell_type": "code",
   "execution_count": null,
   "id": "b28acee6-714f-4dcf-a30e-f67ff747b69f",
   "metadata": {},
   "outputs": [],
   "source": []
  },
  {
   "cell_type": "markdown",
   "id": "cadd4a6a-59bf-499c-9bd4-a7ec8fdc916f",
   "metadata": {},
   "source": [
    "3.Explain the following terms,\n",
    " The difference in np.array, np.asarray and np.asanyarray.\n",
    " The difference between Deep copy and shallow copy"
   ]
  },
  {
   "cell_type": "code",
   "execution_count": 4,
   "id": "dea8f290-b8b0-458a-8fd9-0593349ca2c9",
   "metadata": {},
   "outputs": [],
   "source": [
    "#np.array: Always creates a new array, even if the input is already an array (unless copy=False).\n",
    "#np.asarray: Converts to an array without copying if the input is already an array.\n",
    "#np.asanyarray: Like np.asarray but preserves subclass types like matrix.\n",
    "\n",
    "#Shallow Copy: Creates a new object, but internal references to the same objects are shared. \n",
    "#Changes to mutable objects will reflect in both copies.\n",
    "#Deep Copy: Recursively copies everything, including nested objects, so changes in one do not affect the other."
   ]
  },
  {
   "cell_type": "code",
   "execution_count": null,
   "id": "7eb0579b-aefd-4934-a5af-9399c38eb8dd",
   "metadata": {},
   "outputs": [],
   "source": []
  },
  {
   "cell_type": "markdown",
   "id": "d311bed3-71eb-4ed0-97d1-42ef24f952e1",
   "metadata": {},
   "source": [
    "4.Generate a 3x3 array with random floating-point numbers between 5 and 20. Then, round each number in \n",
    "the array to 2 decimal places."
   ]
  },
  {
   "cell_type": "code",
   "execution_count": 3,
   "id": "927e8b1d-7cd4-4160-bf33-0aac330fa177",
   "metadata": {},
   "outputs": [
    {
     "name": "stdout",
     "output_type": "stream",
     "text": [
      "3x3 Random Array (between 5 and 20) rounded to 2 decimal places:\n",
      "[[19.74 14.74 11.35]\n",
      " [17.03 16.73 12.79]\n",
      " [16.39  9.83  8.85]]\n"
     ]
    }
   ],
   "source": [
    "random_array = np.random.uniform(5, 20, (3, 3))\n",
    "rounded_array = np.round(random_array, 2)\n",
    "\n",
    "print(\"3x3 Random Array (between 5 and 20) rounded to 2 decimal places:\")\n",
    "print(rounded_array)"
   ]
  },
  {
   "cell_type": "code",
   "execution_count": null,
   "id": "da72f5a0-83c9-41f4-8c3d-e5913174ba31",
   "metadata": {},
   "outputs": [],
   "source": []
  },
  {
   "cell_type": "markdown",
   "id": "1248c6a3-9549-46dc-b6d8-53a118367730",
   "metadata": {},
   "source": [
    "5. Create a NumPy array with random integers between 1 and 10 of shape (5, 6). After creating the array \n",
    "perform the following operations:\n",
    " a)Extract all even integers from array.\n",
    " b)Extract all odd integers from array"
   ]
  },
  {
   "cell_type": "code",
   "execution_count": 4,
   "id": "d6ed4d6e-cbb2-49bb-a76a-60396603f0b0",
   "metadata": {},
   "outputs": [
    {
     "name": "stdout",
     "output_type": "stream",
     "text": [
      "Original Array:\n",
      "[[ 1 10  4  8  9  8]\n",
      " [ 6  3  5  9  6  5]\n",
      " [ 3 10  1  7  9  5]\n",
      " [ 4  5  1  4  1  9]\n",
      " [ 2  5  4  3  4  4]]\n",
      "\n",
      "Even Integers:\n",
      "[10  4  8  8  6  6 10  4  4  2  4  4  4]\n",
      "\n",
      "Odd Integers:\n",
      "[1 9 3 5 9 5 3 1 7 9 5 5 1 1 9 5 3]\n"
     ]
    }
   ],
   "source": [
    "random_array = np.random.randint(1, 11, (5, 6))\n",
    "print(\"Original Array:\")\n",
    "print(random_array)\n",
    "\n",
    "even_integers = random_array[random_array % 2 == 0]\n",
    "odd_integers = random_array[random_array % 2 != 0]\n",
    "\n",
    "print(\"\\nEven Integers:\")\n",
    "print(even_integers)\n",
    "\n",
    "print(\"\\nOdd Integers:\")\n",
    "print(odd_integers)"
   ]
  },
  {
   "cell_type": "code",
   "execution_count": null,
   "id": "33b3fcdc-ef77-478e-af0b-0bff437401a3",
   "metadata": {},
   "outputs": [],
   "source": []
  },
  {
   "cell_type": "markdown",
   "id": "a506196e-c579-4a28-8e01-1e84ccc51a95",
   "metadata": {},
   "source": [
    "6.Create a 3D NumPy array of shape (3, 3, 3) containing random integers between 1 and 10. Perform the \n",
    "following operations:\n",
    " a) Find the indices of the maximum values along each depth level (third axis).\n",
    " b) Perform element-wise multiplication of between both array"
   ]
  },
  {
   "cell_type": "code",
   "execution_count": 5,
   "id": "8b1e00a0-2aea-4298-976c-eff18622aba4",
   "metadata": {},
   "outputs": [
    {
     "name": "stdout",
     "output_type": "stream",
     "text": [
      "Original 3D Array:\n",
      "[[[ 9  7  2]\n",
      "  [ 9  6  9]\n",
      "  [ 4  1  5]]\n",
      "\n",
      " [[ 2 10  7]\n",
      "  [ 4  7  1]\n",
      "  [ 6  7  7]]\n",
      "\n",
      " [[ 6  9  6]\n",
      "  [ 6  3  8]\n",
      "  [ 8  1  1]]]\n",
      "\n",
      "Indices of the Maximum Values along each depth level (third axis):\n",
      "[[0 0 2]\n",
      " [1 1 1]\n",
      " [1 2 0]]\n",
      "\n",
      "Element-wise Multiplication of the Array:\n",
      "[[[ 81  49   4]\n",
      "  [ 81  36  81]\n",
      "  [ 16   1  25]]\n",
      "\n",
      " [[  4 100  49]\n",
      "  [ 16  49   1]\n",
      "  [ 36  49  49]]\n",
      "\n",
      " [[ 36  81  36]\n",
      "  [ 36   9  64]\n",
      "  [ 64   1   1]]]\n"
     ]
    }
   ],
   "source": [
    "array_3d = np.random.randint(1, 11, (3, 3, 3))\n",
    "print(\"Original 3D Array:\")\n",
    "print(array_3d)\n",
    "\n",
    "max_indices = np.argmax(array_3d, axis=2)\n",
    "print(\"\\nIndices of the Maximum Values along each depth level (third axis):\")\n",
    "print(max_indices)\n",
    "\n",
    "elementwise_multiplication = array_3d * array_3d\n",
    "print(\"\\nElement-wise Multiplication of the Array:\")\n",
    "print(elementwise_multiplication)"
   ]
  },
  {
   "cell_type": "code",
   "execution_count": null,
   "id": "d232afa4-a7cd-4223-b312-36a68c7099d0",
   "metadata": {},
   "outputs": [],
   "source": []
  },
  {
   "cell_type": "markdown",
   "id": "1fc7e315-709c-4813-ad13-855b0a238597",
   "metadata": {},
   "source": [
    "7.Clean and transform the 'Phone' column in the sample dataset to remove non-numeric characters and \n",
    "convert it to a numeric data type. Also display the table attributes and data types of each column"
   ]
  },
  {
   "cell_type": "code",
   "execution_count": 9,
   "id": "8f823a61-25fc-4838-acce-54e992a66a02",
   "metadata": {},
   "outputs": [],
   "source": [
    "import pandas as pd\n",
    "df_new = pd.read_csv(\"People Data.csv\")"
   ]
  },
  {
   "cell_type": "code",
   "execution_count": 7,
   "id": "67eb8677-6403-43f2-9add-73e96812f670",
   "metadata": {},
   "outputs": [
    {
     "name": "stdout",
     "output_type": "stream",
     "text": [
      "<class 'pandas.core.frame.DataFrame'>\n",
      "RangeIndex: 1000 entries, 0 to 999\n",
      "Data columns (total 10 columns):\n",
      " #   Column         Non-Null Count  Dtype  \n",
      "---  ------         --------------  -----  \n",
      " 0   Index          1000 non-null   int64  \n",
      " 1   User Id        1000 non-null   object \n",
      " 2   First Name     1000 non-null   object \n",
      " 3   Last Name      1000 non-null   object \n",
      " 4   Gender         1000 non-null   object \n",
      " 5   Email          1000 non-null   object \n",
      " 6   Phone          979 non-null    float64\n",
      " 7   Date of birth  1000 non-null   object \n",
      " 8   Job Title      1000 non-null   object \n",
      " 9   Salary         1000 non-null   int64  \n",
      "dtypes: float64(1), int64(2), object(7)\n",
      "memory usage: 78.2+ KB\n"
     ]
    },
    {
     "data": {
      "text/plain": [
       "(None,\n",
       "    Index          User Id First Name Last Name  Gender  \\\n",
       " 0      1  8717bbf45cCDbEe     Shelia   Mahoney    Male   \n",
       " 1      2  3d5AD30A4cD38ed         Jo    Rivers  Female   \n",
       " 2      3  810Ce0F276Badec     Sheryl    Lowery  Female   \n",
       " 3      4  BF2a889C00f0cE1    Whitney    Hooper    Male   \n",
       " 4      5  9afFEafAe1CBBB9    Lindsey      Rice  Female   \n",
       " \n",
       "                            Email         Phone Date of birth  \\\n",
       " 0            pwarner@example.org  8.571398e+09    27-01-2014   \n",
       " 1  fergusonkatherine@example.net           NaN    26-07-1931   \n",
       " 2            fhoward@example.org  5.997821e+09    25-11-2013   \n",
       " 3          zjohnston@example.com           NaN    17-11-2012   \n",
       " 4               elin@example.net  3.904172e+13    15-04-1923   \n",
       " \n",
       "                   Job Title  Salary  \n",
       " 0         Probation officer   90000  \n",
       " 1                    Dancer   80000  \n",
       " 2                      Copy   50000  \n",
       " 3  Counselling psychologist   65000  \n",
       " 4       Biomedical engineer  100000  )"
      ]
     },
     "execution_count": 7,
     "metadata": {},
     "output_type": "execute_result"
    }
   ],
   "source": [
    "df_new['Phone'] = df_new['Phone'].str.replace(r'\\D', '', regex=True)\n",
    "\n",
    "df_new['Phone'] = pd.to_numeric(df_new['Phone'], errors='coerce')\n",
    "\n",
    "df_new_info_after = df_new.info()\n",
    "df_new_head_after = df_new.head()\n",
    "df_new_info_after, df_new_head_after"
   ]
  },
  {
   "cell_type": "code",
   "execution_count": null,
   "id": "256850fd-86c9-4b1f-86a5-c516a8a594ad",
   "metadata": {},
   "outputs": [],
   "source": []
  },
  {
   "cell_type": "markdown",
   "id": "250141af-7638-4d35-b3d1-cd41d5c17c72",
   "metadata": {},
   "source": [
    "8. Perform the following tasks using people dataset:\n",
    " a) Read the 'data.csv' file using pandas, skipping the first 50 rows.\n",
    " b) Only read the columns: 'Last Name', ‘Gender’,’Email’,‘Phone’ and ‘Salary’ from the file.\n",
    " c) Display the first 10 rows of the filtered dataset.\n",
    " d) Extract the ‘Salary’' column as a Series and display its last 5 values"
   ]
  },
  {
   "cell_type": "code",
   "execution_count": 9,
   "id": "3b3a7801-12da-431e-b2b5-e54378008d92",
   "metadata": {},
   "outputs": [
    {
     "data": {
      "text/html": [
       "<div>\n",
       "<style scoped>\n",
       "    .dataframe tbody tr th:only-of-type {\n",
       "        vertical-align: middle;\n",
       "    }\n",
       "\n",
       "    .dataframe tbody tr th {\n",
       "        vertical-align: top;\n",
       "    }\n",
       "\n",
       "    .dataframe thead th {\n",
       "        text-align: right;\n",
       "    }\n",
       "</style>\n",
       "<table border=\"1\" class=\"dataframe\">\n",
       "  <thead>\n",
       "    <tr style=\"text-align: right;\">\n",
       "      <th></th>\n",
       "      <th>50</th>\n",
       "      <th>afF3018e9cdd1dA</th>\n",
       "      <th>George</th>\n",
       "      <th>Mercer</th>\n",
       "      <th>Female</th>\n",
       "      <th>douglascontreras@example.net</th>\n",
       "      <th>+1-326-669-0118x4341</th>\n",
       "      <th>11-09-1941</th>\n",
       "      <th>Human resources officer</th>\n",
       "      <th>70000</th>\n",
       "    </tr>\n",
       "  </thead>\n",
       "  <tbody>\n",
       "    <tr>\n",
       "      <th>0</th>\n",
       "      <td>51</td>\n",
       "      <td>CccE5DAb6E288e5</td>\n",
       "      <td>Jo</td>\n",
       "      <td>Zavala</td>\n",
       "      <td>Male</td>\n",
       "      <td>pamela64@example.net</td>\n",
       "      <td>001-859-448-9935x54536</td>\n",
       "      <td>23-11-1992</td>\n",
       "      <td>Nurse, adult</td>\n",
       "      <td>80000</td>\n",
       "    </tr>\n",
       "    <tr>\n",
       "      <th>1</th>\n",
       "      <td>52</td>\n",
       "      <td>DfBDc3621D4bcec</td>\n",
       "      <td>Joshua</td>\n",
       "      <td>Carey</td>\n",
       "      <td>Female</td>\n",
       "      <td>dianashepherd@example.net</td>\n",
       "      <td>001-274-739-8470x814</td>\n",
       "      <td>07-01-1915</td>\n",
       "      <td>Seismic interpreter</td>\n",
       "      <td>70000</td>\n",
       "    </tr>\n",
       "    <tr>\n",
       "      <th>2</th>\n",
       "      <td>53</td>\n",
       "      <td>f55b0A249f5E44D</td>\n",
       "      <td>Rickey</td>\n",
       "      <td>Hobbs</td>\n",
       "      <td>Female</td>\n",
       "      <td>ingramtiffany@example.org</td>\n",
       "      <td>241.179.9509x498</td>\n",
       "      <td>01-07-1910</td>\n",
       "      <td>Barrister</td>\n",
       "      <td>60000</td>\n",
       "    </tr>\n",
       "    <tr>\n",
       "      <th>3</th>\n",
       "      <td>54</td>\n",
       "      <td>Ed71DcfaBFd0beE</td>\n",
       "      <td>Robyn</td>\n",
       "      <td>Reilly</td>\n",
       "      <td>Male</td>\n",
       "      <td>carriecrawford@example.org</td>\n",
       "      <td>207.797.8345x6177</td>\n",
       "      <td>27-07-1982</td>\n",
       "      <td>Engineer, structural</td>\n",
       "      <td>100000</td>\n",
       "    </tr>\n",
       "    <tr>\n",
       "      <th>4</th>\n",
       "      <td>55</td>\n",
       "      <td>FDaFD0c3f5387EC</td>\n",
       "      <td>Christina</td>\n",
       "      <td>Conrad</td>\n",
       "      <td>Male</td>\n",
       "      <td>fuentesclaudia@example.net</td>\n",
       "      <td>001-599-042-7428x143</td>\n",
       "      <td>06-01-1998</td>\n",
       "      <td>Producer, radio</td>\n",
       "      <td>50000</td>\n",
       "    </tr>\n",
       "    <tr>\n",
       "      <th>...</th>\n",
       "      <td>...</td>\n",
       "      <td>...</td>\n",
       "      <td>...</td>\n",
       "      <td>...</td>\n",
       "      <td>...</td>\n",
       "      <td>...</td>\n",
       "      <td>...</td>\n",
       "      <td>...</td>\n",
       "      <td>...</td>\n",
       "      <td>...</td>\n",
       "    </tr>\n",
       "    <tr>\n",
       "      <th>945</th>\n",
       "      <td>996</td>\n",
       "      <td>fedF4c7Fd9e7cFa</td>\n",
       "      <td>Kurt</td>\n",
       "      <td>Bryant</td>\n",
       "      <td>Female</td>\n",
       "      <td>lyonsdaisy@example.net</td>\n",
       "      <td>021.775.2933</td>\n",
       "      <td>05-01-1959</td>\n",
       "      <td>Personnel officer</td>\n",
       "      <td>90000</td>\n",
       "    </tr>\n",
       "    <tr>\n",
       "      <th>946</th>\n",
       "      <td>997</td>\n",
       "      <td>ECddaFEDdEc4FAB</td>\n",
       "      <td>Donna</td>\n",
       "      <td>Barry</td>\n",
       "      <td>Female</td>\n",
       "      <td>dariusbryan@example.com</td>\n",
       "      <td>001-149-710-7799x721</td>\n",
       "      <td>06-10-2001</td>\n",
       "      <td>Education administrator</td>\n",
       "      <td>50000</td>\n",
       "    </tr>\n",
       "    <tr>\n",
       "      <th>947</th>\n",
       "      <td>998</td>\n",
       "      <td>2adde51d8B8979E</td>\n",
       "      <td>Cathy</td>\n",
       "      <td>Mckinney</td>\n",
       "      <td>Female</td>\n",
       "      <td>georgechan@example.org</td>\n",
       "      <td>+1-750-774-4128x33265</td>\n",
       "      <td>13-05-1918</td>\n",
       "      <td>Commercial/residential surveyor</td>\n",
       "      <td>60000</td>\n",
       "    </tr>\n",
       "    <tr>\n",
       "      <th>948</th>\n",
       "      <td>999</td>\n",
       "      <td>Fb2FE369D1E171A</td>\n",
       "      <td>Jermaine</td>\n",
       "      <td>Phelps</td>\n",
       "      <td>Male</td>\n",
       "      <td>wanda04@example.net</td>\n",
       "      <td>(915)292-2254</td>\n",
       "      <td>31-08-1971</td>\n",
       "      <td>Ambulance person</td>\n",
       "      <td>100000</td>\n",
       "    </tr>\n",
       "    <tr>\n",
       "      <th>949</th>\n",
       "      <td>1000</td>\n",
       "      <td>8b756f6231DDC6e</td>\n",
       "      <td>Lee</td>\n",
       "      <td>Tran</td>\n",
       "      <td>Female</td>\n",
       "      <td>deannablack@example.org</td>\n",
       "      <td>079.752.5424x67259</td>\n",
       "      <td>24-01-1947</td>\n",
       "      <td>Nurse, learning disability</td>\n",
       "      <td>90000</td>\n",
       "    </tr>\n",
       "  </tbody>\n",
       "</table>\n",
       "<p>950 rows × 10 columns</p>\n",
       "</div>"
      ],
      "text/plain": [
       "       50  afF3018e9cdd1dA     George    Mercer  Female  \\\n",
       "0      51  CccE5DAb6E288e5         Jo    Zavala    Male   \n",
       "1      52  DfBDc3621D4bcec     Joshua     Carey  Female   \n",
       "2      53  f55b0A249f5E44D     Rickey     Hobbs  Female   \n",
       "3      54  Ed71DcfaBFd0beE      Robyn    Reilly    Male   \n",
       "4      55  FDaFD0c3f5387EC  Christina    Conrad    Male   \n",
       "..    ...              ...        ...       ...     ...   \n",
       "945   996  fedF4c7Fd9e7cFa       Kurt    Bryant  Female   \n",
       "946   997  ECddaFEDdEc4FAB      Donna     Barry  Female   \n",
       "947   998  2adde51d8B8979E      Cathy  Mckinney  Female   \n",
       "948   999  Fb2FE369D1E171A   Jermaine    Phelps    Male   \n",
       "949  1000  8b756f6231DDC6e        Lee      Tran  Female   \n",
       "\n",
       "    douglascontreras@example.net    +1-326-669-0118x4341  11-09-1941  \\\n",
       "0           pamela64@example.net  001-859-448-9935x54536  23-11-1992   \n",
       "1      dianashepherd@example.net    001-274-739-8470x814  07-01-1915   \n",
       "2      ingramtiffany@example.org        241.179.9509x498  01-07-1910   \n",
       "3     carriecrawford@example.org       207.797.8345x6177  27-07-1982   \n",
       "4     fuentesclaudia@example.net    001-599-042-7428x143  06-01-1998   \n",
       "..                           ...                     ...         ...   \n",
       "945       lyonsdaisy@example.net            021.775.2933  05-01-1959   \n",
       "946      dariusbryan@example.com    001-149-710-7799x721  06-10-2001   \n",
       "947       georgechan@example.org   +1-750-774-4128x33265  13-05-1918   \n",
       "948          wanda04@example.net           (915)292-2254  31-08-1971   \n",
       "949      deannablack@example.org      079.752.5424x67259  24-01-1947   \n",
       "\n",
       "             Human resources officer   70000  \n",
       "0                       Nurse, adult   80000  \n",
       "1                Seismic interpreter   70000  \n",
       "2                          Barrister   60000  \n",
       "3               Engineer, structural  100000  \n",
       "4                    Producer, radio   50000  \n",
       "..                               ...     ...  \n",
       "945                Personnel officer   90000  \n",
       "946          Education administrator   50000  \n",
       "947  Commercial/residential surveyor   60000  \n",
       "948                 Ambulance person  100000  \n",
       "949       Nurse, learning disability   90000  \n",
       "\n",
       "[950 rows x 10 columns]"
      ]
     },
     "execution_count": 9,
     "metadata": {},
     "output_type": "execute_result"
    }
   ],
   "source": [
    "#a) Read the 'data.csv' file using pandas, skipping the first 50 rows. \n",
    "pd.read_csv(\"People Data.csv\",skiprows = 50)"
   ]
  },
  {
   "cell_type": "code",
   "execution_count": 11,
   "id": "c508a2e4-a5b6-4c76-a229-bc4ef66fba13",
   "metadata": {},
   "outputs": [
    {
     "data": {
      "text/html": [
       "<div>\n",
       "<style scoped>\n",
       "    .dataframe tbody tr th:only-of-type {\n",
       "        vertical-align: middle;\n",
       "    }\n",
       "\n",
       "    .dataframe tbody tr th {\n",
       "        vertical-align: top;\n",
       "    }\n",
       "\n",
       "    .dataframe thead th {\n",
       "        text-align: right;\n",
       "    }\n",
       "</style>\n",
       "<table border=\"1\" class=\"dataframe\">\n",
       "  <thead>\n",
       "    <tr style=\"text-align: right;\">\n",
       "      <th></th>\n",
       "      <th>Last Name</th>\n",
       "      <th>Gender</th>\n",
       "      <th>Email</th>\n",
       "      <th>Phone</th>\n",
       "      <th>Salary</th>\n",
       "    </tr>\n",
       "  </thead>\n",
       "  <tbody>\n",
       "    <tr>\n",
       "      <th>0</th>\n",
       "      <td>Mahoney</td>\n",
       "      <td>Male</td>\n",
       "      <td>pwarner@example.org</td>\n",
       "      <td>857.139.8239</td>\n",
       "      <td>90000</td>\n",
       "    </tr>\n",
       "    <tr>\n",
       "      <th>1</th>\n",
       "      <td>Rivers</td>\n",
       "      <td>Female</td>\n",
       "      <td>fergusonkatherine@example.net</td>\n",
       "      <td>NaN</td>\n",
       "      <td>80000</td>\n",
       "    </tr>\n",
       "    <tr>\n",
       "      <th>2</th>\n",
       "      <td>Lowery</td>\n",
       "      <td>Female</td>\n",
       "      <td>fhoward@example.org</td>\n",
       "      <td>(599)782-0605</td>\n",
       "      <td>50000</td>\n",
       "    </tr>\n",
       "    <tr>\n",
       "      <th>3</th>\n",
       "      <td>Hooper</td>\n",
       "      <td>Male</td>\n",
       "      <td>zjohnston@example.com</td>\n",
       "      <td>NaN</td>\n",
       "      <td>65000</td>\n",
       "    </tr>\n",
       "    <tr>\n",
       "      <th>4</th>\n",
       "      <td>Rice</td>\n",
       "      <td>Female</td>\n",
       "      <td>elin@example.net</td>\n",
       "      <td>(390)417-1635x3010</td>\n",
       "      <td>100000</td>\n",
       "    </tr>\n",
       "    <tr>\n",
       "      <th>...</th>\n",
       "      <td>...</td>\n",
       "      <td>...</td>\n",
       "      <td>...</td>\n",
       "      <td>...</td>\n",
       "      <td>...</td>\n",
       "    </tr>\n",
       "    <tr>\n",
       "      <th>995</th>\n",
       "      <td>Bryant</td>\n",
       "      <td>Female</td>\n",
       "      <td>lyonsdaisy@example.net</td>\n",
       "      <td>021.775.2933</td>\n",
       "      <td>90000</td>\n",
       "    </tr>\n",
       "    <tr>\n",
       "      <th>996</th>\n",
       "      <td>Barry</td>\n",
       "      <td>Female</td>\n",
       "      <td>dariusbryan@example.com</td>\n",
       "      <td>001-149-710-7799x721</td>\n",
       "      <td>50000</td>\n",
       "    </tr>\n",
       "    <tr>\n",
       "      <th>997</th>\n",
       "      <td>Mckinney</td>\n",
       "      <td>Female</td>\n",
       "      <td>georgechan@example.org</td>\n",
       "      <td>+1-750-774-4128x33265</td>\n",
       "      <td>60000</td>\n",
       "    </tr>\n",
       "    <tr>\n",
       "      <th>998</th>\n",
       "      <td>Phelps</td>\n",
       "      <td>Male</td>\n",
       "      <td>wanda04@example.net</td>\n",
       "      <td>(915)292-2254</td>\n",
       "      <td>100000</td>\n",
       "    </tr>\n",
       "    <tr>\n",
       "      <th>999</th>\n",
       "      <td>Tran</td>\n",
       "      <td>Female</td>\n",
       "      <td>deannablack@example.org</td>\n",
       "      <td>079.752.5424x67259</td>\n",
       "      <td>90000</td>\n",
       "    </tr>\n",
       "  </tbody>\n",
       "</table>\n",
       "<p>1000 rows × 5 columns</p>\n",
       "</div>"
      ],
      "text/plain": [
       "    Last Name  Gender                          Email                  Phone  \\\n",
       "0     Mahoney    Male            pwarner@example.org           857.139.8239   \n",
       "1      Rivers  Female  fergusonkatherine@example.net                    NaN   \n",
       "2      Lowery  Female            fhoward@example.org          (599)782-0605   \n",
       "3      Hooper    Male          zjohnston@example.com                    NaN   \n",
       "4        Rice  Female               elin@example.net     (390)417-1635x3010   \n",
       "..        ...     ...                            ...                    ...   \n",
       "995    Bryant  Female         lyonsdaisy@example.net           021.775.2933   \n",
       "996     Barry  Female        dariusbryan@example.com   001-149-710-7799x721   \n",
       "997  Mckinney  Female         georgechan@example.org  +1-750-774-4128x33265   \n",
       "998    Phelps    Male            wanda04@example.net          (915)292-2254   \n",
       "999      Tran  Female        deannablack@example.org     079.752.5424x67259   \n",
       "\n",
       "     Salary  \n",
       "0     90000  \n",
       "1     80000  \n",
       "2     50000  \n",
       "3     65000  \n",
       "4    100000  \n",
       "..      ...  \n",
       "995   90000  \n",
       "996   50000  \n",
       "997   60000  \n",
       "998  100000  \n",
       "999   90000  \n",
       "\n",
       "[1000 rows x 5 columns]"
      ]
     },
     "execution_count": 11,
     "metadata": {},
     "output_type": "execute_result"
    }
   ],
   "source": [
    "#b)Only read the columns: 'Last Name', ‘Gender’,’Email’,‘Phone’ and ‘Salary’ from the file.\n",
    "pd.read_csv(\"People Data.csv\",usecols=[\"Last Name\",\"Gender\",\"Email\",\"Phone\",\"Salary\"])"
   ]
  },
  {
   "cell_type": "code",
   "execution_count": 12,
   "id": "4356598c-a594-48c6-8d4b-83355a43bb91",
   "metadata": {},
   "outputs": [
    {
     "data": {
      "text/html": [
       "<div>\n",
       "<style scoped>\n",
       "    .dataframe tbody tr th:only-of-type {\n",
       "        vertical-align: middle;\n",
       "    }\n",
       "\n",
       "    .dataframe tbody tr th {\n",
       "        vertical-align: top;\n",
       "    }\n",
       "\n",
       "    .dataframe thead th {\n",
       "        text-align: right;\n",
       "    }\n",
       "</style>\n",
       "<table border=\"1\" class=\"dataframe\">\n",
       "  <thead>\n",
       "    <tr style=\"text-align: right;\">\n",
       "      <th></th>\n",
       "      <th>Index</th>\n",
       "      <th>User Id</th>\n",
       "      <th>First Name</th>\n",
       "      <th>Last Name</th>\n",
       "      <th>Gender</th>\n",
       "      <th>Email</th>\n",
       "      <th>Phone</th>\n",
       "      <th>Date of birth</th>\n",
       "      <th>Job Title</th>\n",
       "      <th>Salary</th>\n",
       "    </tr>\n",
       "  </thead>\n",
       "  <tbody>\n",
       "    <tr>\n",
       "      <th>0</th>\n",
       "      <td>1</td>\n",
       "      <td>8717bbf45cCDbEe</td>\n",
       "      <td>Shelia</td>\n",
       "      <td>Mahoney</td>\n",
       "      <td>Male</td>\n",
       "      <td>pwarner@example.org</td>\n",
       "      <td>8.571398e+09</td>\n",
       "      <td>27-01-2014</td>\n",
       "      <td>Probation officer</td>\n",
       "      <td>90000</td>\n",
       "    </tr>\n",
       "    <tr>\n",
       "      <th>1</th>\n",
       "      <td>2</td>\n",
       "      <td>3d5AD30A4cD38ed</td>\n",
       "      <td>Jo</td>\n",
       "      <td>Rivers</td>\n",
       "      <td>Female</td>\n",
       "      <td>fergusonkatherine@example.net</td>\n",
       "      <td>NaN</td>\n",
       "      <td>26-07-1931</td>\n",
       "      <td>Dancer</td>\n",
       "      <td>80000</td>\n",
       "    </tr>\n",
       "    <tr>\n",
       "      <th>2</th>\n",
       "      <td>3</td>\n",
       "      <td>810Ce0F276Badec</td>\n",
       "      <td>Sheryl</td>\n",
       "      <td>Lowery</td>\n",
       "      <td>Female</td>\n",
       "      <td>fhoward@example.org</td>\n",
       "      <td>5.997821e+09</td>\n",
       "      <td>25-11-2013</td>\n",
       "      <td>Copy</td>\n",
       "      <td>50000</td>\n",
       "    </tr>\n",
       "    <tr>\n",
       "      <th>3</th>\n",
       "      <td>4</td>\n",
       "      <td>BF2a889C00f0cE1</td>\n",
       "      <td>Whitney</td>\n",
       "      <td>Hooper</td>\n",
       "      <td>Male</td>\n",
       "      <td>zjohnston@example.com</td>\n",
       "      <td>NaN</td>\n",
       "      <td>17-11-2012</td>\n",
       "      <td>Counselling psychologist</td>\n",
       "      <td>65000</td>\n",
       "    </tr>\n",
       "    <tr>\n",
       "      <th>4</th>\n",
       "      <td>5</td>\n",
       "      <td>9afFEafAe1CBBB9</td>\n",
       "      <td>Lindsey</td>\n",
       "      <td>Rice</td>\n",
       "      <td>Female</td>\n",
       "      <td>elin@example.net</td>\n",
       "      <td>3.904172e+13</td>\n",
       "      <td>15-04-1923</td>\n",
       "      <td>Biomedical engineer</td>\n",
       "      <td>100000</td>\n",
       "    </tr>\n",
       "    <tr>\n",
       "      <th>5</th>\n",
       "      <td>6</td>\n",
       "      <td>aF75e6dDEBC5b66</td>\n",
       "      <td>Sherry</td>\n",
       "      <td>Caldwell</td>\n",
       "      <td>Male</td>\n",
       "      <td>kaitlin13@example.net</td>\n",
       "      <td>8.537801e+09</td>\n",
       "      <td>06-08-1917</td>\n",
       "      <td>Higher education lecturer</td>\n",
       "      <td>50000</td>\n",
       "    </tr>\n",
       "    <tr>\n",
       "      <th>6</th>\n",
       "      <td>7</td>\n",
       "      <td>efeb05c7Cc94EA3</td>\n",
       "      <td>Ernest</td>\n",
       "      <td>Hoffman</td>\n",
       "      <td>Male</td>\n",
       "      <td>jeffharvey@example.com</td>\n",
       "      <td>9.365575e+12</td>\n",
       "      <td>22-12-1984</td>\n",
       "      <td>Health visitor</td>\n",
       "      <td>60000</td>\n",
       "    </tr>\n",
       "    <tr>\n",
       "      <th>7</th>\n",
       "      <td>8</td>\n",
       "      <td>fb1BF3FED57E9d7</td>\n",
       "      <td>Doris</td>\n",
       "      <td>Andersen</td>\n",
       "      <td>Male</td>\n",
       "      <td>alicia33@example.org</td>\n",
       "      <td>4.709523e+09</td>\n",
       "      <td>02-12-2016</td>\n",
       "      <td>Air broker</td>\n",
       "      <td>65000</td>\n",
       "    </tr>\n",
       "    <tr>\n",
       "      <th>8</th>\n",
       "      <td>9</td>\n",
       "      <td>421fAB9a3b98F30</td>\n",
       "      <td>Cheryl</td>\n",
       "      <td>Mays</td>\n",
       "      <td>Male</td>\n",
       "      <td>jake50@example.com</td>\n",
       "      <td>1.382048e+08</td>\n",
       "      <td>16-12-2012</td>\n",
       "      <td>Designer, multimedia</td>\n",
       "      <td>50000</td>\n",
       "    </tr>\n",
       "    <tr>\n",
       "      <th>9</th>\n",
       "      <td>10</td>\n",
       "      <td>4A42Fe10dB717CB</td>\n",
       "      <td>Harry</td>\n",
       "      <td>Mitchell</td>\n",
       "      <td>Male</td>\n",
       "      <td>lanechristina@example.net</td>\n",
       "      <td>5.609035e+13</td>\n",
       "      <td>29-06-1953</td>\n",
       "      <td>Insurance account manager</td>\n",
       "      <td>50000</td>\n",
       "    </tr>\n",
       "  </tbody>\n",
       "</table>\n",
       "</div>"
      ],
      "text/plain": [
       "   Index          User Id First Name Last Name  Gender  \\\n",
       "0      1  8717bbf45cCDbEe     Shelia   Mahoney    Male   \n",
       "1      2  3d5AD30A4cD38ed         Jo    Rivers  Female   \n",
       "2      3  810Ce0F276Badec     Sheryl    Lowery  Female   \n",
       "3      4  BF2a889C00f0cE1    Whitney    Hooper    Male   \n",
       "4      5  9afFEafAe1CBBB9    Lindsey      Rice  Female   \n",
       "5      6  aF75e6dDEBC5b66     Sherry  Caldwell    Male   \n",
       "6      7  efeb05c7Cc94EA3     Ernest   Hoffman    Male   \n",
       "7      8  fb1BF3FED57E9d7      Doris  Andersen    Male   \n",
       "8      9  421fAB9a3b98F30     Cheryl      Mays    Male   \n",
       "9     10  4A42Fe10dB717CB      Harry  Mitchell    Male   \n",
       "\n",
       "                           Email         Phone Date of birth  \\\n",
       "0            pwarner@example.org  8.571398e+09    27-01-2014   \n",
       "1  fergusonkatherine@example.net           NaN    26-07-1931   \n",
       "2            fhoward@example.org  5.997821e+09    25-11-2013   \n",
       "3          zjohnston@example.com           NaN    17-11-2012   \n",
       "4               elin@example.net  3.904172e+13    15-04-1923   \n",
       "5          kaitlin13@example.net  8.537801e+09    06-08-1917   \n",
       "6         jeffharvey@example.com  9.365575e+12    22-12-1984   \n",
       "7           alicia33@example.org  4.709523e+09    02-12-2016   \n",
       "8             jake50@example.com  1.382048e+08    16-12-2012   \n",
       "9      lanechristina@example.net  5.609035e+13    29-06-1953   \n",
       "\n",
       "                   Job Title  Salary  \n",
       "0          Probation officer   90000  \n",
       "1                     Dancer   80000  \n",
       "2                       Copy   50000  \n",
       "3   Counselling psychologist   65000  \n",
       "4        Biomedical engineer  100000  \n",
       "5  Higher education lecturer   50000  \n",
       "6             Health visitor   60000  \n",
       "7                 Air broker   65000  \n",
       "8       Designer, multimedia   50000  \n",
       "9  Insurance account manager   50000  "
      ]
     },
     "execution_count": 12,
     "metadata": {},
     "output_type": "execute_result"
    }
   ],
   "source": [
    "#c) Display the first 10 rows of the filtered dataset. \n",
    "df_new.head(10)"
   ]
  },
  {
   "cell_type": "code",
   "execution_count": 13,
   "id": "fbac3afe-63a2-49d5-8c3e-e0516929bd4e",
   "metadata": {},
   "outputs": [],
   "source": [
    "#d) Extract the ‘Salary’' column as a Series and display its last 5 values\n",
    "s=df_new[\"Salary\"]"
   ]
  },
  {
   "cell_type": "code",
   "execution_count": 16,
   "id": "7ed2a4c5-1459-407f-b038-110f4ad3b26f",
   "metadata": {},
   "outputs": [
    {
     "data": {
      "text/plain": [
       "995     90000\n",
       "996     50000\n",
       "997     60000\n",
       "998    100000\n",
       "999     90000\n",
       "Name: Salary, dtype: int64"
      ]
     },
     "execution_count": 16,
     "metadata": {},
     "output_type": "execute_result"
    }
   ],
   "source": [
    "s.tail(5)"
   ]
  },
  {
   "cell_type": "code",
   "execution_count": null,
   "id": "c7dd6ac8-e240-4716-9962-8f2d9470df1a",
   "metadata": {},
   "outputs": [],
   "source": []
  },
  {
   "cell_type": "markdown",
   "id": "99859585-9564-4718-8869-aa815c313270",
   "metadata": {},
   "source": [
    "9.Filter and select rows from the People_Dataset, where the “Last Name' column contains the name 'Duke',  \n",
    "'Gender' column contains the word Female and ‘Salary’ should be less than 85000"
   ]
  },
  {
   "cell_type": "code",
   "execution_count": 4,
   "id": "fbc01869-c78a-42da-a909-e377313b81eb",
   "metadata": {},
   "outputs": [
    {
     "data": {
      "text/html": [
       "<div>\n",
       "<style scoped>\n",
       "    .dataframe tbody tr th:only-of-type {\n",
       "        vertical-align: middle;\n",
       "    }\n",
       "\n",
       "    .dataframe tbody tr th {\n",
       "        vertical-align: top;\n",
       "    }\n",
       "\n",
       "    .dataframe thead th {\n",
       "        text-align: right;\n",
       "    }\n",
       "</style>\n",
       "<table border=\"1\" class=\"dataframe\">\n",
       "  <thead>\n",
       "    <tr style=\"text-align: right;\">\n",
       "      <th></th>\n",
       "      <th>Index</th>\n",
       "      <th>User Id</th>\n",
       "      <th>First Name</th>\n",
       "      <th>Last Name</th>\n",
       "      <th>Gender</th>\n",
       "      <th>Email</th>\n",
       "      <th>Phone</th>\n",
       "      <th>Date of birth</th>\n",
       "      <th>Job Title</th>\n",
       "      <th>Salary</th>\n",
       "    </tr>\n",
       "  </thead>\n",
       "  <tbody>\n",
       "    <tr>\n",
       "      <th>45</th>\n",
       "      <td>46</td>\n",
       "      <td>99A502C175C4EBd</td>\n",
       "      <td>Olivia</td>\n",
       "      <td>Duke</td>\n",
       "      <td>Female</td>\n",
       "      <td>diana26@example.net</td>\n",
       "      <td>001-366-475-8607x04350</td>\n",
       "      <td>13-10-1934</td>\n",
       "      <td>Dentist</td>\n",
       "      <td>60000</td>\n",
       "    </tr>\n",
       "    <tr>\n",
       "      <th>210</th>\n",
       "      <td>211</td>\n",
       "      <td>DF17975CC0a0373</td>\n",
       "      <td>Katrina</td>\n",
       "      <td>Duke</td>\n",
       "      <td>Female</td>\n",
       "      <td>robin78@example.com</td>\n",
       "      <td>740.434.0212</td>\n",
       "      <td>21-09-1935</td>\n",
       "      <td>Producer, radio</td>\n",
       "      <td>50000</td>\n",
       "    </tr>\n",
       "    <tr>\n",
       "      <th>457</th>\n",
       "      <td>458</td>\n",
       "      <td>dcE1B7DE83c1076</td>\n",
       "      <td>Traci</td>\n",
       "      <td>Duke</td>\n",
       "      <td>Female</td>\n",
       "      <td>perryhoffman@example.org</td>\n",
       "      <td>+1-903-596-0995x489</td>\n",
       "      <td>11-02-1997</td>\n",
       "      <td>Herbalist</td>\n",
       "      <td>50000</td>\n",
       "    </tr>\n",
       "    <tr>\n",
       "      <th>729</th>\n",
       "      <td>730</td>\n",
       "      <td>c9b482D7aa3e682</td>\n",
       "      <td>Lonnie</td>\n",
       "      <td>Duke</td>\n",
       "      <td>Female</td>\n",
       "      <td>kevinkramer@example.net</td>\n",
       "      <td>982.692.6257</td>\n",
       "      <td>12-05-2015</td>\n",
       "      <td>Nurse, adult</td>\n",
       "      <td>70000</td>\n",
       "    </tr>\n",
       "  </tbody>\n",
       "</table>\n",
       "</div>"
      ],
      "text/plain": [
       "     Index          User Id First Name Last Name  Gender  \\\n",
       "45      46  99A502C175C4EBd     Olivia      Duke  Female   \n",
       "210    211  DF17975CC0a0373    Katrina      Duke  Female   \n",
       "457    458  dcE1B7DE83c1076      Traci      Duke  Female   \n",
       "729    730  c9b482D7aa3e682     Lonnie      Duke  Female   \n",
       "\n",
       "                        Email                   Phone Date of birth  \\\n",
       "45        diana26@example.net  001-366-475-8607x04350    13-10-1934   \n",
       "210       robin78@example.com            740.434.0212    21-09-1935   \n",
       "457  perryhoffman@example.org     +1-903-596-0995x489    11-02-1997   \n",
       "729   kevinkramer@example.net            982.692.6257    12-05-2015   \n",
       "\n",
       "           Job Title  Salary  \n",
       "45           Dentist   60000  \n",
       "210  Producer, radio   50000  \n",
       "457        Herbalist   50000  \n",
       "729     Nurse, adult   70000  "
      ]
     },
     "execution_count": 4,
     "metadata": {},
     "output_type": "execute_result"
    }
   ],
   "source": [
    "df_new['Salary'] = pd.to_numeric(df_new['Salary'], errors='coerce')\n",
    "\n",
    "filtered_data = df_new[(df_new['Last Name'].str.contains('Duke', na=False)) & \n",
    "                            (df_new['Gender'].str.contains('Female', na=False)) & \n",
    "                            (df_new['Salary'] < 85000)]\n",
    "\n",
    "filtered_data"
   ]
  },
  {
   "cell_type": "code",
   "execution_count": null,
   "id": "dcb35ce1-dd34-4dec-918b-28b0545fe7ce",
   "metadata": {},
   "outputs": [],
   "source": []
  },
  {
   "cell_type": "markdown",
   "id": "a4dd5f80-0479-45af-bfc4-7cdb828195ad",
   "metadata": {},
   "source": [
    "10.Create a 7*5 Dataframe in Pandas using a series generated from 35 random integers between 1 to 6?"
   ]
  },
  {
   "cell_type": "code",
   "execution_count": 5,
   "id": "f3a34adc-9199-4081-b344-2739eaed9afa",
   "metadata": {},
   "outputs": [
    {
     "data": {
      "text/html": [
       "<div>\n",
       "<style scoped>\n",
       "    .dataframe tbody tr th:only-of-type {\n",
       "        vertical-align: middle;\n",
       "    }\n",
       "\n",
       "    .dataframe tbody tr th {\n",
       "        vertical-align: top;\n",
       "    }\n",
       "\n",
       "    .dataframe thead th {\n",
       "        text-align: right;\n",
       "    }\n",
       "</style>\n",
       "<table border=\"1\" class=\"dataframe\">\n",
       "  <thead>\n",
       "    <tr style=\"text-align: right;\">\n",
       "      <th></th>\n",
       "      <th>0</th>\n",
       "      <th>1</th>\n",
       "      <th>2</th>\n",
       "      <th>3</th>\n",
       "      <th>4</th>\n",
       "    </tr>\n",
       "  </thead>\n",
       "  <tbody>\n",
       "    <tr>\n",
       "      <th>0</th>\n",
       "      <td>6</td>\n",
       "      <td>1</td>\n",
       "      <td>6</td>\n",
       "      <td>1</td>\n",
       "      <td>6</td>\n",
       "    </tr>\n",
       "    <tr>\n",
       "      <th>1</th>\n",
       "      <td>2</td>\n",
       "      <td>2</td>\n",
       "      <td>3</td>\n",
       "      <td>5</td>\n",
       "      <td>6</td>\n",
       "    </tr>\n",
       "    <tr>\n",
       "      <th>2</th>\n",
       "      <td>4</td>\n",
       "      <td>2</td>\n",
       "      <td>1</td>\n",
       "      <td>4</td>\n",
       "      <td>6</td>\n",
       "    </tr>\n",
       "    <tr>\n",
       "      <th>3</th>\n",
       "      <td>1</td>\n",
       "      <td>5</td>\n",
       "      <td>6</td>\n",
       "      <td>1</td>\n",
       "      <td>2</td>\n",
       "    </tr>\n",
       "    <tr>\n",
       "      <th>4</th>\n",
       "      <td>1</td>\n",
       "      <td>1</td>\n",
       "      <td>4</td>\n",
       "      <td>6</td>\n",
       "      <td>4</td>\n",
       "    </tr>\n",
       "    <tr>\n",
       "      <th>5</th>\n",
       "      <td>1</td>\n",
       "      <td>1</td>\n",
       "      <td>5</td>\n",
       "      <td>4</td>\n",
       "      <td>1</td>\n",
       "    </tr>\n",
       "    <tr>\n",
       "      <th>6</th>\n",
       "      <td>1</td>\n",
       "      <td>4</td>\n",
       "      <td>1</td>\n",
       "      <td>4</td>\n",
       "      <td>3</td>\n",
       "    </tr>\n",
       "  </tbody>\n",
       "</table>\n",
       "</div>"
      ],
      "text/plain": [
       "   0  1  2  3  4\n",
       "0  6  1  6  1  6\n",
       "1  2  2  3  5  6\n",
       "2  4  2  1  4  6\n",
       "3  1  5  6  1  2\n",
       "4  1  1  4  6  4\n",
       "5  1  1  5  4  1\n",
       "6  1  4  1  4  3"
      ]
     },
     "execution_count": 5,
     "metadata": {},
     "output_type": "execute_result"
    }
   ],
   "source": [
    "import numpy as np\n",
    "random_series = pd.Series(np.random.randint(1, 7, size=35))\n",
    "random_dataframe = pd.DataFrame(random_series.values.reshape(7, 5))\n",
    "random_dataframe"
   ]
  },
  {
   "cell_type": "code",
   "execution_count": null,
   "id": "ef6eda54-c6d0-405d-8873-a04177aac0b5",
   "metadata": {},
   "outputs": [],
   "source": []
  },
  {
   "cell_type": "markdown",
   "id": "80a9991d-321c-4e82-95f3-50bca5c11cfb",
   "metadata": {},
   "source": [
    "11. Create two different Series, each of length 50, with the following criteria:\n",
    " a) The first Series should contain random numbers ranging from 10 to 50.\n",
    " b) The second Series should contain random numbers ranging from 100 to 1000.\n",
    " c) Create a DataFrame by joining these Series by column, and, change the names of the columns to 'col1', 'col2', \n",
    "etc."
   ]
  },
  {
   "cell_type": "code",
   "execution_count": 6,
   "id": "37c718dc-3b96-45a4-8924-d1687536a609",
   "metadata": {},
   "outputs": [
    {
     "data": {
      "text/html": [
       "<div>\n",
       "<style scoped>\n",
       "    .dataframe tbody tr th:only-of-type {\n",
       "        vertical-align: middle;\n",
       "    }\n",
       "\n",
       "    .dataframe tbody tr th {\n",
       "        vertical-align: top;\n",
       "    }\n",
       "\n",
       "    .dataframe thead th {\n",
       "        text-align: right;\n",
       "    }\n",
       "</style>\n",
       "<table border=\"1\" class=\"dataframe\">\n",
       "  <thead>\n",
       "    <tr style=\"text-align: right;\">\n",
       "      <th></th>\n",
       "      <th>col1</th>\n",
       "      <th>col2</th>\n",
       "    </tr>\n",
       "  </thead>\n",
       "  <tbody>\n",
       "    <tr>\n",
       "      <th>0</th>\n",
       "      <td>38</td>\n",
       "      <td>597</td>\n",
       "    </tr>\n",
       "    <tr>\n",
       "      <th>1</th>\n",
       "      <td>42</td>\n",
       "      <td>883</td>\n",
       "    </tr>\n",
       "    <tr>\n",
       "      <th>2</th>\n",
       "      <td>48</td>\n",
       "      <td>955</td>\n",
       "    </tr>\n",
       "    <tr>\n",
       "      <th>3</th>\n",
       "      <td>43</td>\n",
       "      <td>882</td>\n",
       "    </tr>\n",
       "    <tr>\n",
       "      <th>4</th>\n",
       "      <td>31</td>\n",
       "      <td>691</td>\n",
       "    </tr>\n",
       "  </tbody>\n",
       "</table>\n",
       "</div>"
      ],
      "text/plain": [
       "   col1  col2\n",
       "0    38   597\n",
       "1    42   883\n",
       "2    48   955\n",
       "3    43   882\n",
       "4    31   691"
      ]
     },
     "execution_count": 6,
     "metadata": {},
     "output_type": "execute_result"
    }
   ],
   "source": [
    "series1 = pd.Series(np.random.randint(10, 51, size=50))  \n",
    "series2 = pd.Series(np.random.randint(100, 1001, size=50))  \n",
    "df = pd.DataFrame({\n",
    "    'col1': series1,\n",
    "    'col2': series2\n",
    "})\n",
    "\n",
    "df.head() \n"
   ]
  },
  {
   "cell_type": "code",
   "execution_count": null,
   "id": "7592cdbe-066b-40cc-86e5-cba30341e03d",
   "metadata": {},
   "outputs": [],
   "source": []
  },
  {
   "cell_type": "markdown",
   "id": "d59d7428-bdb6-4b90-aa7f-7416deea815f",
   "metadata": {},
   "source": [
    "12.Perform the following operations using people data set:\n",
    " a) Delete the 'Email', 'Phone', and 'Date of birth' columns from the dataset.\n",
    " b) Delete the rows containing any missing values.\n",
    " d) Print the final output also"
   ]
  },
  {
   "cell_type": "code",
   "execution_count": 13,
   "id": "91d699d4-4e23-46be-a359-145082fccb8e",
   "metadata": {},
   "outputs": [
    {
     "name": "stdout",
     "output_type": "stream",
     "text": [
      "     Index          User Id First Name Last Name  Gender  \\\n",
      "0        1  8717bbf45cCDbEe     Shelia   Mahoney    Male   \n",
      "1        2  3d5AD30A4cD38ed         Jo    Rivers  Female   \n",
      "2        3  810Ce0F276Badec     Sheryl    Lowery  Female   \n",
      "3        4  BF2a889C00f0cE1    Whitney    Hooper    Male   \n",
      "4        5  9afFEafAe1CBBB9    Lindsey      Rice  Female   \n",
      "..     ...              ...        ...       ...     ...   \n",
      "995    996  fedF4c7Fd9e7cFa       Kurt    Bryant  Female   \n",
      "996    997  ECddaFEDdEc4FAB      Donna     Barry  Female   \n",
      "997    998  2adde51d8B8979E      Cathy  Mckinney  Female   \n",
      "998    999  Fb2FE369D1E171A   Jermaine    Phelps    Male   \n",
      "999   1000  8b756f6231DDC6e        Lee      Tran  Female   \n",
      "\n",
      "                           Job Title  Salary  \n",
      "0                  Probation officer   90000  \n",
      "1                             Dancer   80000  \n",
      "2                               Copy   50000  \n",
      "3           Counselling psychologist   65000  \n",
      "4                Biomedical engineer  100000  \n",
      "..                               ...     ...  \n",
      "995                Personnel officer   90000  \n",
      "996          Education administrator   50000  \n",
      "997  Commercial/residential surveyor   60000  \n",
      "998                 Ambulance person  100000  \n",
      "999       Nurse, learning disability   90000  \n",
      "\n",
      "[1000 rows x 7 columns]\n"
     ]
    }
   ],
   "source": [
    "import pandas as pd\n",
    "\n",
    "df = pd.DataFrame(df_new)\n",
    "df.drop(columns=['Email', 'Phone', 'Date of birth'], inplace=True)\n",
    "df.dropna(axis=0,how='any')\n",
    "print(df)"
   ]
  },
  {
   "cell_type": "code",
   "execution_count": null,
   "id": "841500b2-e238-40f9-9891-030d7006c7b2",
   "metadata": {},
   "outputs": [],
   "source": []
  },
  {
   "cell_type": "markdown",
   "id": "5a09335b-17a3-4828-a8ee-473f184de496",
   "metadata": {},
   "source": [
    "13.Create two NumPy arrays, x and y, each containing 100 random float values between 0 and 1. Perform the \n",
    "following tasks using Matplotlib and NumPy:\n",
    " a) Create a scatter plot using x and y, setting the color of the points to red and the marker style to 'o'.\n",
    " b) Add a horizontal line at y = 0.5 using a dashed line style and label it as 'y = 0.5'.\n",
    " c) Add a vertical line at x = 0.5 using a dotted line style and label it as 'x = 0.5'.\n",
    " d) Label the x-axis as 'X-axis' and the y-axis as 'Y-axis'.\n",
    " e) Set the title of the plot as 'Advanced Scatter Plot of Random Values'.\n",
    " f) Display a legend for the scatter plot, the horizontal line, and the vertical line"
   ]
  },
  {
   "cell_type": "code",
   "execution_count": 8,
   "id": "b032dae2-e135-4f80-a93e-daa224fc3272",
   "metadata": {},
   "outputs": [
    {
     "data": {
      "image/png": "[encoded data removed]",
      "text/plain": [
       "<Figure size 640x480 with 1 Axes>"
      ]
     },
     "metadata": {},
     "output_type": "display_data"
    }
   ],
   "source": [
    "import matplotlib.pyplot as plt\n",
    "\n",
    "x = np.random.rand(100)\n",
    "y = np.random.rand(100)\n",
    "\n",
    "plt.scatter(x, y, color='red', marker='o', label='Random points')\n",
    "plt.axhline(y=0.5, color='blue', linestyle='--', label='y = 0.5')\n",
    "plt.axvline(x=0.5, color='green', linestyle=':', label='x = 0.5')\n",
    "\n",
    "plt.xlabel('X-axis')\n",
    "plt.ylabel('Y-axis')\n",
    "plt.title('Advanced Scatter Plot of Random Values')\n",
    "plt.legend()\n",
    "plt.show()"
   ]
  },
  {
   "cell_type": "code",
   "execution_count": null,
   "id": "631e254d-32a6-48b1-beb0-37b2c3f1e559",
   "metadata": {},
   "outputs": [],
   "source": []
  },
  {
   "cell_type": "markdown",
   "id": "7dcfa4c9-1756-4cd7-81e0-5264bee1b07b",
   "metadata": {},
   "source": [
    "14.Create a time-series dataset in a Pandas DataFrame with columns: 'Date', 'Temperature', 'Humidity' and \n",
    "Perform the following tasks using Matplotlib:\n",
    " right y-axis for 'Humidity').\n",
    " b) Label the x-axis as 'Date'.\n",
    " a) Plot the 'Temperature' and 'Humidity' on the same plot with different y-axes (left y-axis for 'Temperature' and \n",
    "c) Set the title of the plot as 'Temperature and Humidity Over Time'."
   ]
  },
  {
   "cell_type": "code",
   "execution_count": 1,
   "id": "4c641ecb-1f56-400e-8450-100143d97406",
   "metadata": {},
   "outputs": [
    {
     "data": {
      "image/png": "[encoded data removed]",
      "text/plain": [
       "<Figure size 1000x600 with 2 Axes>"
      ]
     },
     "metadata": {},
     "output_type": "display_data"
    }
   ],
   "source": [
    "import pandas as pd\n",
    "import numpy as np\n",
    "import matplotlib.pyplot as plt\n",
    "\n",
    "np.random.seed(0)\n",
    "date_range = pd.date_range(start='2023-01-01', periods=100, freq='D')\n",
    "temperature = np.random.uniform(low=15, high=35, size=len(date_range))\n",
    "humidity = np.random.uniform(low=40, high=80, size=len(date_range))\n",
    "\n",
    "data = {\n",
    "    'Date': date_range,\n",
    "    'Temperature': temperature,\n",
    "    'Humidity': humidity\n",
    "}\n",
    "\n",
    "df = pd.DataFrame(data)\n",
    "fig, ax1 = plt.subplots(figsize=(10, 6))\n",
    "\n",
    "ax1.plot(df['Date'], df['Temperature'], color='tab:red', label='Temperature')\n",
    "ax1.set_xlabel('Date')\n",
    "ax1.set_ylabel('Temperature (°C)', color='tab:red')\n",
    "ax1.tick_params(axis='y', labelcolor='tab:red')\n",
    "ax2 = ax1.twinx()\n",
    "ax2.plot(df['Date'], df['Humidity'], color='tab:blue', label='Humidity')\n",
    "ax2.set_ylabel('Humidity (%)', color='tab:blue')\n",
    "ax2.tick_params(axis='y', labelcolor='tab:blue')\n",
    "\n",
    "\n",
    "plt.title('Temperature and Humidity Over Time')\n",
    "plt.tight_layout()  \n",
    "plt.show()"
   ]
  },
  {
   "cell_type": "code",
   "execution_count": null,
   "id": "5afbc402-32dd-4a7c-8573-a8559f381d6a",
   "metadata": {},
   "outputs": [],
   "source": []
  },
  {
   "cell_type": "markdown",
   "id": "2a782cc1-197b-480f-a82b-cd4d5717693b",
   "metadata": {},
   "source": [
    "15.Create a NumPy array data containing 1000 samples from a normal distribution. Perform the following \n",
    "tasks using Matplotlib:\n",
    " a) Plot a histogram of the data with 30 bins.\n",
    " b) Overlay a line plot representing the normal distribution's probability density function (PDF).\n",
    " c) Label the x-axis as 'Value' and the y-axis as 'Frequency/Probability'.\n",
    " d) Set the title of the plot as 'Histogram with PDF Overlay'."
   ]
  },
  {
   "cell_type": "code",
   "execution_count": 2,
   "id": "0c698501-c0f6-4c74-a410-577ca46a82f1",
   "metadata": {},
   "outputs": [
    {
     "data": {
      "image/png": "[encoded data removed]",
      "text/plain": [
       "<Figure size 800x600 with 1 Axes>"
      ]
     },
     "metadata": {},
     "output_type": "display_data"
    }
   ],
   "source": [
    "from scipy.stats import norm\n",
    "np.random.seed(0)  \n",
    "data = np.random.randn(1000)  \n",
    "fig, ax = plt.subplots(figsize=(8, 6))\n",
    "\n",
    "ax.hist(data, bins=30, density=True, alpha=0.6, color='b', label='Histogram')\n",
    "xmin, xmax = plt.xlim() \n",
    "x = np.linspace(xmin, xmax, 100)\n",
    "p = norm.pdf(x, np.mean(data), np.std(data))  \n",
    "ax.plot(x, p, 'k', linewidth=2, label='Normal PDF')\n",
    "\n",
    "ax.set_xlabel('Value')\n",
    "ax.set_ylabel('Frequency/Probability')\n",
    "plt.title('Histogram with PDF Overlay')\n",
    "plt.legend()\n",
    "plt.show()"
   ]
  },
  {
   "cell_type": "code",
   "execution_count": null,
   "id": "88c51186-67d6-4350-b281-229f2ca40e17",
   "metadata": {},
   "outputs": [],
   "source": []
  },
  {
   "cell_type": "markdown",
   "id": "e050bd6d-d4e5-4f51-8da2-98a9c8cffc26",
   "metadata": {},
   "source": [
    "17.Create a Seaborn scatter plot of two random arrays, color points based on their position relative to the \n",
    "origin (quadrants), add a legend, label the axes, and set the title as 'Quadrant-wise Scatter Plot'."
   ]
  },
  {
   "cell_type": "code",
   "execution_count": 3,
   "id": "9af1eeb3-04fa-46e5-811e-220d12e94114",
   "metadata": {},
   "outputs": [
    {
     "data": {
      "image/png": "[encoded data removed]",
      "text/plain": [
       "<Figure size 800x600 with 1 Axes>"
      ]
     },
     "metadata": {},
     "output_type": "display_data"
    }
   ],
   "source": [
    "import numpy as np\n",
    "import pandas as pd\n",
    "import seaborn as sns\n",
    "import matplotlib.pyplot as plt\n",
    "\n",
    "np.random.seed(0)  \n",
    "x = np.random.randn(100)\n",
    "y = np.random.randn(100)\n",
    "\n",
    "def get_quadrant(x, y):\n",
    "    if x >= 0 and y >= 0:\n",
    "        return 'Quadrant I'\n",
    "    elif x < 0 and y >= 0:\n",
    "        return 'Quadrant II'\n",
    "    elif x < 0 and y < 0:\n",
    "        return 'Quadrant III'\n",
    "    else:\n",
    "        return 'Quadrant IV'\n",
    "\n",
    "quadrants = [get_quadrant(x_val, y_val) for x_val, y_val in zip(x, y)]\n",
    "df = pd.DataFrame({'x': x, 'y': y, 'Quadrant': quadrants})\n",
    "\n",
    "plt.figure(figsize=(8, 6))\n",
    "sns.scatterplot(data=df, x='x', y='y', hue='Quadrant', palette='Set1', s=100, edgecolor='black')\n",
    "\n",
    "plt.xlabel('X-axis')\n",
    "plt.ylabel('Y-axis')\n",
    "plt.title('Quadrant-wise Scatter Plot')\n",
    "plt.legend(title='Quadrants')\n",
    "plt.show()"
   ]
  },
  {
   "cell_type": "code",
   "execution_count": null,
   "id": "f117f25c-ed28-4e4c-b66f-0d782f041009",
   "metadata": {},
   "outputs": [],
   "source": []
  },
  {
   "cell_type": "markdown",
   "id": "cf58a85f-b455-4567-9827-c864cf9b7cb6",
   "metadata": {},
   "source": [
    "18.With Bokeh, plot a line chart of a sine wave function, add grid lines, label the axes, and set the title as 'Sine \n",
    "Wave Function"
   ]
  },
  {
   "cell_type": "code",
   "execution_count": 7,
   "id": "56993063-8b87-4fc3-baed-af319e3f4f4c",
   "metadata": {},
   "outputs": [
    {
     "data": {
      "text/html": [
       "<style>\n",
       "        .bk-notebook-logo {\n",
       "            display: block;\n",
       "            width: 20px;\n",
       "            height: 20px;\n",
       "            background-image: url(data:image/png;base64,iVBORw0KGgoAAAANSUhEUgAAABQAAAAUCAYAAACNiR0NAAAABHNCSVQICAgIfAhkiAAAAAlwSFlzAAALEgAACxIB0t1+/AAAABx0RVh0U29mdHdhcmUAQWRvYmUgRmlyZXdvcmtzIENTNui8sowAAAOkSURBVDiNjZRtaJVlGMd/1/08zzln5zjP1LWcU9N0NkN8m2CYjpgQYQXqSs0I84OLIC0hkEKoPtiH3gmKoiJDU7QpLgoLjLIQCpEsNJ1vqUOdO7ppbuec5+V+rj4ctwzd8IIbbi6u+8f1539dt3A78eXC7QizUF7gyV1fD1Yqg4JWz84yffhm0qkFqBogB9rM8tZdtwVsPUhWhGcFJngGeWrPzHm5oaMmkfEg1usvLFyc8jLRqDOMru7AyC8saQr7GG7f5fvDeH7Ej8CM66nIF+8yngt6HWaKh7k49Soy9nXurCi1o3qUbS3zWfrYeQDTB/Qj6kX6Ybhw4B+bOYoLKCC9H3Nu/leUTZ1JdRWkkn2ldcCamzrcf47KKXdAJllSlxAOkRgyHsGC/zRday5Qld9DyoM4/q/rUoy/CXh3jzOu3bHUVZeU+DEn8FInkPBFlu3+nW3Nw0mk6vCDiWg8CeJaxEwuHS3+z5RgY+YBR6V1Z1nxSOfoaPa4LASWxxdNp+VWTk7+4vzaou8v8PN+xo+KY2xsw6une2frhw05CTYOmQvsEhjhWjn0bmXPjpE1+kplmmkP3suftwTubK9Vq22qKmrBhpY4jvd5afdRA3wGjFAgcnTK2s4hY0/GPNIb0nErGMCRxWOOX64Z8RAC4oCXdklmEvcL8o0BfkNK4lUg9HTl+oPlQxdNo3Mg4Nv175e/1LDGzZen30MEjRUtmXSfiTVu1kK8W4txyV6BMKlbgk3lMwYCiusNy9fVfvvwMxv8Ynl6vxoByANLTWplvuj/nF9m2+PDtt1eiHPBr1oIfhCChQMBw6Aw0UulqTKZdfVvfG7VcfIqLG9bcldL/+pdWTLxLUy8Qq38heUIjh4XlzZxzQm19lLFlr8vdQ97rjZVOLf8nclzckbcD4wxXMidpX30sFd37Fv/GtwwhzhxGVAprjbg0gCAEeIgwCZyTV2Z1REEW8O4py0wsjeloKoMr6iCY6dP92H6Vw/oTyICIthibxjm/DfN9lVz8IqtqKYLUXfoKVMVQVVJOElGjrnnUt9T9wbgp8AyYKaGlqingHZU/uG2NTZSVqwHQTWkx9hxjkpWDaCg6Ckj5qebgBVbT3V3NNXMSiWSDdGV3hrtzla7J+duwPOToIg42ChPQOQjspnSlp1V+Gjdged7+8UN5CRAV7a5EdFNwCjEaBR27b3W890TE7g24NAP/mMDXRWrGoFPQI9ls/MWO2dWFAar/xcOIImbbpA3zgAAAABJRU5ErkJggg==);\n",
       "        }\n",
       "    </style>\n",
       "    <div>\n",
       "        <a href=\"https://bokeh.org\" target=\"_blank\" class=\"bk-notebook-logo\"></a>\n",
       "        <span id=\"p1001\">Loading BokehJS ...</span>\n",
       "    </div>\n"
      ]
     },
     "metadata": {},
     "output_type": "display_data"
    },
    {
     "data": {
      "application/javascript": [
       "(function(root) {\n",
       "  function now() {\n",
       "    return new Date();\n",
       "  }\n",
       "\n",
       "  const force = true;\n",
       "\n",
       "  if (typeof root._bokeh_onload_callbacks === \"undefined\" || force === true) {\n",
       "    root._bokeh_onload_callbacks = [];\n",
       "    root._bokeh_is_loading = undefined;\n",
       "  }\n",
       "\n",
       "const JS_MIME_TYPE = 'application/javascript';\n",
       "  const HTML_MIME_TYPE = 'text/html';\n",
       "  const EXEC_MIME_TYPE = 'application/vnd.bokehjs_exec.v0+json';\n",
       "  const CLASS_NAME = 'output_bokeh rendered_html';\n",
       "\n",
       "  /**\n",
       "   * Render data to the DOM node\n",
       "   */\n",
       "  function render(props, node) {\n",
       "    const script = document.createElement(\"script\");\n",
       "    node.appendChild(script);\n",
       "  }\n",
       "\n",
       "  /**\n",
       "   * Handle when an output is cleared or removed\n",
       "   */\n",
       "  function handleClearOutput(event, handle) {\n",
       "    const cell = handle.cell;\n",
       "\n",
       "    const id = cell.output_area._bokeh_element_id;\n",
       "    const server_id = cell.output_area._bokeh_server_id;\n",
       "    // Clean up Bokeh references\n",
       "    if (id != null && id in Bokeh.index) {\n",
       "      Bokeh.index[id].model.document.clear();\n",
       "      delete Bokeh.index[id];\n",
       "    }\n",
       "\n",
       "    if (server_id !== undefined) {\n",
       "      // Clean up Bokeh references\n",
       "      const cmd_clean = \"from bokeh.io.state import curstate; print(curstate().uuid_to_server['\" + server_id + \"'].get_sessions()[0].document.roots[0]._id)\";\n",
       "      cell.notebook.kernel.execute(cmd_clean, {\n",
       "        iopub: {\n",
       "          output: function(msg) {\n",
       "            const id = msg.content.text.trim();\n",
       "            if (id in Bokeh.index) {\n",
       "              Bokeh.index[id].model.document.clear();\n",
       "              delete Bokeh.index[id];\n",
       "            }\n",
       "          }\n",
       "        }\n",
       "      });\n",
       "      // Destroy server and session\n",
       "      const cmd_destroy = \"import bokeh.io.notebook as ion; ion.destroy_server('\" + server_id + \"')\";\n",
       "      cell.notebook.kernel.execute(cmd_destroy);\n",
       "    }\n",
       "  }\n",
       "\n",
       "  /**\n",
       "   * Handle when a new output is added\n",
       "   */\n",
       "  function handleAddOutput(event, handle) {\n",
       "    const output_area = handle.output_area;\n",
       "    const output = handle.output;\n",
       "\n",
       "    // limit handleAddOutput to display_data with EXEC_MIME_TYPE content only\n",
       "    if ((output.output_type != \"display_data\") || (!Object.prototype.hasOwnProperty.call(output.data, EXEC_MIME_TYPE))) {\n",
       "      return\n",
       "    }\n",
       "\n",
       "    const toinsert = output_area.element.find(\".\" + CLASS_NAME.split(' ')[0]);\n",
       "\n",
       "    if (output.metadata[EXEC_MIME_TYPE][\"id\"] !== undefined) {\n",
       "      toinsert[toinsert.length - 1].firstChild.textContent = output.data[JS_MIME_TYPE];\n",
       "      // store reference to embed id on output_area\n",
       "      output_area._bokeh_element_id = output.metadata[EXEC_MIME_TYPE][\"id\"];\n",
       "    }\n",
       "    if (output.metadata[EXEC_MIME_TYPE][\"server_id\"] !== undefined) {\n",
       "      const bk_div = document.createElement(\"div\");\n",
       "      bk_div.innerHTML = output.data[HTML_MIME_TYPE];\n",
       "      const script_attrs = bk_div.children[0].attributes;\n",
       "      for (let i = 0; i < script_attrs.length; i++) {\n",
       "        toinsert[toinsert.length - 1].firstChild.setAttribute(script_attrs[i].name, script_attrs[i].value);\n",
       "        toinsert[toinsert.length - 1].firstChild.textContent = bk_div.children[0].textContent\n",
       "      }\n",
       "      // store reference to server id on output_area\n",
       "      output_area._bokeh_server_id = output.metadata[EXEC_MIME_TYPE][\"server_id\"];\n",
       "    }\n",
       "  }\n",
       "\n",
       "  function register_renderer(events, OutputArea) {\n",
       "\n",
       "    function append_mime(data, metadata, element) {\n",
       "      // create a DOM node to render to\n",
       "      const toinsert = this.create_output_subarea(\n",
       "        metadata,\n",
       "        CLASS_NAME,\n",
       "        EXEC_MIME_TYPE\n",
       "      );\n",
       "      this.keyboard_manager.register_events(toinsert);\n",
       "      // Render to node\n",
       "      const props = {data: data, metadata: metadata[EXEC_MIME_TYPE]};\n",
       "      render(props, toinsert[toinsert.length - 1]);\n",
       "      element.append(toinsert);\n",
       "      return toinsert\n",
       "    }\n",
       "\n",
       "    /* Handle when an output is cleared or removed */\n",
       "    events.on('clear_output.CodeCell', handleClearOutput);\n",
       "    events.on('delete.Cell', handleClearOutput);\n",
       "\n",
       "    /* Handle when a new output is added */\n",
       "    events.on('output_added.OutputArea', handleAddOutput);\n",
       "\n",
       "    /**\n",
       "     * Register the mime type and append_mime function with output_area\n",
       "     */\n",
       "    OutputArea.prototype.register_mime_type(EXEC_MIME_TYPE, append_mime, {\n",
       "      /* Is output safe? */\n",
       "      safe: true,\n",
       "      /* Index of renderer in `output_area.display_order` */\n",
       "      index: 0\n",
       "    });\n",
       "  }\n",
       "\n",
       "  // register the mime type if in Jupyter Notebook environment and previously unregistered\n",
       "  if (root.Jupyter !== undefined) {\n",
       "    const events = require('base/js/events');\n",
       "    const OutputArea = require('notebook/js/outputarea').OutputArea;\n",
       "\n",
       "    if (OutputArea.prototype.mime_types().indexOf(EXEC_MIME_TYPE) == -1) {\n",
       "      register_renderer(events, OutputArea);\n",
       "    }\n",
       "  }\n",
       "  if (typeof (root._bokeh_timeout) === \"undefined\" || force === true) {\n",
       "    root._bokeh_timeout = Date.now() + 5000;\n",
       "    root._bokeh_failed_load = false;\n",
       "  }\n",
       "\n",
       "  const NB_LOAD_WARNING = {'data': {'text/html':\n",
       "     \"<div style='background-color: #fdd'>\\n\"+\n",
       "     \"<p>\\n\"+\n",
       "     \"BokehJS does not appear to have successfully loaded. If loading BokehJS from CDN, this \\n\"+\n",
       "     \"may be due to a slow or bad network connection. Possible fixes:\\n\"+\n",
       "     \"</p>\\n\"+\n",
       "     \"<ul>\\n\"+\n",
       "     \"<li>re-rerun `output_notebook()` to attempt to load from CDN again, or</li>\\n\"+\n",
       "     \"<li>use INLINE resources instead, as so:</li>\\n\"+\n",
       "     \"</ul>\\n\"+\n",
       "     \"<code>\\n\"+\n",
       "     \"from bokeh.resources import INLINE\\n\"+\n",
       "     \"output_notebook(resources=INLINE)\\n\"+\n",
       "     \"</code>\\n\"+\n",
       "     \"</div>\"}};\n",
       "\n",
       "  function display_loaded() {\n",
       "    const el = document.getElementById(\"p1001\");\n",
       "    if (el != null) {\n",
       "      el.textContent = \"BokehJS is loading...\";\n",
       "    }\n",
       "    if (root.Bokeh !== undefined) {\n",
       "      if (el != null) {\n",
       "        el.textContent = \"BokehJS \" + root.Bokeh.version + \" successfully loaded.\";\n",
       "      }\n",
       "    } else if (Date.now() < root._bokeh_timeout) {\n",
       "      setTimeout(display_loaded, 100)\n",
       "    }\n",
       "  }\n",
       "\n",
       "  function run_callbacks() {\n",
       "    try {\n",
       "      root._bokeh_onload_callbacks.forEach(function(callback) {\n",
       "        if (callback != null)\n",
       "          callback();\n",
       "      });\n",
       "    } finally {\n",
       "      delete root._bokeh_onload_callbacks\n",
       "    }\n",
       "    console.debug(\"Bokeh: all callbacks have finished\");\n",
       "  }\n",
       "\n",
       "  function load_libs(css_urls, js_urls, callback) {\n",
       "    if (css_urls == null) css_urls = [];\n",
       "    if (js_urls == null) js_urls = [];\n",
       "\n",
       "    root._bokeh_onload_callbacks.push(callback);\n",
       "    if (root._bokeh_is_loading > 0) {\n",
       "      console.debug(\"Bokeh: BokehJS is being loaded, scheduling callback at\", now());\n",
       "      return null;\n",
       "    }\n",
       "    if (js_urls == null || js_urls.length === 0) {\n",
       "      run_callbacks();\n",
       "      return null;\n",
       "    }\n",
       "    console.debug(\"Bokeh: BokehJS not loaded, scheduling load and callback at\", now());\n",
       "    root._bokeh_is_loading = css_urls.length + js_urls.length;\n",
       "\n",
       "    function on_load() {\n",
       "      root._bokeh_is_loading--;\n",
       "      if (root._bokeh_is_loading === 0) {\n",
       "        console.debug(\"Bokeh: all BokehJS libraries/stylesheets loaded\");\n",
       "        run_callbacks()\n",
       "      }\n",
       "    }\n",
       "\n",
       "    function on_error(url) {\n",
       "      console.error(\"failed to load \" + url);\n",
       "    }\n",
       "\n",
       "    for (let i = 0; i < css_urls.length; i++) {\n",
       "      const url = css_urls[i];\n",
       "      const element = document.createElement(\"link\");\n",
       "      element.onload = on_load;\n",
       "      element.onerror = on_error.bind(null, url);\n",
       "      element.rel = \"stylesheet\";\n",
       "      element.type = \"text/css\";\n",
       "      element.href = url;\n",
       "      console.debug(\"Bokeh: injecting link tag for BokehJS stylesheet: \", url);\n",
       "      document.body.appendChild(element);\n",
       "    }\n",
       "\n",
       "    for (let i = 0; i < js_urls.length; i++) {\n",
       "      const url = js_urls[i];\n",
       "      const element = document.createElement('script');\n",
       "      element.onload = on_load;\n",
       "      element.onerror = on_error.bind(null, url);\n",
       "      element.async = false;\n",
       "      element.src = url;\n",
       "      console.debug(\"Bokeh: injecting script tag for BokehJS library: \", url);\n",
       "      document.head.appendChild(element);\n",
       "    }\n",
       "  };\n",
       "\n",
       "  function inject_raw_css(css) {\n",
       "    const element = document.createElement(\"style\");\n",
       "    element.appendChild(document.createTextNode(css));\n",
       "    document.body.appendChild(element);\n",
       "  }\n",
       "\n",
       "  const js_urls = [\"https://cdn.bokeh.org/bokeh/release/bokeh-3.0.3.min.js\", \"https://cdn.bokeh.org/bokeh/release/bokeh-gl-3.0.3.min.js\", \"https://cdn.bokeh.org/bokeh/release/bokeh-widgets-3.0.3.min.js\", \"https://cdn.bokeh.org/bokeh/release/bokeh-tables-3.0.3.min.js\", \"https://cdn.bokeh.org/bokeh/release/bokeh-mathjax-3.0.3.min.js\"];\n",
       "  const css_urls = [];\n",
       "\n",
       "  const inline_js = [    function(Bokeh) {\n",
       "      Bokeh.set_log_level(\"info\");\n",
       "    },\n",
       "function(Bokeh) {\n",
       "    }\n",
       "  ];\n",
       "\n",
       "  function run_inline_js() {\n",
       "    if (root.Bokeh !== undefined || force === true) {\n",
       "          for (let i = 0; i < inline_js.length; i++) {\n",
       "      inline_js[i].call(root, root.Bokeh);\n",
       "    }\n",
       "if (force === true) {\n",
       "        display_loaded();\n",
       "      }} else if (Date.now() < root._bokeh_timeout) {\n",
       "      setTimeout(run_inline_js, 100);\n",
       "    } else if (!root._bokeh_failed_load) {\n",
       "      console.log(\"Bokeh: BokehJS failed to load within specified timeout.\");\n",
       "      root._bokeh_failed_load = true;\n",
       "    } else if (force !== true) {\n",
       "      const cell = $(document.getElementById(\"p1001\")).parents('.cell').data().cell;\n",
       "      cell.output_area.append_execute_result(NB_LOAD_WARNING)\n",
       "    }\n",
       "  }\n",
       "\n",
       "  if (root._bokeh_is_loading === 0) {\n",
       "    console.debug(\"Bokeh: BokehJS loaded, going straight to plotting\");\n",
       "    run_inline_js();\n",
       "  } else {\n",
       "    load_libs(css_urls, js_urls, function() {\n",
       "      console.debug(\"Bokeh: BokehJS plotting callback run at\", now());\n",
       "      run_inline_js();\n",
       "    });\n",
       "  }\n",
       "}(window));"
      ],
      "application/vnd.bokehjs_load.v0+json": "(function(root) {\n  function now() {\n    return new Date();\n  }\n\n  const force = true;\n\n  if (typeof root._bokeh_onload_callbacks === \"undefined\" || force === true) {\n    root._bokeh_onload_callbacks = [];\n    root._bokeh_is_loading = undefined;\n  }\n\n\n  if (typeof (root._bokeh_timeout) === \"undefined\" || force === true) {\n    root._bokeh_timeout = Date.now() + 5000;\n    root._bokeh_failed_load = false;\n  }\n\n  const NB_LOAD_WARNING = {'data': {'text/html':\n     \"<div style='background-color: #fdd'>\\n\"+\n     \"<p>\\n\"+\n     \"BokehJS does not appear to have successfully loaded. If loading BokehJS from CDN, this \\n\"+\n     \"may be due to a slow or bad network connection. Possible fixes:\\n\"+\n     \"</p>\\n\"+\n     \"<ul>\\n\"+\n     \"<li>re-rerun `output_notebook()` to attempt to load from CDN again, or</li>\\n\"+\n     \"<li>use INLINE resources instead, as so:</li>\\n\"+\n     \"</ul>\\n\"+\n     \"<code>\\n\"+\n     \"from bokeh.resources import INLINE\\n\"+\n     \"output_notebook(resources=INLINE)\\n\"+\n     \"</code>\\n\"+\n     \"</div>\"}};\n\n  function display_loaded() {\n    const el = document.getElementById(\"p1001\");\n    if (el != null) {\n      el.textContent = \"BokehJS is loading...\";\n    }\n    if (root.Bokeh !== undefined) {\n      if (el != null) {\n        el.textContent = \"BokehJS \" + root.Bokeh.version + \" successfully loaded.\";\n      }\n    } else if (Date.now() < root._bokeh_timeout) {\n      setTimeout(display_loaded, 100)\n    }\n  }\n\n  function run_callbacks() {\n    try {\n      root._bokeh_onload_callbacks.forEach(function(callback) {\n        if (callback != null)\n          callback();\n      });\n    } finally {\n      delete root._bokeh_onload_callbacks\n    }\n    console.debug(\"Bokeh: all callbacks have finished\");\n  }\n\n  function load_libs(css_urls, js_urls, callback) {\n    if (css_urls == null) css_urls = [];\n    if (js_urls == null) js_urls = [];\n\n    root._bokeh_onload_callbacks.push(callback);\n    if (root._bokeh_is_loading > 0) {\n      console.debug(\"Bokeh: BokehJS is being loaded, scheduling callback at\", now());\n      return null;\n    }\n    if (js_urls == null || js_urls.length === 0) {\n      run_callbacks();\n      return null;\n    }\n    console.debug(\"Bokeh: BokehJS not loaded, scheduling load and callback at\", now());\n    root._bokeh_is_loading = css_urls.length + js_urls.length;\n\n    function on_load() {\n      root._bokeh_is_loading--;\n      if (root._bokeh_is_loading === 0) {\n        console.debug(\"Bokeh: all BokehJS libraries/stylesheets loaded\");\n        run_callbacks()\n      }\n    }\n\n    function on_error(url) {\n      console.error(\"failed to load \" + url);\n    }\n\n    for (let i = 0; i < css_urls.length; i++) {\n      const url = css_urls[i];\n      const element = document.createElement(\"link\");\n      element.onload = on_load;\n      element.onerror = on_error.bind(null, url);\n      element.rel = \"stylesheet\";\n      element.type = \"text/css\";\n      element.href = url;\n      console.debug(\"Bokeh: injecting link tag for BokehJS stylesheet: \", url);\n      document.body.appendChild(element);\n    }\n\n    for (let i = 0; i < js_urls.length; i++) {\n      const url = js_urls[i];\n      const element = document.createElement('script');\n      element.onload = on_load;\n      element.onerror = on_error.bind(null, url);\n      element.async = false;\n      element.src = url;\n      console.debug(\"Bokeh: injecting script tag for BokehJS library: \", url);\n      document.head.appendChild(element);\n    }\n  };\n\n  function inject_raw_css(css) {\n    const element = document.createElement(\"style\");\n    element.appendChild(document.createTextNode(css));\n    document.body.appendChild(element);\n  }\n\n  const js_urls = [\"https://cdn.bokeh.org/bokeh/release/bokeh-3.0.3.min.js\", \"https://cdn.bokeh.org/bokeh/release/bokeh-gl-3.0.3.min.js\", \"https://cdn.bokeh.org/bokeh/release/bokeh-widgets-3.0.3.min.js\", \"https://cdn.bokeh.org/bokeh/release/bokeh-tables-3.0.3.min.js\", \"https://cdn.bokeh.org/bokeh/release/bokeh-mathjax-3.0.3.min.js\"];\n  const css_urls = [];\n\n  const inline_js = [    function(Bokeh) {\n      Bokeh.set_log_level(\"info\");\n    },\nfunction(Bokeh) {\n    }\n  ];\n\n  function run_inline_js() {\n    if (root.Bokeh !== undefined || force === true) {\n          for (let i = 0; i < inline_js.length; i++) {\n      inline_js[i].call(root, root.Bokeh);\n    }\nif (force === true) {\n        display_loaded();\n      }} else if (Date.now() < root._bokeh_timeout) {\n      setTimeout(run_inline_js, 100);\n    } else if (!root._bokeh_failed_load) {\n      console.log(\"Bokeh: BokehJS failed to load within specified timeout.\");\n      root._bokeh_failed_load = true;\n    } else if (force !== true) {\n      const cell = $(document.getElementById(\"p1001\")).parents('.cell').data().cell;\n      cell.output_area.append_execute_result(NB_LOAD_WARNING)\n    }\n  }\n\n  if (root._bokeh_is_loading === 0) {\n    console.debug(\"Bokeh: BokehJS loaded, going straight to plotting\");\n    run_inline_js();\n  } else {\n    load_libs(css_urls, js_urls, function() {\n      console.debug(\"Bokeh: BokehJS plotting callback run at\", now());\n      run_inline_js();\n    });\n  }\n}(window));"
     },
     "metadata": {},
     "output_type": "display_data"
    },
    {
     "data": {
      "text/html": [
       "\n",
       "  <div id=\"810f3aaa-400d-4a73-8d4c-e70043e6599f\" data-root-id=\"p1002\" style=\"display: contents;\"></div>\n"
      ]
     },
     "metadata": {},
     "output_type": "display_data"
    },
    {
     "data": {
      "application/javascript": [
       "(function(root) {\n",
       "  function embed_document(root) {\n",
       "  const docs_json = {\"c5e11abf-468a-4bdd-b270-03d7e1963605\":{\"version\":\"3.0.3\",\"title\":\"Bokeh Application\",\"defs\":[],\"roots\":[{\"type\":\"object\",\"name\":\"Figure\",\"id\":\"p1002\",\"attributes\":{\"width\":800,\"height\":400,\"x_range\":{\"type\":\"object\",\"name\":\"DataRange1d\",\"id\":\"p1004\"},\"y_range\":{\"type\":\"object\",\"name\":\"DataRange1d\",\"id\":\"p1003\"},\"x_scale\":{\"type\":\"object\",\"name\":\"LinearScale\",\"id\":\"p1016\"},\"y_scale\":{\"type\":\"object\",\"name\":\"LinearScale\",\"id\":\"p1018\"},\"title\":{\"type\":\"object\",\"name\":\"Title\",\"id\":\"p1005\",\"attributes\":{\"text\":\"Sine Wave Function\",\"text_font_size\":\"16pt\"}},\"renderers\":[{\"type\":\"object\",\"name\":\"GlyphRenderer\",\"id\":\"p1055\",\"attributes\":{\"data_source\":{\"type\":\"object\",\"name\":\"ColumnDataSource\",\"id\":\"p1049\",\"attributes\":{\"selected\":{\"type\":\"object\",\"name\":\"Selection\",\"id\":\"p1051\",\"attributes\":{\"indices\":[],\"line_indices\":[]}},\"selection_policy\":{\"type\":\"object\",\"name\":\"UnionRenderers\",\"id\":\"p1050\"},\"data\":{\"type\":\"map\",\"entries\":[[\"x\",{\"type\":\"ndarray\",\"array\":{\"type\":\"bytes\",\"data\":\"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\"},\"shape\":[500],\"dtype\":\"float64\",\"order\":\"little\"}],[\"y\",{\"type\":\"ndarray\",\"array\":{\"type\":\"bytes\",\"data\":\"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\"},\"shape\":[500],\"dtype\":\"float64\",\"order\":\"little\"}]]}}},\"view\":{\"type\":\"object\",\"name\":\"CDSView\",\"id\":\"p1056\",\"attributes\":{\"filter\":{\"type\":\"object\",\"name\":\"AllIndices\",\"id\":\"p1057\"}}},\"glyph\":{\"type\":\"object\",\"name\":\"Line\",\"id\":\"p1052\",\"attributes\":{\"x\":{\"type\":\"field\",\"field\":\"x\"},\"y\":{\"type\":\"field\",\"field\":\"y\"},\"line_color\":\"blue\",\"line_width\":2}},\"nonselection_glyph\":{\"type\":\"object\",\"name\":\"Line\",\"id\":\"p1053\",\"attributes\":{\"x\":{\"type\":\"field\",\"field\":\"x\"},\"y\":{\"type\":\"field\",\"field\":\"y\"},\"line_color\":\"blue\",\"line_alpha\":0.1,\"line_width\":2}},\"muted_glyph\":{\"type\":\"object\",\"name\":\"Line\",\"id\":\"p1054\",\"attributes\":{\"x\":{\"type\":\"field\",\"field\":\"x\"},\"y\":{\"type\":\"field\",\"field\":\"y\"},\"line_color\":\"blue\",\"line_alpha\":0.2,\"line_width\":2}}}}],\"toolbar\":{\"type\":\"object\",\"name\":\"Toolbar\",\"id\":\"p1010\",\"attributes\":{\"tools\":[{\"type\":\"object\",\"name\":\"PanTool\",\"id\":\"p1034\"},{\"type\":\"object\",\"name\":\"WheelZoomTool\",\"id\":\"p1035\"},{\"type\":\"object\",\"name\":\"BoxZoomTool\",\"id\":\"p1036\",\"attributes\":{\"overlay\":{\"type\":\"object\",\"name\":\"BoxAnnotation\",\"id\":\"p1037\",\"attributes\":{\"syncable\":false,\"level\":\"overlay\",\"visible\":false,\"left_units\":\"canvas\",\"right_units\":\"canvas\",\"bottom_units\":\"canvas\",\"top_units\":\"canvas\",\"line_color\":\"black\",\"line_alpha\":1.0,\"line_width\":2,\"line_dash\":[4,4],\"fill_color\":\"lightgrey\",\"fill_alpha\":0.5}}}},{\"type\":\"object\",\"name\":\"SaveTool\",\"id\":\"p1038\"},{\"type\":\"object\",\"name\":\"ResetTool\",\"id\":\"p1039\"},{\"type\":\"object\",\"name\":\"HelpTool\",\"id\":\"p1040\"}]}},\"left\":[{\"type\":\"object\",\"name\":\"LinearAxis\",\"id\":\"p1027\",\"attributes\":{\"ticker\":{\"type\":\"object\",\"name\":\"BasicTicker\",\"id\":\"p1028\",\"attributes\":{\"mantissas\":[1,2,5]}},\"formatter\":{\"type\":\"object\",\"name\":\"BasicTickFormatter\",\"id\":\"p1030\"},\"axis_label\":\"Y-axis (amplitude)\",\"axis_label_text_font_size\":\"12pt\",\"major_label_policy\":{\"type\":\"object\",\"name\":\"AllLabels\",\"id\":\"p1029\"}}}],\"below\":[{\"type\":\"object\",\"name\":\"LinearAxis\",\"id\":\"p1020\",\"attributes\":{\"ticker\":{\"type\":\"object\",\"name\":\"BasicTicker\",\"id\":\"p1021\",\"attributes\":{\"mantissas\":[1,2,5]}},\"formatter\":{\"type\":\"object\",\"name\":\"BasicTickFormatter\",\"id\":\"p1023\"},\"axis_label\":\"X-axis (radians)\",\"axis_label_text_font_size\":\"12pt\",\"major_label_policy\":{\"type\":\"object\",\"name\":\"AllLabels\",\"id\":\"p1022\"}}}],\"center\":[{\"type\":\"object\",\"name\":\"Grid\",\"id\":\"p1026\",\"attributes\":{\"axis\":{\"id\":\"p1020\"}}},{\"type\":\"object\",\"name\":\"Grid\",\"id\":\"p1033\",\"attributes\":{\"dimension\":1,\"axis\":{\"id\":\"p1027\"}}},{\"type\":\"object\",\"name\":\"Legend\",\"id\":\"p1071\",\"attributes\":{\"items\":[{\"type\":\"object\",\"name\":\"LegendItem\",\"id\":\"p1072\",\"attributes\":{\"label\":{\"type\":\"value\",\"value\":\"Sine Wave\"},\"renderers\":[{\"id\":\"p1055\"}]}}]}}]}}]}};\n",
       "  const render_items = [{\"docid\":\"c5e11abf-468a-4bdd-b270-03d7e1963605\",\"roots\":{\"p1002\":\"810f3aaa-400d-4a73-8d4c-e70043e6599f\"},\"root_ids\":[\"p1002\"]}];\n",
       "  root.Bokeh.embed.embed_items_notebook(docs_json, render_items);\n",
       "  }\n",
       "  if (root.Bokeh !== undefined) {\n",
       "    embed_document(root);\n",
       "  } else {\n",
       "    let attempts = 0;\n",
       "    const timer = setInterval(function(root) {\n",
       "      if (root.Bokeh !== undefined) {\n",
       "        clearInterval(timer);\n",
       "        embed_document(root);\n",
       "      } else {\n",
       "        attempts++;\n",
       "        if (attempts > 100) {\n",
       "          clearInterval(timer);\n",
       "          console.log(\"Bokeh: ERROR: Unable to run BokehJS code because BokehJS library is missing\");\n",
       "        }\n",
       "      }\n",
       "    }, 10, root)\n",
       "  }\n",
       "})(window);"
      ],
      "application/vnd.bokehjs_exec.v0+json": ""
     },
     "metadata": {
      "application/vnd.bokehjs_exec.v0+json": {
       "id": "p1002"
      }
     },
     "output_type": "display_data"
    }
   ],
   "source": [
    "import numpy as np\n",
    "from bokeh.plotting import figure, show\n",
    "from bokeh.io import output_notebook\n",
    "\n",
    "output_notebook()\n",
    "\n",
    "x = np.linspace(0, 4 * np.pi, 500)  \n",
    "y = np.sin(x)  \n",
    "\n",
    "p = figure(title=\"Sine Wave Function\", \n",
    "           x_axis_label='X-axis (radians)', \n",
    "           y_axis_label='Y-axis (amplitude)', \n",
    "           width=800, \n",
    "           height=400)\n",
    "\n",
    "p.line(x, y, legend_label=\"Sine Wave\", line_width=2, color='blue')\n",
    "p.xgrid.visible = True\n",
    "p.ygrid.visible = True\n",
    "p.title.text_font_size = '16pt'\n",
    "p.xaxis.axis_label_text_font_size = '12pt'\n",
    "p.yaxis.axis_label_text_font_size = '12pt'\n",
    "show(p)"
   ]
  },
  {
   "cell_type": "code",
   "execution_count": null,
   "id": "cb20a265-30ab-4619-9434-a6b78b0af8e3",
   "metadata": {},
   "outputs": [],
   "source": []
  },
  {
   "cell_type": "markdown",
   "id": "19c4e579-a99f-4d82-9401-66eb36130521",
   "metadata": {},
   "source": [
    "19.Using Bokeh, generate a bar chart of randomly generated categorical data, color bars based on their \n",
    "values, add hover tooltips to display exact values, label the axes, and set the title as 'Random Categorical \n",
    "Bar Chart'"
   ]
  },
  {
   "cell_type": "code",
   "execution_count": 8,
   "id": "b3a15e71-166d-4da0-9488-539be94156fc",
   "metadata": {},
   "outputs": [
    {
     "data": {
      "text/html": [
       "<style>\n",
       "        .bk-notebook-logo {\n",
       "            display: block;\n",
       "            width: 20px;\n",
       "            height: 20px;\n",
       "            background-image: url(data:image/png;base64,iVBORw0KGgoAAAANSUhEUgAAABQAAAAUCAYAAACNiR0NAAAABHNCSVQICAgIfAhkiAAAAAlwSFlzAAALEgAACxIB0t1+/AAAABx0RVh0U29mdHdhcmUAQWRvYmUgRmlyZXdvcmtzIENTNui8sowAAAOkSURBVDiNjZRtaJVlGMd/1/08zzln5zjP1LWcU9N0NkN8m2CYjpgQYQXqSs0I84OLIC0hkEKoPtiH3gmKoiJDU7QpLgoLjLIQCpEsNJ1vqUOdO7ppbuec5+V+rj4ctwzd8IIbbi6u+8f1539dt3A78eXC7QizUF7gyV1fD1Yqg4JWz84yffhm0qkFqBogB9rM8tZdtwVsPUhWhGcFJngGeWrPzHm5oaMmkfEg1usvLFyc8jLRqDOMru7AyC8saQr7GG7f5fvDeH7Ej8CM66nIF+8yngt6HWaKh7k49Soy9nXurCi1o3qUbS3zWfrYeQDTB/Qj6kX6Ybhw4B+bOYoLKCC9H3Nu/leUTZ1JdRWkkn2ldcCamzrcf47KKXdAJllSlxAOkRgyHsGC/zRday5Qld9DyoM4/q/rUoy/CXh3jzOu3bHUVZeU+DEn8FInkPBFlu3+nW3Nw0mk6vCDiWg8CeJaxEwuHS3+z5RgY+YBR6V1Z1nxSOfoaPa4LASWxxdNp+VWTk7+4vzaou8v8PN+xo+KY2xsw6une2frhw05CTYOmQvsEhjhWjn0bmXPjpE1+kplmmkP3suftwTubK9Vq22qKmrBhpY4jvd5afdRA3wGjFAgcnTK2s4hY0/GPNIb0nErGMCRxWOOX64Z8RAC4oCXdklmEvcL8o0BfkNK4lUg9HTl+oPlQxdNo3Mg4Nv175e/1LDGzZen30MEjRUtmXSfiTVu1kK8W4txyV6BMKlbgk3lMwYCiusNy9fVfvvwMxv8Ynl6vxoByANLTWplvuj/nF9m2+PDtt1eiHPBr1oIfhCChQMBw6Aw0UulqTKZdfVvfG7VcfIqLG9bcldL/+pdWTLxLUy8Qq38heUIjh4XlzZxzQm19lLFlr8vdQ97rjZVOLf8nclzckbcD4wxXMidpX30sFd37Fv/GtwwhzhxGVAprjbg0gCAEeIgwCZyTV2Z1REEW8O4py0wsjeloKoMr6iCY6dP92H6Vw/oTyICIthibxjm/DfN9lVz8IqtqKYLUXfoKVMVQVVJOElGjrnnUt9T9wbgp8AyYKaGlqingHZU/uG2NTZSVqwHQTWkx9hxjkpWDaCg6Ckj5qebgBVbT3V3NNXMSiWSDdGV3hrtzla7J+duwPOToIg42ChPQOQjspnSlp1V+Gjdged7+8UN5CRAV7a5EdFNwCjEaBR27b3W890TE7g24NAP/mMDXRWrGoFPQI9ls/MWO2dWFAar/xcOIImbbpA3zgAAAABJRU5ErkJggg==);\n",
       "        }\n",
       "    </style>\n",
       "    <div>\n",
       "        <a href=\"https://bokeh.org\" target=\"_blank\" class=\"bk-notebook-logo\"></a>\n",
       "        <span id=\"p1156\">Loading BokehJS ...</span>\n",
       "    </div>\n"
      ]
     },
     "metadata": {},
     "output_type": "display_data"
    },
    {
     "data": {
      "application/javascript": [
       "(function(root) {\n",
       "  function now() {\n",
       "    return new Date();\n",
       "  }\n",
       "\n",
       "  const force = true;\n",
       "\n",
       "  if (typeof root._bokeh_onload_callbacks === \"undefined\" || force === true) {\n",
       "    root._bokeh_onload_callbacks = [];\n",
       "    root._bokeh_is_loading = undefined;\n",
       "  }\n",
       "\n",
       "const JS_MIME_TYPE = 'application/javascript';\n",
       "  const HTML_MIME_TYPE = 'text/html';\n",
       "  const EXEC_MIME_TYPE = 'application/vnd.bokehjs_exec.v0+json';\n",
       "  const CLASS_NAME = 'output_bokeh rendered_html';\n",
       "\n",
       "  /**\n",
       "   * Render data to the DOM node\n",
       "   */\n",
       "  function render(props, node) {\n",
       "    const script = document.createElement(\"script\");\n",
       "    node.appendChild(script);\n",
       "  }\n",
       "\n",
       "  /**\n",
       "   * Handle when an output is cleared or removed\n",
       "   */\n",
       "  function handleClearOutput(event, handle) {\n",
       "    const cell = handle.cell;\n",
       "\n",
       "    const id = cell.output_area._bokeh_element_id;\n",
       "    const server_id = cell.output_area._bokeh_server_id;\n",
       "    // Clean up Bokeh references\n",
       "    if (id != null && id in Bokeh.index) {\n",
       "      Bokeh.index[id].model.document.clear();\n",
       "      delete Bokeh.index[id];\n",
       "    }\n",
       "\n",
       "    if (server_id !== undefined) {\n",
       "      // Clean up Bokeh references\n",
       "      const cmd_clean = \"from bokeh.io.state import curstate; print(curstate().uuid_to_server['\" + server_id + \"'].get_sessions()[0].document.roots[0]._id)\";\n",
       "      cell.notebook.kernel.execute(cmd_clean, {\n",
       "        iopub: {\n",
       "          output: function(msg) {\n",
       "            const id = msg.content.text.trim();\n",
       "            if (id in Bokeh.index) {\n",
       "              Bokeh.index[id].model.document.clear();\n",
       "              delete Bokeh.index[id];\n",
       "            }\n",
       "          }\n",
       "        }\n",
       "      });\n",
       "      // Destroy server and session\n",
       "      const cmd_destroy = \"import bokeh.io.notebook as ion; ion.destroy_server('\" + server_id + \"')\";\n",
       "      cell.notebook.kernel.execute(cmd_destroy);\n",
       "    }\n",
       "  }\n",
       "\n",
       "  /**\n",
       "   * Handle when a new output is added\n",
       "   */\n",
       "  function handleAddOutput(event, handle) {\n",
       "    const output_area = handle.output_area;\n",
       "    const output = handle.output;\n",
       "\n",
       "    // limit handleAddOutput to display_data with EXEC_MIME_TYPE content only\n",
       "    if ((output.output_type != \"display_data\") || (!Object.prototype.hasOwnProperty.call(output.data, EXEC_MIME_TYPE))) {\n",
       "      return\n",
       "    }\n",
       "\n",
       "    const toinsert = output_area.element.find(\".\" + CLASS_NAME.split(' ')[0]);\n",
       "\n",
       "    if (output.metadata[EXEC_MIME_TYPE][\"id\"] !== undefined) {\n",
       "      toinsert[toinsert.length - 1].firstChild.textContent = output.data[JS_MIME_TYPE];\n",
       "      // store reference to embed id on output_area\n",
       "      output_area._bokeh_element_id = output.metadata[EXEC_MIME_TYPE][\"id\"];\n",
       "    }\n",
       "    if (output.metadata[EXEC_MIME_TYPE][\"server_id\"] !== undefined) {\n",
       "      const bk_div = document.createElement(\"div\");\n",
       "      bk_div.innerHTML = output.data[HTML_MIME_TYPE];\n",
       "      const script_attrs = bk_div.children[0].attributes;\n",
       "      for (let i = 0; i < script_attrs.length; i++) {\n",
       "        toinsert[toinsert.length - 1].firstChild.setAttribute(script_attrs[i].name, script_attrs[i].value);\n",
       "        toinsert[toinsert.length - 1].firstChild.textContent = bk_div.children[0].textContent\n",
       "      }\n",
       "      // store reference to server id on output_area\n",
       "      output_area._bokeh_server_id = output.metadata[EXEC_MIME_TYPE][\"server_id\"];\n",
       "    }\n",
       "  }\n",
       "\n",
       "  function register_renderer(events, OutputArea) {\n",
       "\n",
       "    function append_mime(data, metadata, element) {\n",
       "      // create a DOM node to render to\n",
       "      const toinsert = this.create_output_subarea(\n",
       "        metadata,\n",
       "        CLASS_NAME,\n",
       "        EXEC_MIME_TYPE\n",
       "      );\n",
       "      this.keyboard_manager.register_events(toinsert);\n",
       "      // Render to node\n",
       "      const props = {data: data, metadata: metadata[EXEC_MIME_TYPE]};\n",
       "      render(props, toinsert[toinsert.length - 1]);\n",
       "      element.append(toinsert);\n",
       "      return toinsert\n",
       "    }\n",
       "\n",
       "    /* Handle when an output is cleared or removed */\n",
       "    events.on('clear_output.CodeCell', handleClearOutput);\n",
       "    events.on('delete.Cell', handleClearOutput);\n",
       "\n",
       "    /* Handle when a new output is added */\n",
       "    events.on('output_added.OutputArea', handleAddOutput);\n",
       "\n",
       "    /**\n",
       "     * Register the mime type and append_mime function with output_area\n",
       "     */\n",
       "    OutputArea.prototype.register_mime_type(EXEC_MIME_TYPE, append_mime, {\n",
       "      /* Is output safe? */\n",
       "      safe: true,\n",
       "      /* Index of renderer in `output_area.display_order` */\n",
       "      index: 0\n",
       "    });\n",
       "  }\n",
       "\n",
       "  // register the mime type if in Jupyter Notebook environment and previously unregistered\n",
       "  if (root.Jupyter !== undefined) {\n",
       "    const events = require('base/js/events');\n",
       "    const OutputArea = require('notebook/js/outputarea').OutputArea;\n",
       "\n",
       "    if (OutputArea.prototype.mime_types().indexOf(EXEC_MIME_TYPE) == -1) {\n",
       "      register_renderer(events, OutputArea);\n",
       "    }\n",
       "  }\n",
       "  if (typeof (root._bokeh_timeout) === \"undefined\" || force === true) {\n",
       "    root._bokeh_timeout = Date.now() + 5000;\n",
       "    root._bokeh_failed_load = false;\n",
       "  }\n",
       "\n",
       "  const NB_LOAD_WARNING = {'data': {'text/html':\n",
       "     \"<div style='background-color: #fdd'>\\n\"+\n",
       "     \"<p>\\n\"+\n",
       "     \"BokehJS does not appear to have successfully loaded. If loading BokehJS from CDN, this \\n\"+\n",
       "     \"may be due to a slow or bad network connection. Possible fixes:\\n\"+\n",
       "     \"</p>\\n\"+\n",
       "     \"<ul>\\n\"+\n",
       "     \"<li>re-rerun `output_notebook()` to attempt to load from CDN again, or</li>\\n\"+\n",
       "     \"<li>use INLINE resources instead, as so:</li>\\n\"+\n",
       "     \"</ul>\\n\"+\n",
       "     \"<code>\\n\"+\n",
       "     \"from bokeh.resources import INLINE\\n\"+\n",
       "     \"output_notebook(resources=INLINE)\\n\"+\n",
       "     \"</code>\\n\"+\n",
       "     \"</div>\"}};\n",
       "\n",
       "  function display_loaded() {\n",
       "    const el = document.getElementById(\"p1156\");\n",
       "    if (el != null) {\n",
       "      el.textContent = \"BokehJS is loading...\";\n",
       "    }\n",
       "    if (root.Bokeh !== undefined) {\n",
       "      if (el != null) {\n",
       "        el.textContent = \"BokehJS \" + root.Bokeh.version + \" successfully loaded.\";\n",
       "      }\n",
       "    } else if (Date.now() < root._bokeh_timeout) {\n",
       "      setTimeout(display_loaded, 100)\n",
       "    }\n",
       "  }\n",
       "\n",
       "  function run_callbacks() {\n",
       "    try {\n",
       "      root._bokeh_onload_callbacks.forEach(function(callback) {\n",
       "        if (callback != null)\n",
       "          callback();\n",
       "      });\n",
       "    } finally {\n",
       "      delete root._bokeh_onload_callbacks\n",
       "    }\n",
       "    console.debug(\"Bokeh: all callbacks have finished\");\n",
       "  }\n",
       "\n",
       "  function load_libs(css_urls, js_urls, callback) {\n",
       "    if (css_urls == null) css_urls = [];\n",
       "    if (js_urls == null) js_urls = [];\n",
       "\n",
       "    root._bokeh_onload_callbacks.push(callback);\n",
       "    if (root._bokeh_is_loading > 0) {\n",
       "      console.debug(\"Bokeh: BokehJS is being loaded, scheduling callback at\", now());\n",
       "      return null;\n",
       "    }\n",
       "    if (js_urls == null || js_urls.length === 0) {\n",
       "      run_callbacks();\n",
       "      return null;\n",
       "    }\n",
       "    console.debug(\"Bokeh: BokehJS not loaded, scheduling load and callback at\", now());\n",
       "    root._bokeh_is_loading = css_urls.length + js_urls.length;\n",
       "\n",
       "    function on_load() {\n",
       "      root._bokeh_is_loading--;\n",
       "      if (root._bokeh_is_loading === 0) {\n",
       "        console.debug(\"Bokeh: all BokehJS libraries/stylesheets loaded\");\n",
       "        run_callbacks()\n",
       "      }\n",
       "    }\n",
       "\n",
       "    function on_error(url) {\n",
       "      console.error(\"failed to load \" + url);\n",
       "    }\n",
       "\n",
       "    for (let i = 0; i < css_urls.length; i++) {\n",
       "      const url = css_urls[i];\n",
       "      const element = document.createElement(\"link\");\n",
       "      element.onload = on_load;\n",
       "      element.onerror = on_error.bind(null, url);\n",
       "      element.rel = \"stylesheet\";\n",
       "      element.type = \"text/css\";\n",
       "      element.href = url;\n",
       "      console.debug(\"Bokeh: injecting link tag for BokehJS stylesheet: \", url);\n",
       "      document.body.appendChild(element);\n",
       "    }\n",
       "\n",
       "    for (let i = 0; i < js_urls.length; i++) {\n",
       "      const url = js_urls[i];\n",
       "      const element = document.createElement('script');\n",
       "      element.onload = on_load;\n",
       "      element.onerror = on_error.bind(null, url);\n",
       "      element.async = false;\n",
       "      element.src = url;\n",
       "      console.debug(\"Bokeh: injecting script tag for BokehJS library: \", url);\n",
       "      document.head.appendChild(element);\n",
       "    }\n",
       "  };\n",
       "\n",
       "  function inject_raw_css(css) {\n",
       "    const element = document.createElement(\"style\");\n",
       "    element.appendChild(document.createTextNode(css));\n",
       "    document.body.appendChild(element);\n",
       "  }\n",
       "\n",
       "  const js_urls = [\"https://cdn.bokeh.org/bokeh/release/bokeh-3.0.3.min.js\", \"https://cdn.bokeh.org/bokeh/release/bokeh-gl-3.0.3.min.js\", \"https://cdn.bokeh.org/bokeh/release/bokeh-widgets-3.0.3.min.js\", \"https://cdn.bokeh.org/bokeh/release/bokeh-tables-3.0.3.min.js\", \"https://cdn.bokeh.org/bokeh/release/bokeh-mathjax-3.0.3.min.js\"];\n",
       "  const css_urls = [];\n",
       "\n",
       "  const inline_js = [    function(Bokeh) {\n",
       "      Bokeh.set_log_level(\"info\");\n",
       "    },\n",
       "function(Bokeh) {\n",
       "    }\n",
       "  ];\n",
       "\n",
       "  function run_inline_js() {\n",
       "    if (root.Bokeh !== undefined || force === true) {\n",
       "          for (let i = 0; i < inline_js.length; i++) {\n",
       "      inline_js[i].call(root, root.Bokeh);\n",
       "    }\n",
       "if (force === true) {\n",
       "        display_loaded();\n",
       "      }} else if (Date.now() < root._bokeh_timeout) {\n",
       "      setTimeout(run_inline_js, 100);\n",
       "    } else if (!root._bokeh_failed_load) {\n",
       "      console.log(\"Bokeh: BokehJS failed to load within specified timeout.\");\n",
       "      root._bokeh_failed_load = true;\n",
       "    } else if (force !== true) {\n",
       "      const cell = $(document.getElementById(\"p1156\")).parents('.cell').data().cell;\n",
       "      cell.output_area.append_execute_result(NB_LOAD_WARNING)\n",
       "    }\n",
       "  }\n",
       "\n",
       "  if (root._bokeh_is_loading === 0) {\n",
       "    console.debug(\"Bokeh: BokehJS loaded, going straight to plotting\");\n",
       "    run_inline_js();\n",
       "  } else {\n",
       "    load_libs(css_urls, js_urls, function() {\n",
       "      console.debug(\"Bokeh: BokehJS plotting callback run at\", now());\n",
       "      run_inline_js();\n",
       "    });\n",
       "  }\n",
       "}(window));"
      ],
      "application/vnd.bokehjs_load.v0+json": "(function(root) {\n  function now() {\n    return new Date();\n  }\n\n  const force = true;\n\n  if (typeof root._bokeh_onload_callbacks === \"undefined\" || force === true) {\n    root._bokeh_onload_callbacks = [];\n    root._bokeh_is_loading = undefined;\n  }\n\n\n  if (typeof (root._bokeh_timeout) === \"undefined\" || force === true) {\n    root._bokeh_timeout = Date.now() + 5000;\n    root._bokeh_failed_load = false;\n  }\n\n  const NB_LOAD_WARNING = {'data': {'text/html':\n     \"<div style='background-color: #fdd'>\\n\"+\n     \"<p>\\n\"+\n     \"BokehJS does not appear to have successfully loaded. If loading BokehJS from CDN, this \\n\"+\n     \"may be due to a slow or bad network connection. Possible fixes:\\n\"+\n     \"</p>\\n\"+\n     \"<ul>\\n\"+\n     \"<li>re-rerun `output_notebook()` to attempt to load from CDN again, or</li>\\n\"+\n     \"<li>use INLINE resources instead, as so:</li>\\n\"+\n     \"</ul>\\n\"+\n     \"<code>\\n\"+\n     \"from bokeh.resources import INLINE\\n\"+\n     \"output_notebook(resources=INLINE)\\n\"+\n     \"</code>\\n\"+\n     \"</div>\"}};\n\n  function display_loaded() {\n    const el = document.getElementById(\"p1156\");\n    if (el != null) {\n      el.textContent = \"BokehJS is loading...\";\n    }\n    if (root.Bokeh !== undefined) {\n      if (el != null) {\n        el.textContent = \"BokehJS \" + root.Bokeh.version + \" successfully loaded.\";\n      }\n    } else if (Date.now() < root._bokeh_timeout) {\n      setTimeout(display_loaded, 100)\n    }\n  }\n\n  function run_callbacks() {\n    try {\n      root._bokeh_onload_callbacks.forEach(function(callback) {\n        if (callback != null)\n          callback();\n      });\n    } finally {\n      delete root._bokeh_onload_callbacks\n    }\n    console.debug(\"Bokeh: all callbacks have finished\");\n  }\n\n  function load_libs(css_urls, js_urls, callback) {\n    if (css_urls == null) css_urls = [];\n    if (js_urls == null) js_urls = [];\n\n    root._bokeh_onload_callbacks.push(callback);\n    if (root._bokeh_is_loading > 0) {\n      console.debug(\"Bokeh: BokehJS is being loaded, scheduling callback at\", now());\n      return null;\n    }\n    if (js_urls == null || js_urls.length === 0) {\n      run_callbacks();\n      return null;\n    }\n    console.debug(\"Bokeh: BokehJS not loaded, scheduling load and callback at\", now());\n    root._bokeh_is_loading = css_urls.length + js_urls.length;\n\n    function on_load() {\n      root._bokeh_is_loading--;\n      if (root._bokeh_is_loading === 0) {\n        console.debug(\"Bokeh: all BokehJS libraries/stylesheets loaded\");\n        run_callbacks()\n      }\n    }\n\n    function on_error(url) {\n      console.error(\"failed to load \" + url);\n    }\n\n    for (let i = 0; i < css_urls.length; i++) {\n      const url = css_urls[i];\n      const element = document.createElement(\"link\");\n      element.onload = on_load;\n      element.onerror = on_error.bind(null, url);\n      element.rel = \"stylesheet\";\n      element.type = \"text/css\";\n      element.href = url;\n      console.debug(\"Bokeh: injecting link tag for BokehJS stylesheet: \", url);\n      document.body.appendChild(element);\n    }\n\n    for (let i = 0; i < js_urls.length; i++) {\n      const url = js_urls[i];\n      const element = document.createElement('script');\n      element.onload = on_load;\n      element.onerror = on_error.bind(null, url);\n      element.async = false;\n      element.src = url;\n      console.debug(\"Bokeh: injecting script tag for BokehJS library: \", url);\n      document.head.appendChild(element);\n    }\n  };\n\n  function inject_raw_css(css) {\n    const element = document.createElement(\"style\");\n    element.appendChild(document.createTextNode(css));\n    document.body.appendChild(element);\n  }\n\n  const js_urls = [\"https://cdn.bokeh.org/bokeh/release/bokeh-3.0.3.min.js\", \"https://cdn.bokeh.org/bokeh/release/bokeh-gl-3.0.3.min.js\", \"https://cdn.bokeh.org/bokeh/release/bokeh-widgets-3.0.3.min.js\", \"https://cdn.bokeh.org/bokeh/release/bokeh-tables-3.0.3.min.js\", \"https://cdn.bokeh.org/bokeh/release/bokeh-mathjax-3.0.3.min.js\"];\n  const css_urls = [];\n\n  const inline_js = [    function(Bokeh) {\n      Bokeh.set_log_level(\"info\");\n    },\nfunction(Bokeh) {\n    }\n  ];\n\n  function run_inline_js() {\n    if (root.Bokeh !== undefined || force === true) {\n          for (let i = 0; i < inline_js.length; i++) {\n      inline_js[i].call(root, root.Bokeh);\n    }\nif (force === true) {\n        display_loaded();\n      }} else if (Date.now() < root._bokeh_timeout) {\n      setTimeout(run_inline_js, 100);\n    } else if (!root._bokeh_failed_load) {\n      console.log(\"Bokeh: BokehJS failed to load within specified timeout.\");\n      root._bokeh_failed_load = true;\n    } else if (force !== true) {\n      const cell = $(document.getElementById(\"p1156\")).parents('.cell').data().cell;\n      cell.output_area.append_execute_result(NB_LOAD_WARNING)\n    }\n  }\n\n  if (root._bokeh_is_loading === 0) {\n    console.debug(\"Bokeh: BokehJS loaded, going straight to plotting\");\n    run_inline_js();\n  } else {\n    load_libs(css_urls, js_urls, function() {\n      console.debug(\"Bokeh: BokehJS plotting callback run at\", now());\n      run_inline_js();\n    });\n  }\n}(window));"
     },
     "metadata": {},
     "output_type": "display_data"
    },
    {
     "data": {
      "text/html": [
       "\n",
       "  <div id=\"e5caace9-2028-4b77-9141-e24a3035f223\" data-root-id=\"p1160\" style=\"display: contents;\"></div>\n"
      ]
     },
     "metadata": {},
     "output_type": "display_data"
    },
    {
     "data": {
      "application/javascript": [
       "(function(root) {\n",
       "  function embed_document(root) {\n",
       "  const docs_json = {\"981b0b63-cad2-4e99-84cf-d7ad4527b0f9\":{\"version\":\"3.0.3\",\"title\":\"Bokeh Application\",\"defs\":[],\"roots\":[{\"type\":\"object\",\"name\":\"Figure\",\"id\":\"p1160\",\"attributes\":{\"height\":400,\"x_range\":{\"type\":\"object\",\"name\":\"FactorRange\",\"id\":\"p1170\",\"attributes\":{\"factors\":[\"Category A\",\"Category B\",\"Category C\",\"Category D\",\"Category E\"]}},\"y_range\":{\"type\":\"object\",\"name\":\"DataRange1d\",\"id\":\"p1162\",\"attributes\":{\"start\":0}},\"x_scale\":{\"type\":\"object\",\"name\":\"CategoricalScale\",\"id\":\"p1174\"},\"y_scale\":{\"type\":\"object\",\"name\":\"LinearScale\",\"id\":\"p1176\"},\"title\":{\"type\":\"object\",\"name\":\"Title\",\"id\":\"p1163\",\"attributes\":{\"text\":\"Random Categorical Bar Chart\",\"text_font_size\":\"16pt\"}},\"renderers\":[{\"type\":\"object\",\"name\":\"GlyphRenderer\",\"id\":\"p1199\",\"attributes\":{\"data_source\":{\"type\":\"object\",\"name\":\"ColumnDataSource\",\"id\":\"p1157\",\"attributes\":{\"selected\":{\"type\":\"object\",\"name\":\"Selection\",\"id\":\"p1159\",\"attributes\":{\"indices\":[],\"line_indices\":[]}},\"selection_policy\":{\"type\":\"object\",\"name\":\"UnionRenderers\",\"id\":\"p1158\"},\"data\":{\"type\":\"map\",\"entries\":[[\"categories\",[\"Category A\",\"Category B\",\"Category C\",\"Category D\",\"Category E\"]],[\"values\",{\"type\":\"ndarray\",\"array\":{\"type\":\"bytes\",\"data\":\"EwAAAF0AAAAfAAAALgAAAGEAAAA=\"},\"shape\":[5],\"dtype\":\"int32\",\"order\":\"little\"}]]}}},\"view\":{\"type\":\"object\",\"name\":\"CDSView\",\"id\":\"p1200\",\"attributes\":{\"filter\":{\"type\":\"object\",\"name\":\"AllIndices\",\"id\":\"p1201\"}}},\"glyph\":{\"type\":\"object\",\"name\":\"VBar\",\"id\":\"p1196\",\"attributes\":{\"x\":{\"type\":\"field\",\"field\":\"categories\"},\"width\":{\"type\":\"value\",\"value\":0.8},\"top\":{\"type\":\"field\",\"field\":\"values\"},\"line_color\":{\"type\":\"value\",\"value\":\"#1f77b4\"},\"fill_color\":{\"type\":\"field\",\"field\":\"categories\",\"transform\":{\"type\":\"object\",\"name\":\"CategoricalColorMapper\",\"id\":\"p1192\",\"attributes\":{\"palette\":[\"#440154\",\"#440255\",\"#440357\",\"#450558\",\"#45065A\",\"#45085B\",\"#46095C\",\"#460B5E\",\"#460C5F\",\"#460E61\",\"#470F62\",\"#471163\",\"#471265\",\"#471466\",\"#471567\",\"#471669\",\"#47186A\",\"#48196B\",\"#481A6C\",\"#481C6E\",\"#481D6F\",\"#481E70\",\"#482071\",\"#482172\",\"#482273\",\"#482374\",\"#472575\",\"#472676\",\"#472777\",\"#472878\",\"#472A79\",\"#472B7A\",\"#472C7B\",\"#462D7C\",\"#462F7C\",\"#46307D\",\"#46317E\",\"#45327F\",\"#45347F\",\"#453580\",\"#453681\",\"#443781\",\"#443982\",\"#433A83\",\"#433B83\",\"#433C84\",\"#423D84\",\"#423E85\",\"#424085\",\"#414186\",\"#414286\",\"#404387\",\"#404487\",\"#3F4587\",\"#3F4788\",\"#3E4888\",\"#3E4989\",\"#3D4A89\",\"#3D4B89\",\"#3D4C89\",\"#3C4D8A\",\"#3C4E8A\",\"#3B508A\",\"#3B518A\",\"#3A528B\",\"#3A538B\",\"#39548B\",\"#39558B\",\"#38568B\",\"#38578C\",\"#37588C\",\"#37598C\",\"#365A8C\",\"#365B8C\",\"#355C8C\",\"#355D8C\",\"#345E8D\",\"#345F8D\",\"#33608D\",\"#33618D\",\"#32628D\",\"#32638D\",\"#31648D\",\"#31658D\",\"#31668D\",\"#30678D\",\"#30688D\",\"#2F698D\",\"#2F6A8D\",\"#2E6B8E\",\"#2E6C8E\",\"#2E6D8E\",\"#2D6E8E\",\"#2D6F8E\",\"#2C708E\",\"#2C718E\",\"#2C728E\",\"#2B738E\",\"#2B748E\",\"#2A758E\",\"#2A768E\",\"#2A778E\",\"#29788E\",\"#29798E\",\"#287A8E\",\"#287A8E\",\"#287B8E\",\"#277C8E\",\"#277D8E\",\"#277E8E\",\"#267F8E\",\"#26808E\",\"#26818E\",\"#25828E\",\"#25838D\",\"#24848D\",\"#24858D\",\"#24868D\",\"#23878D\",\"#23888D\",\"#23898D\",\"#22898D\",\"#228A8D\",\"#228B8D\",\"#218C8D\",\"#218D8C\",\"#218E8C\",\"#208F8C\",\"#20908C\",\"#20918C\",\"#1F928C\",\"#1F938B\",\"#1F948B\",\"#1F958B\",\"#1F968B\",\"#1E978A\",\"#1E988A\",\"#1E998A\",\"#1E998A\",\"#1E9A89\",\"#1E9B89\",\"#1E9C89\",\"#1E9D88\",\"#1E9E88\",\"#1E9F88\",\"#1EA087\",\"#1FA187\",\"#1FA286\",\"#1FA386\",\"#20A485\",\"#20A585\",\"#21A685\",\"#21A784\",\"#22A784\",\"#23A883\",\"#23A982\",\"#24AA82\",\"#25AB81\",\"#26AC81\",\"#27AD80\",\"#28AE7F\",\"#29AF7F\",\"#2AB07E\",\"#2BB17D\",\"#2CB17D\",\"#2EB27C\",\"#2FB37B\",\"#30B47A\",\"#32B57A\",\"#33B679\",\"#35B778\",\"#36B877\",\"#38B976\",\"#39B976\",\"#3BBA75\",\"#3DBB74\",\"#3EBC73\",\"#40BD72\",\"#42BE71\",\"#44BE70\",\"#45BF6F\",\"#47C06E\",\"#49C16D\",\"#4BC26C\",\"#4DC26B\",\"#4FC369\",\"#51C468\",\"#53C567\",\"#55C666\",\"#57C665\",\"#59C764\",\"#5BC862\",\"#5EC961\",\"#60C960\",\"#62CA5F\",\"#64CB5D\",\"#67CC5C\",\"#69CC5B\",\"#6BCD59\",\"#6DCE58\",\"#70CE56\",\"#72CF55\",\"#74D054\",\"#77D052\",\"#79D151\",\"#7CD24F\",\"#7ED24E\",\"#81D34C\",\"#83D34B\",\"#86D449\",\"#88D547\",\"#8BD546\",\"#8DD644\",\"#90D643\",\"#92D741\",\"#95D73F\",\"#97D83E\",\"#9AD83C\",\"#9DD93A\",\"#9FD938\",\"#A2DA37\",\"#A5DA35\",\"#A7DB33\",\"#AADB32\",\"#ADDC30\",\"#AFDC2E\",\"#B2DD2C\",\"#B5DD2B\",\"#B7DD29\",\"#BADE27\",\"#BDDE26\",\"#BFDF24\",\"#C2DF22\",\"#C5DF21\",\"#C7E01F\",\"#CAE01E\",\"#CDE01D\",\"#CFE11C\",\"#D2E11B\",\"#D4E11A\",\"#D7E219\",\"#DAE218\",\"#DCE218\",\"#DFE318\",\"#E1E318\",\"#E4E318\",\"#E7E419\",\"#E9E419\",\"#ECE41A\",\"#EEE51B\",\"#F1E51C\",\"#F3E51E\",\"#F6E61F\",\"#F8E621\",\"#FAE622\",\"#FDE724\"],\"factors\":[\"Category A\",\"Category B\",\"Category C\",\"Category D\",\"Category E\"]}}}}},\"nonselection_glyph\":{\"type\":\"object\",\"name\":\"VBar\",\"id\":\"p1197\",\"attributes\":{\"x\":{\"type\":\"field\",\"field\":\"categories\"},\"width\":{\"type\":\"value\",\"value\":0.8},\"top\":{\"type\":\"field\",\"field\":\"values\"},\"line_color\":{\"type\":\"value\",\"value\":\"#1f77b4\"},\"line_alpha\":{\"type\":\"value\",\"value\":0.1},\"fill_color\":{\"type\":\"field\",\"field\":\"categories\",\"transform\":{\"id\":\"p1192\"}},\"fill_alpha\":{\"type\":\"value\",\"value\":0.1},\"hatch_alpha\":{\"type\":\"value\",\"value\":0.1}}},\"muted_glyph\":{\"type\":\"object\",\"name\":\"VBar\",\"id\":\"p1198\",\"attributes\":{\"x\":{\"type\":\"field\",\"field\":\"categories\"},\"width\":{\"type\":\"value\",\"value\":0.8},\"top\":{\"type\":\"field\",\"field\":\"values\"},\"line_color\":{\"type\":\"value\",\"value\":\"#1f77b4\"},\"line_alpha\":{\"type\":\"value\",\"value\":0.2},\"fill_color\":{\"type\":\"field\",\"field\":\"categories\",\"transform\":{\"id\":\"p1192\"}},\"fill_alpha\":{\"type\":\"value\",\"value\":0.2},\"hatch_alpha\":{\"type\":\"value\",\"value\":0.2}}}}}],\"toolbar\":{\"type\":\"object\",\"name\":\"Toolbar\",\"id\":\"p1168\",\"attributes\":{\"tools\":[{\"type\":\"object\",\"name\":\"HoverTool\",\"id\":\"p1216\",\"attributes\":{\"renderers\":\"auto\",\"tooltips\":[[\"Category\",\"@categories\"],[\"Value\",\"@values\"]]}}]}},\"toolbar_location\":null,\"left\":[{\"type\":\"object\",\"name\":\"LinearAxis\",\"id\":\"p1184\",\"attributes\":{\"ticker\":{\"type\":\"object\",\"name\":\"BasicTicker\",\"id\":\"p1185\",\"attributes\":{\"mantissas\":[1,2,5]}},\"formatter\":{\"type\":\"object\",\"name\":\"BasicTickFormatter\",\"id\":\"p1187\"},\"axis_label\":\"Values\",\"major_label_policy\":{\"type\":\"object\",\"name\":\"AllLabels\",\"id\":\"p1186\"},\"major_label_text_font_size\":\"12pt\"}}],\"below\":[{\"type\":\"object\",\"name\":\"CategoricalAxis\",\"id\":\"p1178\",\"attributes\":{\"ticker\":{\"type\":\"object\",\"name\":\"CategoricalTicker\",\"id\":\"p1179\"},\"formatter\":{\"type\":\"object\",\"name\":\"CategoricalTickFormatter\",\"id\":\"p1181\"},\"axis_label\":\"Categories\",\"major_label_policy\":{\"type\":\"object\",\"name\":\"AllLabels\",\"id\":\"p1180\"},\"major_label_text_font_size\":\"12pt\"}}],\"center\":[{\"type\":\"object\",\"name\":\"Grid\",\"id\":\"p1183\",\"attributes\":{\"axis\":{\"id\":\"p1178\"},\"grid_line_color\":null}},{\"type\":\"object\",\"name\":\"Grid\",\"id\":\"p1190\",\"attributes\":{\"dimension\":1,\"axis\":{\"id\":\"p1184\"}}},{\"type\":\"object\",\"name\":\"Legend\",\"id\":\"p1214\",\"attributes\":{\"items\":[{\"type\":\"object\",\"name\":\"LegendItem\",\"id\":\"p1215\",\"attributes\":{\"label\":{\"type\":\"field\",\"field\":\"categories\"},\"renderers\":[{\"id\":\"p1199\"}]}}]}}]}}]}};\n",
       "  const render_items = [{\"docid\":\"981b0b63-cad2-4e99-84cf-d7ad4527b0f9\",\"roots\":{\"p1160\":\"e5caace9-2028-4b77-9141-e24a3035f223\"},\"root_ids\":[\"p1160\"]}];\n",
       "  root.Bokeh.embed.embed_items_notebook(docs_json, render_items);\n",
       "  }\n",
       "  if (root.Bokeh !== undefined) {\n",
       "    embed_document(root);\n",
       "  } else {\n",
       "    let attempts = 0;\n",
       "    const timer = setInterval(function(root) {\n",
       "      if (root.Bokeh !== undefined) {\n",
       "        clearInterval(timer);\n",
       "        embed_document(root);\n",
       "      } else {\n",
       "        attempts++;\n",
       "        if (attempts > 100) {\n",
       "          clearInterval(timer);\n",
       "          console.log(\"Bokeh: ERROR: Unable to run BokehJS code because BokehJS library is missing\");\n",
       "        }\n",
       "      }\n",
       "    }, 10, root)\n",
       "  }\n",
       "})(window);"
      ],
      "application/vnd.bokehjs_exec.v0+json": ""
     },
     "metadata": {
      "application/vnd.bokehjs_exec.v0+json": {
       "id": "p1160"
      }
     },
     "output_type": "display_data"
    }
   ],
   "source": [
    "from bokeh.transform import factor_cmap\n",
    "from bokeh.models import ColumnDataSource, HoverTool\n",
    "from bokeh.palettes import Viridis256\n",
    "\n",
    "output_notebook()\n",
    "\n",
    "categories = ['Category A', 'Category B', 'Category C', 'Category D', 'Category E']\n",
    "values = np.random.randint(10, 100, size=len(categories))  \n",
    "\n",
    "source = ColumnDataSource(data=dict(categories=categories, values=values))\n",
    "\n",
    "p = figure(x_range=categories, height=400, width=600, title=\"Random Categorical Bar Chart\",\n",
    "           toolbar_location=None, tools=\"\")\n",
    "p.vbar(x='categories', top='values', width=0.8, source=source, \n",
    "       legend_field=\"categories\", \n",
    "       fill_color=factor_cmap('categories', palette=Viridis256, factors=categories))\n",
    "\n",
    "hover = HoverTool()\n",
    "hover.tooltips = [(\"Category\", \"@categories\"), (\"Value\", \"@values\")]\n",
    "p.add_tools(hover)\n",
    "p.xaxis.axis_label = \"Categories\"\n",
    "p.yaxis.axis_label = \"Values\"\n",
    "p.xgrid.grid_line_color = None \n",
    "p.y_range.start = 0  \n",
    "p.title.text_font_size = \"16pt\"\n",
    "p.xaxis.major_label_text_font_size = \"12pt\"\n",
    "p.yaxis.major_label_text_font_size = \"12pt\"\n",
    "show(p)"
   ]
  },
  {
   "cell_type": "code",
   "execution_count": null,
   "id": "e116a46c-f333-4e25-8c51-cf3fc9f49cff",
   "metadata": {},
   "outputs": [],
   "source": []
  },
  {
   "cell_type": "markdown",
   "id": "effd478c-1936-4e88-8527-19bd00a3857a",
   "metadata": {},
   "source": [
    "20.Using Plotly, create a basic line plot of a randomly generated dataset, label the axes, and set the title as \n",
    "'Simple Line Plot'"
   ]
  },
  {
   "cell_type": "code",
   "execution_count": 4,
   "id": "75201f55-d6b0-4773-bac2-5cce544a2cd9",
   "metadata": {},
   "outputs": [
    {
     "name": "stdout",
     "output_type": "stream",
     "text": [
      "Requirement already satisfied: plotly in /opt/conda/lib/python3.10/site-packages (5.24.0)\n",
      "Requirement already satisfied: tenacity>=6.2.0 in /opt/conda/lib/python3.10/site-packages (from plotly) (9.0.0)\n",
      "Requirement already satisfied: packaging in /opt/conda/lib/python3.10/site-packages (from plotly) (22.0)\n",
      "Note: you may need to restart the kernel to use updated packages.\n"
     ]
    }
   ],
   "source": [
    "pip install plotly"
   ]
  },
  {
   "cell_type": "code",
   "execution_count": 5,
   "id": "c781b41d-75f9-41a3-834a-4ca7422aaac6",
   "metadata": {},
   "outputs": [
    {
     "data": {
      "application/vnd.plotly.v1+json": {
       "config": {
        "plotlyServerURL": "https://plot.ly"
       },
       "data": [
        {
         "mode": "lines",
         "name": "Random Data",
         "type": "scatter",
         "x": [
          0,
          0.10101010101010101,
          0.20202020202020202,
          0.30303030303030304,
          0.40404040404040403,
          0.5050505050505051,
          0.6060606060606061,
          0.7070707070707071,
          0.8080808080808081,
          0.9090909090909091,
          1.0101010101010102,
          1.1111111111111112,
          1.2121212121212122,
          1.3131313131313131,
          1.4141414141414141,
          1.5151515151515151,
          1.6161616161616161,
          1.7171717171717171,
          1.8181818181818181,
          1.9191919191919191,
          2.0202020202020203,
          2.121212121212121,
          2.2222222222222223,
          2.323232323232323,
          2.4242424242424243,
          2.525252525252525,
          2.6262626262626263,
          2.727272727272727,
          2.8282828282828283,
          2.929292929292929,
          3.0303030303030303,
          3.131313131313131,
          3.2323232323232323,
          3.3333333333333335,
          3.4343434343434343,
          3.5353535353535355,
          3.6363636363636362,
          3.7373737373737375,
          3.8383838383838382,
          3.9393939393939394,
          4.040404040404041,
          4.141414141414141,
          4.242424242424242,
          4.343434343434343,
          4.444444444444445,
          4.545454545454545,
          4.646464646464646,
          4.747474747474747,
          4.848484848484849,
          4.94949494949495,
          5.05050505050505,
          5.151515151515151,
          5.252525252525253,
          5.353535353535354,
          5.454545454545454,
          5.555555555555555,
          5.656565656565657,
          5.757575757575758,
          5.858585858585858,
          5.959595959595959,
          6.0606060606060606,
          6.161616161616162,
          6.262626262626262,
          6.363636363636363,
          6.4646464646464645,
          6.565656565656566,
          6.666666666666667,
          6.767676767676767,
          6.8686868686868685,
          6.96969696969697,
          7.070707070707071,
          7.171717171717171,
          7.2727272727272725,
          7.373737373737374,
          7.474747474747475,
          7.575757575757575,
          7.6767676767676765,
          7.777777777777778,
          7.878787878787879,
          7.979797979797979,
          8.080808080808081,
          8.181818181818182,
          8.282828282828282,
          8.383838383838384,
          8.484848484848484,
          8.585858585858587,
          8.686868686868687,
          8.787878787878787,
          8.88888888888889,
          8.98989898989899,
          9.09090909090909,
          9.191919191919192,
          9.292929292929292,
          9.393939393939394,
          9.494949494949495,
          9.595959595959595,
          9.696969696969697,
          9.797979797979798,
          9.8989898989899,
          10
         ],
         "y": [
          1.764052345967664,
          0.4001572083672233,
          0.9787379841057392,
          2.240893199201458,
          1.8675579901499675,
          -0.977277879876411,
          0.9500884175255894,
          -0.1513572082976979,
          -0.10321885179355784,
          0.41059850193837233,
          0.144043571160878,
          1.454273506962975,
          0.7610377251469934,
          0.12167501649282841,
          0.44386323274542566,
          0.33367432737426683,
          1.4940790731576061,
          -0.20515826376580087,
          0.31306770165090136,
          -0.8540957393017248,
          -2.5529898158340787,
          0.6536185954403606,
          0.8644361988595057,
          -0.7421650204064419,
          2.2697546239876076,
          -1.4543656745987648,
          0.04575851730144607,
          -0.1871838500258336,
          1.5327792143584575,
          1.469358769900285,
          0.1549474256969163,
          0.37816251960217356,
          -0.8877857476301128,
          -1.980796468223927,
          -0.3479121493261526,
          0.15634896910398005,
          1.2302906807277207,
          1.2023798487844113,
          -0.3873268174079523,
          -0.30230275057533557,
          -1.0485529650670926,
          -1.4200179371789752,
          -1.7062701906250126,
          1.9507753952317897,
          -0.5096521817516535,
          -0.4380743016111864,
          -1.2527953600499262,
          0.7774903558319101,
          -1.6138978475579515,
          -0.2127402802139687,
          -0.8954665611936756,
          0.386902497859262,
          -0.510805137568873,
          -1.180632184122412,
          -0.028182228338654868,
          0.42833187053041766,
          0.06651722238316789,
          0.3024718977397814,
          -0.6343220936809636,
          -0.3627411659871381,
          -0.672460447775951,
          -0.3595531615405413,
          -0.813146282044454,
          -1.7262826023316769,
          0.17742614225375283,
          -0.4017809362082619,
          -1.6301983469660446,
          0.4627822555257742,
          -0.9072983643832422,
          0.05194539579613895,
          0.7290905621775369,
          0.12898291075741067,
          1.1394006845433007,
          -1.2348258203536526,
          0.402341641177549,
          -0.6848100909403132,
          -0.8707971491818818,
          -0.5788496647644155,
          -0.31155253212737266,
          0.05616534222974544,
          -1.1651498407833565,
          0.9008264869541871,
          0.46566243973045984,
          -1.5362436862772237,
          1.4882521937955997,
          1.8958891760305832,
          1.1787795711596507,
          -0.17992483581235091,
          -1.0707526215105425,
          1.0544517269311366,
          -0.40317694697317963,
          1.2224450703824274,
          0.2082749780768603,
          0.9766390364837128,
          0.3563663971744019,
          0.7065731681919482,
          0.010500020720820478,
          1.7858704939058352,
          0.12691209270361992,
          0.40198936344470165
         ]
        }
       ],
       "layout": {
        "autosize": true,
        "template": {
         "data": {
          "bar": [
           {
            "error_x": {
             "color": "#2a3f5f"
            },
            "error_y": {
             "color": "#2a3f5f"
            },
            "marker": {
             "line": {
              "color": "#E5ECF6",
              "width": 0.5
             },
             "pattern": {
              "fillmode": "overlay",
              "size": 10,
              "solidity": 0.2
             }
            },
            "type": "bar"
           }
          ],
          "barpolar": [
           {
            "marker": {
             "line": {
              "color": "#E5ECF6",
              "width": 0.5
             },
             "pattern": {
              "fillmode": "overlay",
              "size": 10,
              "solidity": 0.2
             }
            },
            "type": "barpolar"
           }
          ],
          "carpet": [
           {
            "aaxis": {
             "endlinecolor": "#2a3f5f",
             "gridcolor": "white",
             "linecolor": "white",
             "minorgridcolor": "white",
             "startlinecolor": "#2a3f5f"
            },
            "baxis": {
             "endlinecolor": "#2a3f5f",
             "gridcolor": "white",
             "linecolor": "white",
             "minorgridcolor": "white",
             "startlinecolor": "#2a3f5f"
            },
            "type": "carpet"
           }
          ],
          "choropleth": [
           {
            "colorbar": {
             "outlinewidth": 0,
             "ticks": ""
            },
            "type": "choropleth"
           }
          ],
          "contour": [
           {
            "colorbar": {
             "outlinewidth": 0,
             "ticks": ""
            },
            "colorscale": [
             [
              0,
              "#0d0887"
             ],
             [
              0.1111111111111111,
              "#46039f"
             ],
             [
              0.2222222222222222,
              "#7201a8"
             ],
             [
              0.3333333333333333,
              "#9c179e"
             ],
             [
              0.4444444444444444,
              "#bd3786"
             ],
             [
              0.5555555555555556,
              "#d8576b"
             ],
             [
              0.6666666666666666,
              "#ed7953"
             ],
             [
              0.7777777777777778,
              "#fb9f3a"
             ],
             [
              0.8888888888888888,
              "#fdca26"
             ],
             [
              1,
              "#f0f921"
             ]
            ],
            "type": "contour"
           }
          ],
          "contourcarpet": [
           {
            "colorbar": {
             "outlinewidth": 0,
             "ticks": ""
            },
            "type": "contourcarpet"
           }
          ],
          "heatmap": [
           {
            "colorbar": {
             "outlinewidth": 0,
             "ticks": ""
            },
            "colorscale": [
             [
              0,
              "#0d0887"
             ],
             [
              0.1111111111111111,
              "#46039f"
             ],
             [
              0.2222222222222222,
              "#7201a8"
             ],
             [
              0.3333333333333333,
              "#9c179e"
             ],
             [
              0.4444444444444444,
              "#bd3786"
             ],
             [
              0.5555555555555556,
              "#d8576b"
             ],
             [
              0.6666666666666666,
              "#ed7953"
             ],
             [
              0.7777777777777778,
              "#fb9f3a"
             ],
             [
              0.8888888888888888,
              "#fdca26"
             ],
             [
              1,
              "#f0f921"
             ]
            ],
            "type": "heatmap"
           }
          ],
          "heatmapgl": [
           {
            "colorbar": {
             "outlinewidth": 0,
             "ticks": ""
            },
            "colorscale": [
             [
              0,
              "#0d0887"
             ],
             [
              0.1111111111111111,
              "#46039f"
             ],
             [
              0.2222222222222222,
              "#7201a8"
             ],
             [
              0.3333333333333333,
              "#9c179e"
             ],
             [
              0.4444444444444444,
              "#bd3786"
             ],
             [
              0.5555555555555556,
              "#d8576b"
             ],
             [
              0.6666666666666666,
              "#ed7953"
             ],
             [
              0.7777777777777778,
              "#fb9f3a"
             ],
             [
              0.8888888888888888,
              "#fdca26"
             ],
             [
              1,
              "#f0f921"
             ]
            ],
            "type": "heatmapgl"
           }
          ],
          "histogram": [
           {
            "marker": {
             "pattern": {
              "fillmode": "overlay",
              "size": 10,
              "solidity": 0.2
             }
            },
            "type": "histogram"
           }
          ],
          "histogram2d": [
           {
            "colorbar": {
             "outlinewidth": 0,
             "ticks": ""
            },
            "colorscale": [
             [
              0,
              "#0d0887"
             ],
             [
              0.1111111111111111,
              "#46039f"
             ],
             [
              0.2222222222222222,
              "#7201a8"
             ],
             [
              0.3333333333333333,
              "#9c179e"
             ],
             [
              0.4444444444444444,
              "#bd3786"
             ],
             [
              0.5555555555555556,
              "#d8576b"
             ],
             [
              0.6666666666666666,
              "#ed7953"
             ],
             [
              0.7777777777777778,
              "#fb9f3a"
             ],
             [
              0.8888888888888888,
              "#fdca26"
             ],
             [
              1,
              "#f0f921"
             ]
            ],
            "type": "histogram2d"
           }
          ],
          "histogram2dcontour": [
           {
            "colorbar": {
             "outlinewidth": 0,
             "ticks": ""
            },
            "colorscale": [
             [
              0,
              "#0d0887"
             ],
             [
              0.1111111111111111,
              "#46039f"
             ],
             [
              0.2222222222222222,
              "#7201a8"
             ],
             [
              0.3333333333333333,
              "#9c179e"
             ],
             [
              0.4444444444444444,
              "#bd3786"
             ],
             [
              0.5555555555555556,
              "#d8576b"
             ],
             [
              0.6666666666666666,
              "#ed7953"
             ],
             [
              0.7777777777777778,
              "#fb9f3a"
             ],
             [
              0.8888888888888888,
              "#fdca26"
             ],
             [
              1,
              "#f0f921"
             ]
            ],
            "type": "histogram2dcontour"
           }
          ],
          "mesh3d": [
           {
            "colorbar": {
             "outlinewidth": 0,
             "ticks": ""
            },
            "type": "mesh3d"
           }
          ],
          "parcoords": [
           {
            "line": {
             "colorbar": {
              "outlinewidth": 0,
              "ticks": ""
             }
            },
            "type": "parcoords"
           }
          ],
          "pie": [
           {
            "automargin": true,
            "type": "pie"
           }
          ],
          "scatter": [
           {
            "fillpattern": {
             "fillmode": "overlay",
             "size": 10,
             "solidity": 0.2
            },
            "type": "scatter"
           }
          ],
          "scatter3d": [
           {
            "line": {
             "colorbar": {
              "outlinewidth": 0,
              "ticks": ""
             }
            },
            "marker": {
             "colorbar": {
              "outlinewidth": 0,
              "ticks": ""
             }
            },
            "type": "scatter3d"
           }
          ],
          "scattercarpet": [
           {
            "marker": {
             "colorbar": {
              "outlinewidth": 0,
              "ticks": ""
             }
            },
            "type": "scattercarpet"
           }
          ],
          "scattergeo": [
           {
            "marker": {
             "colorbar": {
              "outlinewidth": 0,
              "ticks": ""
             }
            },
            "type": "scattergeo"
           }
          ],
          "scattergl": [
           {
            "marker": {
             "colorbar": {
              "outlinewidth": 0,
              "ticks": ""
             }
            },
            "type": "scattergl"
           }
          ],
          "scattermapbox": [
           {
            "marker": {
             "colorbar": {
              "outlinewidth": 0,
              "ticks": ""
             }
            },
            "type": "scattermapbox"
           }
          ],
          "scatterpolar": [
           {
            "marker": {
             "colorbar": {
              "outlinewidth": 0,
              "ticks": ""
             }
            },
            "type": "scatterpolar"
           }
          ],
          "scatterpolargl": [
           {
            "marker": {
             "colorbar": {
              "outlinewidth": 0,
              "ticks": ""
             }
            },
            "type": "scatterpolargl"
           }
          ],
          "scatterternary": [
           {
            "marker": {
             "colorbar": {
              "outlinewidth": 0,
              "ticks": ""
             }
            },
            "type": "scatterternary"
           }
          ],
          "surface": [
           {
            "colorbar": {
             "outlinewidth": 0,
             "ticks": ""
            },
            "colorscale": [
             [
              0,
              "#0d0887"
             ],
             [
              0.1111111111111111,
              "#46039f"
             ],
             [
              0.2222222222222222,
              "#7201a8"
             ],
             [
              0.3333333333333333,
              "#9c179e"
             ],
             [
              0.4444444444444444,
              "#bd3786"
             ],
             [
              0.5555555555555556,
              "#d8576b"
             ],
             [
              0.6666666666666666,
              "#ed7953"
             ],
             [
              0.7777777777777778,
              "#fb9f3a"
             ],
             [
              0.8888888888888888,
              "#fdca26"
             ],
             [
              1,
              "#f0f921"
             ]
            ],
            "type": "surface"
           }
          ],
          "table": [
           {
            "cells": {
             "fill": {
              "color": "#EBF0F8"
             },
             "line": {
              "color": "white"
             }
            },
            "header": {
             "fill": {
              "color": "#C8D4E3"
             },
             "line": {
              "color": "white"
             }
            },
            "type": "table"
           }
          ]
         },
         "layout": {
          "annotationdefaults": {
           "arrowcolor": "#2a3f5f",
           "arrowhead": 0,
           "arrowwidth": 1
          },
          "autotypenumbers": "strict",
          "coloraxis": {
           "colorbar": {
            "outlinewidth": 0,
            "ticks": ""
           }
          },
          "colorscale": {
           "diverging": [
            [
             0,
             "#8e0152"
            ],
            [
             0.1,
             "#c51b7d"
            ],
            [
             0.2,
             "#de77ae"
            ],
            [
             0.3,
             "#f1b6da"
            ],
            [
             0.4,
             "#fde0ef"
            ],
            [
             0.5,
             "#f7f7f7"
            ],
            [
             0.6,
             "#e6f5d0"
            ],
            [
             0.7,
             "#b8e186"
            ],
            [
             0.8,
             "#7fbc41"
            ],
            [
             0.9,
             "#4d9221"
            ],
            [
             1,
             "#276419"
            ]
           ],
           "sequential": [
            [
             0,
             "#0d0887"
            ],
            [
             0.1111111111111111,
             "#46039f"
            ],
            [
             0.2222222222222222,
             "#7201a8"
            ],
            [
             0.3333333333333333,
             "#9c179e"
            ],
            [
             0.4444444444444444,
             "#bd3786"
            ],
            [
             0.5555555555555556,
             "#d8576b"
            ],
            [
             0.6666666666666666,
             "#ed7953"
            ],
            [
             0.7777777777777778,
             "#fb9f3a"
            ],
            [
             0.8888888888888888,
             "#fdca26"
            ],
            [
             1,
             "#f0f921"
            ]
           ],
           "sequentialminus": [
            [
             0,
             "#0d0887"
            ],
            [
             0.1111111111111111,
             "#46039f"
            ],
            [
             0.2222222222222222,
             "#7201a8"
            ],
            [
             0.3333333333333333,
             "#9c179e"
            ],
            [
             0.4444444444444444,
             "#bd3786"
            ],
            [
             0.5555555555555556,
             "#d8576b"
            ],
            [
             0.6666666666666666,
             "#ed7953"
            ],
            [
             0.7777777777777778,
             "#fb9f3a"
            ],
            [
             0.8888888888888888,
             "#fdca26"
            ],
            [
             1,
             "#f0f921"
            ]
           ]
          },
          "colorway": [
           "#636efa",
           "#EF553B",
           "#00cc96",
           "#ab63fa",
           "#FFA15A",
           "#19d3f3",
           "#FF6692",
           "#B6E880",
           "#FF97FF",
           "#FECB52"
          ],
          "font": {
           "color": "#2a3f5f"
          },
          "geo": {
           "bgcolor": "white",
           "lakecolor": "white",
           "landcolor": "#E5ECF6",
           "showlakes": true,
           "showland": true,
           "subunitcolor": "white"
          },
          "hoverlabel": {
           "align": "left"
          },
          "hovermode": "closest",
          "mapbox": {
           "style": "light"
          },
          "paper_bgcolor": "white",
          "plot_bgcolor": "#E5ECF6",
          "polar": {
           "angularaxis": {
            "gridcolor": "white",
            "linecolor": "white",
            "ticks": ""
           },
           "bgcolor": "#E5ECF6",
           "radialaxis": {
            "gridcolor": "white",
            "linecolor": "white",
            "ticks": ""
           }
          },
          "scene": {
           "xaxis": {
            "backgroundcolor": "#E5ECF6",
            "gridcolor": "white",
            "gridwidth": 2,
            "linecolor": "white",
            "showbackground": true,
            "ticks": "",
            "zerolinecolor": "white"
           },
           "yaxis": {
            "backgroundcolor": "#E5ECF6",
            "gridcolor": "white",
            "gridwidth": 2,
            "linecolor": "white",
            "showbackground": true,
            "ticks": "",
            "zerolinecolor": "white"
           },
           "zaxis": {
            "backgroundcolor": "#E5ECF6",
            "gridcolor": "white",
            "gridwidth": 2,
            "linecolor": "white",
            "showbackground": true,
            "ticks": "",
            "zerolinecolor": "white"
           }
          },
          "shapedefaults": {
           "line": {
            "color": "#2a3f5f"
           }
          },
          "ternary": {
           "aaxis": {
            "gridcolor": "white",
            "linecolor": "white",
            "ticks": ""
           },
           "baxis": {
            "gridcolor": "white",
            "linecolor": "white",
            "ticks": ""
           },
           "bgcolor": "#E5ECF6",
           "caxis": {
            "gridcolor": "white",
            "linecolor": "white",
            "ticks": ""
           }
          },
          "title": {
           "x": 0.05
          },
          "xaxis": {
           "automargin": true,
           "gridcolor": "white",
           "linecolor": "white",
           "ticks": "",
           "title": {
            "standoff": 15
           },
           "zerolinecolor": "white",
           "zerolinewidth": 2
          },
          "yaxis": {
           "automargin": true,
           "gridcolor": "white",
           "linecolor": "white",
           "ticks": "",
           "title": {
            "standoff": 15
           },
           "zerolinecolor": "white",
           "zerolinewidth": 2
          }
         }
        },
        "title": {
         "text": "Simple Line Plot"
        },
        "xaxis": {
         "autorange": true,
         "range": [
          0,
          10
         ],
         "title": {
          "text": "X-axis"
         },
         "type": "linear"
        },
        "yaxis": {
         "autorange": true,
         "range": [
          -2.8209200624908393,
          2.5376848706443678
         ],
         "title": {
          "text": "Y-axis"
         },
         "type": "linear"
        }
       }
      },
      "image/png": "[encoded data removed]",
      "text/html": [
       "<div>                            <div id=\"59a4abac-133c-4d14-a161-336fbe10e7a6\" class=\"plotly-graph-div\" style=\"height:525px; width:100%;\"></div>            <script type=\"text/javascript\">                require([\"plotly\"], function(Plotly) {                    window.PLOTLYENV=window.PLOTLYENV || {};                                    if (document.getElementById(\"59a4abac-133c-4d14-a161-336fbe10e7a6\")) {                    Plotly.newPlot(                        \"59a4abac-133c-4d14-a161-336fbe10e7a6\",                        [{\"mode\":\"lines\",\"name\":\"Random Data\",\"x\":[0.0,0.10101010101010101,0.20202020202020202,0.30303030303030304,0.40404040404040403,0.5050505050505051,0.6060606060606061,0.7070707070707071,0.8080808080808081,0.9090909090909091,1.0101010101010102,1.1111111111111112,1.2121212121212122,1.3131313131313131,1.4141414141414141,1.5151515151515151,1.6161616161616161,1.7171717171717171,1.8181818181818181,1.9191919191919191,2.0202020202020203,2.121212121212121,2.2222222222222223,2.323232323232323,2.4242424242424243,2.525252525252525,2.6262626262626263,2.727272727272727,2.8282828282828283,2.929292929292929,3.0303030303030303,3.131313131313131,3.2323232323232323,3.3333333333333335,3.4343434343434343,3.5353535353535355,3.6363636363636362,3.7373737373737375,3.8383838383838382,3.9393939393939394,4.040404040404041,4.141414141414141,4.242424242424242,4.343434343434343,4.444444444444445,4.545454545454545,4.646464646464646,4.747474747474747,4.848484848484849,4.94949494949495,5.05050505050505,5.151515151515151,5.252525252525253,5.353535353535354,5.454545454545454,5.555555555555555,5.656565656565657,5.757575757575758,5.858585858585858,5.959595959595959,6.0606060606060606,6.161616161616162,6.262626262626262,6.363636363636363,6.4646464646464645,6.565656565656566,6.666666666666667,6.767676767676767,6.8686868686868685,6.96969696969697,7.070707070707071,7.171717171717171,7.2727272727272725,7.373737373737374,7.474747474747475,7.575757575757575,7.6767676767676765,7.777777777777778,7.878787878787879,7.979797979797979,8.080808080808081,8.181818181818182,8.282828282828282,8.383838383838384,8.484848484848484,8.585858585858587,8.686868686868687,8.787878787878787,8.88888888888889,8.98989898989899,9.09090909090909,9.191919191919192,9.292929292929292,9.393939393939394,9.494949494949495,9.595959595959595,9.696969696969697,9.797979797979798,9.8989898989899,10.0],\"y\":[1.764052345967664,0.4001572083672233,0.9787379841057392,2.240893199201458,1.8675579901499675,-0.977277879876411,0.9500884175255894,-0.1513572082976979,-0.10321885179355784,0.41059850193837233,0.144043571160878,1.454273506962975,0.7610377251469934,0.12167501649282841,0.44386323274542566,0.33367432737426683,1.4940790731576061,-0.20515826376580087,0.31306770165090136,-0.8540957393017248,-2.5529898158340787,0.6536185954403606,0.8644361988595057,-0.7421650204064419,2.2697546239876076,-1.4543656745987648,0.04575851730144607,-0.1871838500258336,1.5327792143584575,1.469358769900285,0.1549474256969163,0.37816251960217356,-0.8877857476301128,-1.980796468223927,-0.3479121493261526,0.15634896910398005,1.2302906807277207,1.2023798487844113,-0.3873268174079523,-0.30230275057533557,-1.0485529650670926,-1.4200179371789752,-1.7062701906250126,1.9507753952317897,-0.5096521817516535,-0.4380743016111864,-1.2527953600499262,0.7774903558319101,-1.6138978475579515,-0.2127402802139687,-0.8954665611936756,0.386902497859262,-0.510805137568873,-1.180632184122412,-0.028182228338654868,0.42833187053041766,0.06651722238316789,0.3024718977397814,-0.6343220936809636,-0.3627411659871381,-0.672460447775951,-0.3595531615405413,-0.813146282044454,-1.7262826023316769,0.17742614225375283,-0.4017809362082619,-1.6301983469660446,0.4627822555257742,-0.9072983643832422,0.05194539579613895,0.7290905621775369,0.12898291075741067,1.1394006845433007,-1.2348258203536526,0.402341641177549,-0.6848100909403132,-0.8707971491818818,-0.5788496647644155,-0.31155253212737266,0.05616534222974544,-1.1651498407833565,0.9008264869541871,0.46566243973045984,-1.5362436862772237,1.4882521937955997,1.8958891760305832,1.1787795711596507,-0.17992483581235091,-1.0707526215105425,1.0544517269311366,-0.40317694697317963,1.2224450703824274,0.2082749780768603,0.9766390364837128,0.3563663971744019,0.7065731681919482,0.010500020720820478,1.7858704939058352,0.12691209270361992,0.40198936344470165],\"type\":\"scatter\"}],                        {\"template\":{\"data\":{\"histogram2dcontour\":[{\"type\":\"histogram2dcontour\",\"colorbar\":{\"outlinewidth\":0,\"ticks\":\"\"},\"colorscale\":[[0.0,\"#0d0887\"],[0.1111111111111111,\"#46039f\"],[0.2222222222222222,\"#7201a8\"],[0.3333333333333333,\"#9c179e\"],[0.4444444444444444,\"#bd3786\"],[0.5555555555555556,\"#d8576b\"],[0.6666666666666666,\"#ed7953\"],[0.7777777777777778,\"#fb9f3a\"],[0.8888888888888888,\"#fdca26\"],[1.0,\"#f0f921\"]]}],\"choropleth\":[{\"type\":\"choropleth\",\"colorbar\":{\"outlinewidth\":0,\"ticks\":\"\"}}],\"histogram2d\":[{\"type\":\"histogram2d\",\"colorbar\":{\"outlinewidth\":0,\"ticks\":\"\"},\"colorscale\":[[0.0,\"#0d0887\"],[0.1111111111111111,\"#46039f\"],[0.2222222222222222,\"#7201a8\"],[0.3333333333333333,\"#9c179e\"],[0.4444444444444444,\"#bd3786\"],[0.5555555555555556,\"#d8576b\"],[0.6666666666666666,\"#ed7953\"],[0.7777777777777778,\"#fb9f3a\"],[0.8888888888888888,\"#fdca26\"],[1.0,\"#f0f921\"]]}],\"heatmap\":[{\"type\":\"heatmap\",\"colorbar\":{\"outlinewidth\":0,\"ticks\":\"\"},\"colorscale\":[[0.0,\"#0d0887\"],[0.1111111111111111,\"#46039f\"],[0.2222222222222222,\"#7201a8\"],[0.3333333333333333,\"#9c179e\"],[0.4444444444444444,\"#bd3786\"],[0.5555555555555556,\"#d8576b\"],[0.6666666666666666,\"#ed7953\"],[0.7777777777777778,\"#fb9f3a\"],[0.8888888888888888,\"#fdca26\"],[1.0,\"#f0f921\"]]}],\"heatmapgl\":[{\"type\":\"heatmapgl\",\"colorbar\":{\"outlinewidth\":0,\"ticks\":\"\"},\"colorscale\":[[0.0,\"#0d0887\"],[0.1111111111111111,\"#46039f\"],[0.2222222222222222,\"#7201a8\"],[0.3333333333333333,\"#9c179e\"],[0.4444444444444444,\"#bd3786\"],[0.5555555555555556,\"#d8576b\"],[0.6666666666666666,\"#ed7953\"],[0.7777777777777778,\"#fb9f3a\"],[0.8888888888888888,\"#fdca26\"],[1.0,\"#f0f921\"]]}],\"contourcarpet\":[{\"type\":\"contourcarpet\",\"colorbar\":{\"outlinewidth\":0,\"ticks\":\"\"}}],\"contour\":[{\"type\":\"contour\",\"colorbar\":{\"outlinewidth\":0,\"ticks\":\"\"},\"colorscale\":[[0.0,\"#0d0887\"],[0.1111111111111111,\"#46039f\"],[0.2222222222222222,\"#7201a8\"],[0.3333333333333333,\"#9c179e\"],[0.4444444444444444,\"#bd3786\"],[0.5555555555555556,\"#d8576b\"],[0.6666666666666666,\"#ed7953\"],[0.7777777777777778,\"#fb9f3a\"],[0.8888888888888888,\"#fdca26\"],[1.0,\"#f0f921\"]]}],\"surface\":[{\"type\":\"surface\",\"colorbar\":{\"outlinewidth\":0,\"ticks\":\"\"},\"colorscale\":[[0.0,\"#0d0887\"],[0.1111111111111111,\"#46039f\"],[0.2222222222222222,\"#7201a8\"],[0.3333333333333333,\"#9c179e\"],[0.4444444444444444,\"#bd3786\"],[0.5555555555555556,\"#d8576b\"],[0.6666666666666666,\"#ed7953\"],[0.7777777777777778,\"#fb9f3a\"],[0.8888888888888888,\"#fdca26\"],[1.0,\"#f0f921\"]]}],\"mesh3d\":[{\"type\":\"mesh3d\",\"colorbar\":{\"outlinewidth\":0,\"ticks\":\"\"}}],\"scatter\":[{\"fillpattern\":{\"fillmode\":\"overlay\",\"size\":10,\"solidity\":0.2},\"type\":\"scatter\"}],\"parcoords\":[{\"type\":\"parcoords\",\"line\":{\"colorbar\":{\"outlinewidth\":0,\"ticks\":\"\"}}}],\"scatterpolargl\":[{\"type\":\"scatterpolargl\",\"marker\":{\"colorbar\":{\"outlinewidth\":0,\"ticks\":\"\"}}}],\"bar\":[{\"error_x\":{\"color\":\"#2a3f5f\"},\"error_y\":{\"color\":\"#2a3f5f\"},\"marker\":{\"line\":{\"color\":\"#E5ECF6\",\"width\":0.5},\"pattern\":{\"fillmode\":\"overlay\",\"size\":10,\"solidity\":0.2}},\"type\":\"bar\"}],\"scattergeo\":[{\"type\":\"scattergeo\",\"marker\":{\"colorbar\":{\"outlinewidth\":0,\"ticks\":\"\"}}}],\"scatterpolar\":[{\"type\":\"scatterpolar\",\"marker\":{\"colorbar\":{\"outlinewidth\":0,\"ticks\":\"\"}}}],\"histogram\":[{\"marker\":{\"pattern\":{\"fillmode\":\"overlay\",\"size\":10,\"solidity\":0.2}},\"type\":\"histogram\"}],\"scattergl\":[{\"type\":\"scattergl\",\"marker\":{\"colorbar\":{\"outlinewidth\":0,\"ticks\":\"\"}}}],\"scatter3d\":[{\"type\":\"scatter3d\",\"line\":{\"colorbar\":{\"outlinewidth\":0,\"ticks\":\"\"}},\"marker\":{\"colorbar\":{\"outlinewidth\":0,\"ticks\":\"\"}}}],\"scattermapbox\":[{\"type\":\"scattermapbox\",\"marker\":{\"colorbar\":{\"outlinewidth\":0,\"ticks\":\"\"}}}],\"scatterternary\":[{\"type\":\"scatterternary\",\"marker\":{\"colorbar\":{\"outlinewidth\":0,\"ticks\":\"\"}}}],\"scattercarpet\":[{\"type\":\"scattercarpet\",\"marker\":{\"colorbar\":{\"outlinewidth\":0,\"ticks\":\"\"}}}],\"carpet\":[{\"aaxis\":{\"endlinecolor\":\"#2a3f5f\",\"gridcolor\":\"white\",\"linecolor\":\"white\",\"minorgridcolor\":\"white\",\"startlinecolor\":\"#2a3f5f\"},\"baxis\":{\"endlinecolor\":\"#2a3f5f\",\"gridcolor\":\"white\",\"linecolor\":\"white\",\"minorgridcolor\":\"white\",\"startlinecolor\":\"#2a3f5f\"},\"type\":\"carpet\"}],\"table\":[{\"cells\":{\"fill\":{\"color\":\"#EBF0F8\"},\"line\":{\"color\":\"white\"}},\"header\":{\"fill\":{\"color\":\"#C8D4E3\"},\"line\":{\"color\":\"white\"}},\"type\":\"table\"}],\"barpolar\":[{\"marker\":{\"line\":{\"color\":\"#E5ECF6\",\"width\":0.5},\"pattern\":{\"fillmode\":\"overlay\",\"size\":10,\"solidity\":0.2}},\"type\":\"barpolar\"}],\"pie\":[{\"automargin\":true,\"type\":\"pie\"}]},\"layout\":{\"autotypenumbers\":\"strict\",\"colorway\":[\"#636efa\",\"#EF553B\",\"#00cc96\",\"#ab63fa\",\"#FFA15A\",\"#19d3f3\",\"#FF6692\",\"#B6E880\",\"#FF97FF\",\"#FECB52\"],\"font\":{\"color\":\"#2a3f5f\"},\"hovermode\":\"closest\",\"hoverlabel\":{\"align\":\"left\"},\"paper_bgcolor\":\"white\",\"plot_bgcolor\":\"#E5ECF6\",\"polar\":{\"bgcolor\":\"#E5ECF6\",\"angularaxis\":{\"gridcolor\":\"white\",\"linecolor\":\"white\",\"ticks\":\"\"},\"radialaxis\":{\"gridcolor\":\"white\",\"linecolor\":\"white\",\"ticks\":\"\"}},\"ternary\":{\"bgcolor\":\"#E5ECF6\",\"aaxis\":{\"gridcolor\":\"white\",\"linecolor\":\"white\",\"ticks\":\"\"},\"baxis\":{\"gridcolor\":\"white\",\"linecolor\":\"white\",\"ticks\":\"\"},\"caxis\":{\"gridcolor\":\"white\",\"linecolor\":\"white\",\"ticks\":\"\"}},\"coloraxis\":{\"colorbar\":{\"outlinewidth\":0,\"ticks\":\"\"}},\"colorscale\":{\"sequential\":[[0.0,\"#0d0887\"],[0.1111111111111111,\"#46039f\"],[0.2222222222222222,\"#7201a8\"],[0.3333333333333333,\"#9c179e\"],[0.4444444444444444,\"#bd3786\"],[0.5555555555555556,\"#d8576b\"],[0.6666666666666666,\"#ed7953\"],[0.7777777777777778,\"#fb9f3a\"],[0.8888888888888888,\"#fdca26\"],[1.0,\"#f0f921\"]],\"sequentialminus\":[[0.0,\"#0d0887\"],[0.1111111111111111,\"#46039f\"],[0.2222222222222222,\"#7201a8\"],[0.3333333333333333,\"#9c179e\"],[0.4444444444444444,\"#bd3786\"],[0.5555555555555556,\"#d8576b\"],[0.6666666666666666,\"#ed7953\"],[0.7777777777777778,\"#fb9f3a\"],[0.8888888888888888,\"#fdca26\"],[1.0,\"#f0f921\"]],\"diverging\":[[0,\"#8e0152\"],[0.1,\"#c51b7d\"],[0.2,\"#de77ae\"],[0.3,\"#f1b6da\"],[0.4,\"#fde0ef\"],[0.5,\"#f7f7f7\"],[0.6,\"#e6f5d0\"],[0.7,\"#b8e186\"],[0.8,\"#7fbc41\"],[0.9,\"#4d9221\"],[1,\"#276419\"]]},\"xaxis\":{\"gridcolor\":\"white\",\"linecolor\":\"white\",\"ticks\":\"\",\"title\":{\"standoff\":15},\"zerolinecolor\":\"white\",\"automargin\":true,\"zerolinewidth\":2},\"yaxis\":{\"gridcolor\":\"white\",\"linecolor\":\"white\",\"ticks\":\"\",\"title\":{\"standoff\":15},\"zerolinecolor\":\"white\",\"automargin\":true,\"zerolinewidth\":2},\"scene\":{\"xaxis\":{\"backgroundcolor\":\"#E5ECF6\",\"gridcolor\":\"white\",\"linecolor\":\"white\",\"showbackground\":true,\"ticks\":\"\",\"zerolinecolor\":\"white\",\"gridwidth\":2},\"yaxis\":{\"backgroundcolor\":\"#E5ECF6\",\"gridcolor\":\"white\",\"linecolor\":\"white\",\"showbackground\":true,\"ticks\":\"\",\"zerolinecolor\":\"white\",\"gridwidth\":2},\"zaxis\":{\"backgroundcolor\":\"#E5ECF6\",\"gridcolor\":\"white\",\"linecolor\":\"white\",\"showbackground\":true,\"ticks\":\"\",\"zerolinecolor\":\"white\",\"gridwidth\":2}},\"shapedefaults\":{\"line\":{\"color\":\"#2a3f5f\"}},\"annotationdefaults\":{\"arrowcolor\":\"#2a3f5f\",\"arrowhead\":0,\"arrowwidth\":1},\"geo\":{\"bgcolor\":\"white\",\"landcolor\":\"#E5ECF6\",\"subunitcolor\":\"white\",\"showland\":true,\"showlakes\":true,\"lakecolor\":\"white\"},\"title\":{\"x\":0.05},\"mapbox\":{\"style\":\"light\"}}},\"title\":{\"text\":\"Simple Line Plot\"},\"xaxis\":{\"title\":{\"text\":\"X-axis\"}},\"yaxis\":{\"title\":{\"text\":\"Y-axis\"}}},                        {\"responsive\": true}                    ).then(function(){\n",
       "                            \n",
       "var gd = document.getElementById('59a4abac-133c-4d14-a161-336fbe10e7a6');\n",
       "var x = new MutationObserver(function (mutations, observer) {{\n",
       "        var display = window.getComputedStyle(gd).display;\n",
       "        if (!display || display === 'none') {{\n",
       "            console.log([gd, 'removed!']);\n",
       "            Plotly.purge(gd);\n",
       "            observer.disconnect();\n",
       "        }}\n",
       "}});\n",
       "\n",
       "// Listen for the removal of the full notebook cells\n",
       "var notebookContainer = gd.closest('#notebook-container');\n",
       "if (notebookContainer) {{\n",
       "    x.observe(notebookContainer, {childList: true});\n",
       "}}\n",
       "\n",
       "// Listen for the clearing of the current output cell\n",
       "var outputEl = gd.closest('.output');\n",
       "if (outputEl) {{\n",
       "    x.observe(outputEl, {childList: true});\n",
       "}}\n",
       "\n",
       "                        })                };                });            </script>        </div>"
      ]
     },
     "metadata": {},
     "output_type": "display_data"
    }
   ],
   "source": [
    "import numpy as np\n",
    "import plotly.graph_objects as go\n",
    "\n",
    "np.random.seed(0)  \n",
    "x = np.linspace(0, 10, 100)  \n",
    "y = np.random.randn(100)\n",
    "\n",
    "fig = go.Figure()\n",
    "fig.add_trace(go.Scatter(x=x, y=y, mode='lines', name='Random Data'))\n",
    "fig.update_layout(\n",
    "    title='Simple Line Plot',\n",
    "    xaxis_title='X-axis',\n",
    "    yaxis_title='Y-axis',\n",
    ")\n",
    "fig.show()"
   ]
  },
  {
   "cell_type": "code",
   "execution_count": null,
   "id": "948e8056-b196-4396-a216-770b5fc0cc37",
   "metadata": {},
   "outputs": [],
   "source": []
  },
  {
   "cell_type": "markdown",
   "id": "21751646-2620-410e-8127-cfd35a1a38c1",
   "metadata": {},
   "source": [
    "21.Using Plotly, create an interactive pie chart of randomly generated data, add labels and percentages, set \n",
    "the title as 'Interactive Pie Chart'"
   ]
  },
  {
   "cell_type": "code",
   "execution_count": 6,
   "id": "e14f8357-d532-4571-9c2c-4f273022b384",
   "metadata": {},
   "outputs": [
    {
     "data": {
      "application/vnd.plotly.v1+json": {
       "config": {
        "plotlyServerURL": "https://plot.ly"
       },
       "data": [
        {
         "insidetextorientation": "auto",
         "labels": [
          "Category 1",
          "Category 2",
          "Category 3",
          "Category 4",
          "Category 5"
         ],
         "textinfo": "label+percent",
         "type": "pie",
         "values": [
          45,
          48,
          65,
          68,
          68
         ]
        }
       ],
       "layout": {
        "autosize": true,
        "template": {
         "data": {
          "bar": [
           {
            "error_x": {
             "color": "#2a3f5f"
            },
            "error_y": {
             "color": "#2a3f5f"
            },
            "marker": {
             "line": {
              "color": "#E5ECF6",
              "width": 0.5
             },
             "pattern": {
              "fillmode": "overlay",
              "size": 10,
              "solidity": 0.2
             }
            },
            "type": "bar"
           }
          ],
          "barpolar": [
           {
            "marker": {
             "line": {
              "color": "#E5ECF6",
              "width": 0.5
             },
             "pattern": {
              "fillmode": "overlay",
              "size": 10,
              "solidity": 0.2
             }
            },
            "type": "barpolar"
           }
          ],
          "carpet": [
           {
            "aaxis": {
             "endlinecolor": "#2a3f5f",
             "gridcolor": "white",
             "linecolor": "white",
             "minorgridcolor": "white",
             "startlinecolor": "#2a3f5f"
            },
            "baxis": {
             "endlinecolor": "#2a3f5f",
             "gridcolor": "white",
             "linecolor": "white",
             "minorgridcolor": "white",
             "startlinecolor": "#2a3f5f"
            },
            "type": "carpet"
           }
          ],
          "choropleth": [
           {
            "colorbar": {
             "outlinewidth": 0,
             "ticks": ""
            },
            "type": "choropleth"
           }
          ],
          "contour": [
           {
            "colorbar": {
             "outlinewidth": 0,
             "ticks": ""
            },
            "colorscale": [
             [
              0,
              "#0d0887"
             ],
             [
              0.1111111111111111,
              "#46039f"
             ],
             [
              0.2222222222222222,
              "#7201a8"
             ],
             [
              0.3333333333333333,
              "#9c179e"
             ],
             [
              0.4444444444444444,
              "#bd3786"
             ],
             [
              0.5555555555555556,
              "#d8576b"
             ],
             [
              0.6666666666666666,
              "#ed7953"
             ],
             [
              0.7777777777777778,
              "#fb9f3a"
             ],
             [
              0.8888888888888888,
              "#fdca26"
             ],
             [
              1,
              "#f0f921"
             ]
            ],
            "type": "contour"
           }
          ],
          "contourcarpet": [
           {
            "colorbar": {
             "outlinewidth": 0,
             "ticks": ""
            },
            "type": "contourcarpet"
           }
          ],
          "heatmap": [
           {
            "colorbar": {
             "outlinewidth": 0,
             "ticks": ""
            },
            "colorscale": [
             [
              0,
              "#0d0887"
             ],
             [
              0.1111111111111111,
              "#46039f"
             ],
             [
              0.2222222222222222,
              "#7201a8"
             ],
             [
              0.3333333333333333,
              "#9c179e"
             ],
             [
              0.4444444444444444,
              "#bd3786"
             ],
             [
              0.5555555555555556,
              "#d8576b"
             ],
             [
              0.6666666666666666,
              "#ed7953"
             ],
             [
              0.7777777777777778,
              "#fb9f3a"
             ],
             [
              0.8888888888888888,
              "#fdca26"
             ],
             [
              1,
              "#f0f921"
             ]
            ],
            "type": "heatmap"
           }
          ],
          "heatmapgl": [
           {
            "colorbar": {
             "outlinewidth": 0,
             "ticks": ""
            },
            "colorscale": [
             [
              0,
              "#0d0887"
             ],
             [
              0.1111111111111111,
              "#46039f"
             ],
             [
              0.2222222222222222,
              "#7201a8"
             ],
             [
              0.3333333333333333,
              "#9c179e"
             ],
             [
              0.4444444444444444,
              "#bd3786"
             ],
             [
              0.5555555555555556,
              "#d8576b"
             ],
             [
              0.6666666666666666,
              "#ed7953"
             ],
             [
              0.7777777777777778,
              "#fb9f3a"
             ],
             [
              0.8888888888888888,
              "#fdca26"
             ],
             [
              1,
              "#f0f921"
             ]
            ],
            "type": "heatmapgl"
           }
          ],
          "histogram": [
           {
            "marker": {
             "pattern": {
              "fillmode": "overlay",
              "size": 10,
              "solidity": 0.2
             }
            },
            "type": "histogram"
           }
          ],
          "histogram2d": [
           {
            "colorbar": {
             "outlinewidth": 0,
             "ticks": ""
            },
            "colorscale": [
             [
              0,
              "#0d0887"
             ],
             [
              0.1111111111111111,
              "#46039f"
             ],
             [
              0.2222222222222222,
              "#7201a8"
             ],
             [
              0.3333333333333333,
              "#9c179e"
             ],
             [
              0.4444444444444444,
              "#bd3786"
             ],
             [
              0.5555555555555556,
              "#d8576b"
             ],
             [
              0.6666666666666666,
              "#ed7953"
             ],
             [
              0.7777777777777778,
              "#fb9f3a"
             ],
             [
              0.8888888888888888,
              "#fdca26"
             ],
             [
              1,
              "#f0f921"
             ]
            ],
            "type": "histogram2d"
           }
          ],
          "histogram2dcontour": [
           {
            "colorbar": {
             "outlinewidth": 0,
             "ticks": ""
            },
            "colorscale": [
             [
              0,
              "#0d0887"
             ],
             [
              0.1111111111111111,
              "#46039f"
             ],
             [
              0.2222222222222222,
              "#7201a8"
             ],
             [
              0.3333333333333333,
              "#9c179e"
             ],
             [
              0.4444444444444444,
              "#bd3786"
             ],
             [
              0.5555555555555556,
              "#d8576b"
             ],
             [
              0.6666666666666666,
              "#ed7953"
             ],
             [
              0.7777777777777778,
              "#fb9f3a"
             ],
             [
              0.8888888888888888,
              "#fdca26"
             ],
             [
              1,
              "#f0f921"
             ]
            ],
            "type": "histogram2dcontour"
           }
          ],
          "mesh3d": [
           {
            "colorbar": {
             "outlinewidth": 0,
             "ticks": ""
            },
            "type": "mesh3d"
           }
          ],
          "parcoords": [
           {
            "line": {
             "colorbar": {
              "outlinewidth": 0,
              "ticks": ""
             }
            },
            "type": "parcoords"
           }
          ],
          "pie": [
           {
            "automargin": true,
            "type": "pie"
           }
          ],
          "scatter": [
           {
            "fillpattern": {
             "fillmode": "overlay",
             "size": 10,
             "solidity": 0.2
            },
            "type": "scatter"
           }
          ],
          "scatter3d": [
           {
            "line": {
             "colorbar": {
              "outlinewidth": 0,
              "ticks": ""
             }
            },
            "marker": {
             "colorbar": {
              "outlinewidth": 0,
              "ticks": ""
             }
            },
            "type": "scatter3d"
           }
          ],
          "scattercarpet": [
           {
            "marker": {
             "colorbar": {
              "outlinewidth": 0,
              "ticks": ""
             }
            },
            "type": "scattercarpet"
           }
          ],
          "scattergeo": [
           {
            "marker": {
             "colorbar": {
              "outlinewidth": 0,
              "ticks": ""
             }
            },
            "type": "scattergeo"
           }
          ],
          "scattergl": [
           {
            "marker": {
             "colorbar": {
              "outlinewidth": 0,
              "ticks": ""
             }
            },
            "type": "scattergl"
           }
          ],
          "scattermapbox": [
           {
            "marker": {
             "colorbar": {
              "outlinewidth": 0,
              "ticks": ""
             }
            },
            "type": "scattermapbox"
           }
          ],
          "scatterpolar": [
           {
            "marker": {
             "colorbar": {
              "outlinewidth": 0,
              "ticks": ""
             }
            },
            "type": "scatterpolar"
           }
          ],
          "scatterpolargl": [
           {
            "marker": {
             "colorbar": {
              "outlinewidth": 0,
              "ticks": ""
             }
            },
            "type": "scatterpolargl"
           }
          ],
          "scatterternary": [
           {
            "marker": {
             "colorbar": {
              "outlinewidth": 0,
              "ticks": ""
             }
            },
            "type": "scatterternary"
           }
          ],
          "surface": [
           {
            "colorbar": {
             "outlinewidth": 0,
             "ticks": ""
            },
            "colorscale": [
             [
              0,
              "#0d0887"
             ],
             [
              0.1111111111111111,
              "#46039f"
             ],
             [
              0.2222222222222222,
              "#7201a8"
             ],
             [
              0.3333333333333333,
              "#9c179e"
             ],
             [
              0.4444444444444444,
              "#bd3786"
             ],
             [
              0.5555555555555556,
              "#d8576b"
             ],
             [
              0.6666666666666666,
              "#ed7953"
             ],
             [
              0.7777777777777778,
              "#fb9f3a"
             ],
             [
              0.8888888888888888,
              "#fdca26"
             ],
             [
              1,
              "#f0f921"
             ]
            ],
            "type": "surface"
           }
          ],
          "table": [
           {
            "cells": {
             "fill": {
              "color": "#EBF0F8"
             },
             "line": {
              "color": "white"
             }
            },
            "header": {
             "fill": {
              "color": "#C8D4E3"
             },
             "line": {
              "color": "white"
             }
            },
            "type": "table"
           }
          ]
         },
         "layout": {
          "annotationdefaults": {
           "arrowcolor": "#2a3f5f",
           "arrowhead": 0,
           "arrowwidth": 1
          },
          "autotypenumbers": "strict",
          "coloraxis": {
           "colorbar": {
            "outlinewidth": 0,
            "ticks": ""
           }
          },
          "colorscale": {
           "diverging": [
            [
             0,
             "#8e0152"
            ],
            [
             0.1,
             "#c51b7d"
            ],
            [
             0.2,
             "#de77ae"
            ],
            [
             0.3,
             "#f1b6da"
            ],
            [
             0.4,
             "#fde0ef"
            ],
            [
             0.5,
             "#f7f7f7"
            ],
            [
             0.6,
             "#e6f5d0"
            ],
            [
             0.7,
             "#b8e186"
            ],
            [
             0.8,
             "#7fbc41"
            ],
            [
             0.9,
             "#4d9221"
            ],
            [
             1,
             "#276419"
            ]
           ],
           "sequential": [
            [
             0,
             "#0d0887"
            ],
            [
             0.1111111111111111,
             "#46039f"
            ],
            [
             0.2222222222222222,
             "#7201a8"
            ],
            [
             0.3333333333333333,
             "#9c179e"
            ],
            [
             0.4444444444444444,
             "#bd3786"
            ],
            [
             0.5555555555555556,
             "#d8576b"
            ],
            [
             0.6666666666666666,
             "#ed7953"
            ],
            [
             0.7777777777777778,
             "#fb9f3a"
            ],
            [
             0.8888888888888888,
             "#fdca26"
            ],
            [
             1,
             "#f0f921"
            ]
           ],
           "sequentialminus": [
            [
             0,
             "#0d0887"
            ],
            [
             0.1111111111111111,
             "#46039f"
            ],
            [
             0.2222222222222222,
             "#7201a8"
            ],
            [
             0.3333333333333333,
             "#9c179e"
            ],
            [
             0.4444444444444444,
             "#bd3786"
            ],
            [
             0.5555555555555556,
             "#d8576b"
            ],
            [
             0.6666666666666666,
             "#ed7953"
            ],
            [
             0.7777777777777778,
             "#fb9f3a"
            ],
            [
             0.8888888888888888,
             "#fdca26"
            ],
            [
             1,
             "#f0f921"
            ]
           ]
          },
          "colorway": [
           "#636efa",
           "#EF553B",
           "#00cc96",
           "#ab63fa",
           "#FFA15A",
           "#19d3f3",
           "#FF6692",
           "#B6E880",
           "#FF97FF",
           "#FECB52"
          ],
          "font": {
           "color": "#2a3f5f"
          },
          "geo": {
           "bgcolor": "white",
           "lakecolor": "white",
           "landcolor": "#E5ECF6",
           "showlakes": true,
           "showland": true,
           "subunitcolor": "white"
          },
          "hoverlabel": {
           "align": "left"
          },
          "hovermode": "closest",
          "mapbox": {
           "style": "light"
          },
          "paper_bgcolor": "white",
          "plot_bgcolor": "#E5ECF6",
          "polar": {
           "angularaxis": {
            "gridcolor": "white",
            "linecolor": "white",
            "ticks": ""
           },
           "bgcolor": "#E5ECF6",
           "radialaxis": {
            "gridcolor": "white",
            "linecolor": "white",
            "ticks": ""
           }
          },
          "scene": {
           "xaxis": {
            "backgroundcolor": "#E5ECF6",
            "gridcolor": "white",
            "gridwidth": 2,
            "linecolor": "white",
            "showbackground": true,
            "ticks": "",
            "zerolinecolor": "white"
           },
           "yaxis": {
            "backgroundcolor": "#E5ECF6",
            "gridcolor": "white",
            "gridwidth": 2,
            "linecolor": "white",
            "showbackground": true,
            "ticks": "",
            "zerolinecolor": "white"
           },
           "zaxis": {
            "backgroundcolor": "#E5ECF6",
            "gridcolor": "white",
            "gridwidth": 2,
            "linecolor": "white",
            "showbackground": true,
            "ticks": "",
            "zerolinecolor": "white"
           }
          },
          "shapedefaults": {
           "line": {
            "color": "#2a3f5f"
           }
          },
          "ternary": {
           "aaxis": {
            "gridcolor": "white",
            "linecolor": "white",
            "ticks": ""
           },
           "baxis": {
            "gridcolor": "white",
            "linecolor": "white",
            "ticks": ""
           },
           "bgcolor": "#E5ECF6",
           "caxis": {
            "gridcolor": "white",
            "linecolor": "white",
            "ticks": ""
           }
          },
          "title": {
           "x": 0.05
          },
          "xaxis": {
           "automargin": true,
           "gridcolor": "white",
           "linecolor": "white",
           "ticks": "",
           "title": {
            "standoff": 15
           },
           "zerolinecolor": "white",
           "zerolinewidth": 2
          },
          "yaxis": {
           "automargin": true,
           "gridcolor": "white",
           "linecolor": "white",
           "ticks": "",
           "title": {
            "standoff": 15
           },
           "zerolinecolor": "white",
           "zerolinewidth": 2
          }
         }
        },
        "title": {
         "text": "Interactive Pie Chart"
        }
       }
      },
      "image/png": "[encoded data removed]",
      "text/html": [
       "<div>                            <div id=\"3bd41423-8a98-45cf-982b-4ac9a58494b5\" class=\"plotly-graph-div\" style=\"height:525px; width:100%;\"></div>            <script type=\"text/javascript\">                require([\"plotly\"], function(Plotly) {                    window.PLOTLYENV=window.PLOTLYENV || {};                                    if (document.getElementById(\"3bd41423-8a98-45cf-982b-4ac9a58494b5\")) {                    Plotly.newPlot(                        \"3bd41423-8a98-45cf-982b-4ac9a58494b5\",                        [{\"insidetextorientation\":\"auto\",\"labels\":[\"Category 1\",\"Category 2\",\"Category 3\",\"Category 4\",\"Category 5\"],\"textinfo\":\"label+percent\",\"values\":[45,48,65,68,68],\"type\":\"pie\"}],                        {\"template\":{\"data\":{\"histogram2dcontour\":[{\"type\":\"histogram2dcontour\",\"colorbar\":{\"outlinewidth\":0,\"ticks\":\"\"},\"colorscale\":[[0.0,\"#0d0887\"],[0.1111111111111111,\"#46039f\"],[0.2222222222222222,\"#7201a8\"],[0.3333333333333333,\"#9c179e\"],[0.4444444444444444,\"#bd3786\"],[0.5555555555555556,\"#d8576b\"],[0.6666666666666666,\"#ed7953\"],[0.7777777777777778,\"#fb9f3a\"],[0.8888888888888888,\"#fdca26\"],[1.0,\"#f0f921\"]]}],\"choropleth\":[{\"type\":\"choropleth\",\"colorbar\":{\"outlinewidth\":0,\"ticks\":\"\"}}],\"histogram2d\":[{\"type\":\"histogram2d\",\"colorbar\":{\"outlinewidth\":0,\"ticks\":\"\"},\"colorscale\":[[0.0,\"#0d0887\"],[0.1111111111111111,\"#46039f\"],[0.2222222222222222,\"#7201a8\"],[0.3333333333333333,\"#9c179e\"],[0.4444444444444444,\"#bd3786\"],[0.5555555555555556,\"#d8576b\"],[0.6666666666666666,\"#ed7953\"],[0.7777777777777778,\"#fb9f3a\"],[0.8888888888888888,\"#fdca26\"],[1.0,\"#f0f921\"]]}],\"heatmap\":[{\"type\":\"heatmap\",\"colorbar\":{\"outlinewidth\":0,\"ticks\":\"\"},\"colorscale\":[[0.0,\"#0d0887\"],[0.1111111111111111,\"#46039f\"],[0.2222222222222222,\"#7201a8\"],[0.3333333333333333,\"#9c179e\"],[0.4444444444444444,\"#bd3786\"],[0.5555555555555556,\"#d8576b\"],[0.6666666666666666,\"#ed7953\"],[0.7777777777777778,\"#fb9f3a\"],[0.8888888888888888,\"#fdca26\"],[1.0,\"#f0f921\"]]}],\"heatmapgl\":[{\"type\":\"heatmapgl\",\"colorbar\":{\"outlinewidth\":0,\"ticks\":\"\"},\"colorscale\":[[0.0,\"#0d0887\"],[0.1111111111111111,\"#46039f\"],[0.2222222222222222,\"#7201a8\"],[0.3333333333333333,\"#9c179e\"],[0.4444444444444444,\"#bd3786\"],[0.5555555555555556,\"#d8576b\"],[0.6666666666666666,\"#ed7953\"],[0.7777777777777778,\"#fb9f3a\"],[0.8888888888888888,\"#fdca26\"],[1.0,\"#f0f921\"]]}],\"contourcarpet\":[{\"type\":\"contourcarpet\",\"colorbar\":{\"outlinewidth\":0,\"ticks\":\"\"}}],\"contour\":[{\"type\":\"contour\",\"colorbar\":{\"outlinewidth\":0,\"ticks\":\"\"},\"colorscale\":[[0.0,\"#0d0887\"],[0.1111111111111111,\"#46039f\"],[0.2222222222222222,\"#7201a8\"],[0.3333333333333333,\"#9c179e\"],[0.4444444444444444,\"#bd3786\"],[0.5555555555555556,\"#d8576b\"],[0.6666666666666666,\"#ed7953\"],[0.7777777777777778,\"#fb9f3a\"],[0.8888888888888888,\"#fdca26\"],[1.0,\"#f0f921\"]]}],\"surface\":[{\"type\":\"surface\",\"colorbar\":{\"outlinewidth\":0,\"ticks\":\"\"},\"colorscale\":[[0.0,\"#0d0887\"],[0.1111111111111111,\"#46039f\"],[0.2222222222222222,\"#7201a8\"],[0.3333333333333333,\"#9c179e\"],[0.4444444444444444,\"#bd3786\"],[0.5555555555555556,\"#d8576b\"],[0.6666666666666666,\"#ed7953\"],[0.7777777777777778,\"#fb9f3a\"],[0.8888888888888888,\"#fdca26\"],[1.0,\"#f0f921\"]]}],\"mesh3d\":[{\"type\":\"mesh3d\",\"colorbar\":{\"outlinewidth\":0,\"ticks\":\"\"}}],\"scatter\":[{\"fillpattern\":{\"fillmode\":\"overlay\",\"size\":10,\"solidity\":0.2},\"type\":\"scatter\"}],\"parcoords\":[{\"type\":\"parcoords\",\"line\":{\"colorbar\":{\"outlinewidth\":0,\"ticks\":\"\"}}}],\"scatterpolargl\":[{\"type\":\"scatterpolargl\",\"marker\":{\"colorbar\":{\"outlinewidth\":0,\"ticks\":\"\"}}}],\"bar\":[{\"error_x\":{\"color\":\"#2a3f5f\"},\"error_y\":{\"color\":\"#2a3f5f\"},\"marker\":{\"line\":{\"color\":\"#E5ECF6\",\"width\":0.5},\"pattern\":{\"fillmode\":\"overlay\",\"size\":10,\"solidity\":0.2}},\"type\":\"bar\"}],\"scattergeo\":[{\"type\":\"scattergeo\",\"marker\":{\"colorbar\":{\"outlinewidth\":0,\"ticks\":\"\"}}}],\"scatterpolar\":[{\"type\":\"scatterpolar\",\"marker\":{\"colorbar\":{\"outlinewidth\":0,\"ticks\":\"\"}}}],\"histogram\":[{\"marker\":{\"pattern\":{\"fillmode\":\"overlay\",\"size\":10,\"solidity\":0.2}},\"type\":\"histogram\"}],\"scattergl\":[{\"type\":\"scattergl\",\"marker\":{\"colorbar\":{\"outlinewidth\":0,\"ticks\":\"\"}}}],\"scatter3d\":[{\"type\":\"scatter3d\",\"line\":{\"colorbar\":{\"outlinewidth\":0,\"ticks\":\"\"}},\"marker\":{\"colorbar\":{\"outlinewidth\":0,\"ticks\":\"\"}}}],\"scattermapbox\":[{\"type\":\"scattermapbox\",\"marker\":{\"colorbar\":{\"outlinewidth\":0,\"ticks\":\"\"}}}],\"scatterternary\":[{\"type\":\"scatterternary\",\"marker\":{\"colorbar\":{\"outlinewidth\":0,\"ticks\":\"\"}}}],\"scattercarpet\":[{\"type\":\"scattercarpet\",\"marker\":{\"colorbar\":{\"outlinewidth\":0,\"ticks\":\"\"}}}],\"carpet\":[{\"aaxis\":{\"endlinecolor\":\"#2a3f5f\",\"gridcolor\":\"white\",\"linecolor\":\"white\",\"minorgridcolor\":\"white\",\"startlinecolor\":\"#2a3f5f\"},\"baxis\":{\"endlinecolor\":\"#2a3f5f\",\"gridcolor\":\"white\",\"linecolor\":\"white\",\"minorgridcolor\":\"white\",\"startlinecolor\":\"#2a3f5f\"},\"type\":\"carpet\"}],\"table\":[{\"cells\":{\"fill\":{\"color\":\"#EBF0F8\"},\"line\":{\"color\":\"white\"}},\"header\":{\"fill\":{\"color\":\"#C8D4E3\"},\"line\":{\"color\":\"white\"}},\"type\":\"table\"}],\"barpolar\":[{\"marker\":{\"line\":{\"color\":\"#E5ECF6\",\"width\":0.5},\"pattern\":{\"fillmode\":\"overlay\",\"size\":10,\"solidity\":0.2}},\"type\":\"barpolar\"}],\"pie\":[{\"automargin\":true,\"type\":\"pie\"}]},\"layout\":{\"autotypenumbers\":\"strict\",\"colorway\":[\"#636efa\",\"#EF553B\",\"#00cc96\",\"#ab63fa\",\"#FFA15A\",\"#19d3f3\",\"#FF6692\",\"#B6E880\",\"#FF97FF\",\"#FECB52\"],\"font\":{\"color\":\"#2a3f5f\"},\"hovermode\":\"closest\",\"hoverlabel\":{\"align\":\"left\"},\"paper_bgcolor\":\"white\",\"plot_bgcolor\":\"#E5ECF6\",\"polar\":{\"bgcolor\":\"#E5ECF6\",\"angularaxis\":{\"gridcolor\":\"white\",\"linecolor\":\"white\",\"ticks\":\"\"},\"radialaxis\":{\"gridcolor\":\"white\",\"linecolor\":\"white\",\"ticks\":\"\"}},\"ternary\":{\"bgcolor\":\"#E5ECF6\",\"aaxis\":{\"gridcolor\":\"white\",\"linecolor\":\"white\",\"ticks\":\"\"},\"baxis\":{\"gridcolor\":\"white\",\"linecolor\":\"white\",\"ticks\":\"\"},\"caxis\":{\"gridcolor\":\"white\",\"linecolor\":\"white\",\"ticks\":\"\"}},\"coloraxis\":{\"colorbar\":{\"outlinewidth\":0,\"ticks\":\"\"}},\"colorscale\":{\"sequential\":[[0.0,\"#0d0887\"],[0.1111111111111111,\"#46039f\"],[0.2222222222222222,\"#7201a8\"],[0.3333333333333333,\"#9c179e\"],[0.4444444444444444,\"#bd3786\"],[0.5555555555555556,\"#d8576b\"],[0.6666666666666666,\"#ed7953\"],[0.7777777777777778,\"#fb9f3a\"],[0.8888888888888888,\"#fdca26\"],[1.0,\"#f0f921\"]],\"sequentialminus\":[[0.0,\"#0d0887\"],[0.1111111111111111,\"#46039f\"],[0.2222222222222222,\"#7201a8\"],[0.3333333333333333,\"#9c179e\"],[0.4444444444444444,\"#bd3786\"],[0.5555555555555556,\"#d8576b\"],[0.6666666666666666,\"#ed7953\"],[0.7777777777777778,\"#fb9f3a\"],[0.8888888888888888,\"#fdca26\"],[1.0,\"#f0f921\"]],\"diverging\":[[0,\"#8e0152\"],[0.1,\"#c51b7d\"],[0.2,\"#de77ae\"],[0.3,\"#f1b6da\"],[0.4,\"#fde0ef\"],[0.5,\"#f7f7f7\"],[0.6,\"#e6f5d0\"],[0.7,\"#b8e186\"],[0.8,\"#7fbc41\"],[0.9,\"#4d9221\"],[1,\"#276419\"]]},\"xaxis\":{\"gridcolor\":\"white\",\"linecolor\":\"white\",\"ticks\":\"\",\"title\":{\"standoff\":15},\"zerolinecolor\":\"white\",\"automargin\":true,\"zerolinewidth\":2},\"yaxis\":{\"gridcolor\":\"white\",\"linecolor\":\"white\",\"ticks\":\"\",\"title\":{\"standoff\":15},\"zerolinecolor\":\"white\",\"automargin\":true,\"zerolinewidth\":2},\"scene\":{\"xaxis\":{\"backgroundcolor\":\"#E5ECF6\",\"gridcolor\":\"white\",\"linecolor\":\"white\",\"showbackground\":true,\"ticks\":\"\",\"zerolinecolor\":\"white\",\"gridwidth\":2},\"yaxis\":{\"backgroundcolor\":\"#E5ECF6\",\"gridcolor\":\"white\",\"linecolor\":\"white\",\"showbackground\":true,\"ticks\":\"\",\"zerolinecolor\":\"white\",\"gridwidth\":2},\"zaxis\":{\"backgroundcolor\":\"#E5ECF6\",\"gridcolor\":\"white\",\"linecolor\":\"white\",\"showbackground\":true,\"ticks\":\"\",\"zerolinecolor\":\"white\",\"gridwidth\":2}},\"shapedefaults\":{\"line\":{\"color\":\"#2a3f5f\"}},\"annotationdefaults\":{\"arrowcolor\":\"#2a3f5f\",\"arrowhead\":0,\"arrowwidth\":1},\"geo\":{\"bgcolor\":\"white\",\"landcolor\":\"#E5ECF6\",\"subunitcolor\":\"white\",\"showland\":true,\"showlakes\":true,\"lakecolor\":\"white\"},\"title\":{\"x\":0.05},\"mapbox\":{\"style\":\"light\"}}},\"title\":{\"text\":\"Interactive Pie Chart\"}},                        {\"responsive\": true}                    ).then(function(){\n",
       "                            \n",
       "var gd = document.getElementById('3bd41423-8a98-45cf-982b-4ac9a58494b5');\n",
       "var x = new MutationObserver(function (mutations, observer) {{\n",
       "        var display = window.getComputedStyle(gd).display;\n",
       "        if (!display || display === 'none') {{\n",
       "            console.log([gd, 'removed!']);\n",
       "            Plotly.purge(gd);\n",
       "            observer.disconnect();\n",
       "        }}\n",
       "}});\n",
       "\n",
       "// Listen for the removal of the full notebook cells\n",
       "var notebookContainer = gd.closest('#notebook-container');\n",
       "if (notebookContainer) {{\n",
       "    x.observe(notebookContainer, {childList: true});\n",
       "}}\n",
       "\n",
       "// Listen for the clearing of the current output cell\n",
       "var outputEl = gd.closest('.output');\n",
       "if (outputEl) {{\n",
       "    x.observe(outputEl, {childList: true});\n",
       "}}\n",
       "\n",
       "                        })                };                });            </script>        </div>"
      ]
     },
     "metadata": {},
     "output_type": "display_data"
    }
   ],
   "source": [
    "import plotly.graph_objects as go\n",
    "import numpy as np\n",
    "\n",
    "np.random.seed(0) \n",
    "labels = [f'Category {i}' for i in range(1, 6)]\n",
    "values = np.random.randint(1, 100, size=len(labels))\n",
    "\n",
    "fig = go.Figure(data=[go.Pie(labels=labels, values=values, textinfo='label+percent', \n",
    "                             insidetextorientation='auto')])\n",
    "fig.update_layout(title_text='Interactive Pie Chart')\n",
    "fig.show()"
   ]
  },
  {
   "cell_type": "code",
   "execution_count": null,
   "id": "b4062b87-8743-4a81-b5cc-e168687ece92",
   "metadata": {},
   "outputs": [],
   "source": []
  }
 ],
 "metadata": {
  "kernelspec": {
   "display_name": "Python 3 (ipykernel)",
   "language": "python",
   "name": "python3"
  },
  "language_info": {
   "codemirror_mode": {
    "name": "ipython",
    "version": 3
   },
   "file_extension": ".py",
   "mimetype": "text/x-python",
   "name": "python",
   "nbconvert_exporter": "python",
   "pygments_lexer": "ipython3",
   "version": "3.10.8"
  }
 },
 "nbformat": 4,
 "nbformat_minor": 5
}
